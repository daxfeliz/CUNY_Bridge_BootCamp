{
 "cells": [
  {
   "cell_type": "markdown",
   "metadata": {},
   "source": [
    "# Session5 - Numpy & Matplotlib\n",
    "\n",
    "## Today's Agenda\n",
    "* Numpy\n",
    "* Matplotlib"
   ]
  },
  {
   "cell_type": "markdown",
   "metadata": {},
   "source": [
    "## [Numpy](http://www.numpy.org/) - Numerical Python\n",
    "\n",
    "From their website ([http://www.numpy.org/](http://www.numpy.org/)):\n",
    "\n",
    "> NumPy is the fundamental package for scientific computing with Python. \n",
    "> * a powerful N-dimensional array object\n",
    "> * sophisticated (broadcasting) functions\n",
    "> * tools for integrating C/C++ and Fortran code\n",
    "> * useful linear algebra, Fourier transform, and random number capabilities"
   ]
  },
  {
   "cell_type": "markdown",
   "metadata": {},
   "source": [
    "You can import __\"`numpy`\"__ like so:"
   ]
  },
  {
   "cell_type": "code",
   "execution_count": 2,
   "metadata": {},
   "outputs": [],
   "source": [
    "import numpy as np"
   ]
  },
  {
   "cell_type": "markdown",
   "metadata": {},
   "source": [
    "## Numpy arrays\n",
    "\n",
    "In standard Python, data is stored as lists, and multidimensional data as **lists of lists**. In `numpy`, however, we can now work with arrays. To get these arrays, we can use `np.asarray` to convert a list into an array. Below we take a quick look at how a list behaves differently from an array."
   ]
  },
  {
   "cell_type": "code",
   "execution_count": 3,
   "metadata": {},
   "outputs": [
    {
     "name": "stdout",
     "output_type": "stream",
     "text": [
      "[ 1  2  3  4  5  6  7  8  9 10]\n"
     ]
    }
   ],
   "source": [
    "# We first create an array `x`\n",
    "start = 1\n",
    "stop  = 11\n",
    "step  = 1\n",
    "\n",
    "x = np.arange(start, stop, step)\n",
    "\n",
    "print(x)"
   ]
  },
  {
   "cell_type": "markdown",
   "metadata": {},
   "source": [
    "We can also manipulate the array. For example, we can:\n",
    "\n",
    "- Multiply by two:"
   ]
  },
  {
   "cell_type": "code",
   "execution_count": 4,
   "metadata": {},
   "outputs": [
    {
     "data": {
      "text/plain": [
       "array([ 2,  4,  6,  8, 10, 12, 14, 16, 18, 20])"
      ]
     },
     "execution_count": 4,
     "metadata": {},
     "output_type": "execute_result"
    }
   ],
   "source": [
    "x * 2"
   ]
  },
  {
   "cell_type": "markdown",
   "metadata": {},
   "source": [
    "Recall, in a previous example we tried performing numerical operations on lists and saw different behaviors."
   ]
  },
  {
   "cell_type": "code",
   "execution_count": 6,
   "metadata": {},
   "outputs": [
    {
     "name": "stdout",
     "output_type": "stream",
     "text": [
      "[ 2  4  6  8 10 12 14 16 18 20] <class 'numpy.ndarray'>\n",
      "[1, 2, 3, 4, 5, 6, 7, 8, 9, 10, 1, 2, 3, 4, 5, 6, 7, 8, 9, 10] <class 'list'>\n"
     ]
    }
   ],
   "source": [
    "y = [1,2,3,4,5,6,7,8,9,10]\n",
    "\n",
    "print(x*2,type(x*2))\n",
    "print(y*2,type(y*2))"
   ]
  },
  {
   "cell_type": "markdown",
   "metadata": {},
   "source": [
    "- Take the square of all the values in the array:"
   ]
  },
  {
   "cell_type": "code",
   "execution_count": 7,
   "metadata": {},
   "outputs": [
    {
     "data": {
      "text/plain": [
       "array([  1,   4,   9,  16,  25,  36,  49,  64,  81, 100])"
      ]
     },
     "execution_count": 7,
     "metadata": {},
     "output_type": "execute_result"
    }
   ],
   "source": [
    "x ** 2"
   ]
  },
  {
   "cell_type": "markdown",
   "metadata": {},
   "source": [
    "- Or even do some math on it:"
   ]
  },
  {
   "cell_type": "code",
   "execution_count": 10,
   "metadata": {},
   "outputs": [
    {
     "data": {
      "text/plain": [
       "array([  6.33333333,  14.66666667,  25.        ,  37.33333333,\n",
       "        51.66666667,  68.        ,  86.33333333, 106.66666667,\n",
       "       129.        , 153.33333333])"
      ]
     },
     "execution_count": 10,
     "metadata": {},
     "output_type": "execute_result"
    }
   ],
   "source": [
    "(x**2) + (5*x) + (x / 3) #it's good practice to wrap operations in their own set of parentheses"
   ]
  },
  {
   "cell_type": "markdown",
   "metadata": {},
   "source": [
    "If we want to set up an array in numpy, we can use range to make a list and then convert it to an array, but we can also just create an array directly in numpy. `np.linspace` will do this with integers, and `np.arange` will do this with floats, and allows for non-integer steps."
   ]
  },
  {
   "cell_type": "code",
   "execution_count": 20,
   "metadata": {
    "jupyter": {
     "outputs_hidden": false
    }
   },
   "outputs": [
    {
     "name": "stdout",
     "output_type": "stream",
     "text": [
      "[1.  2.5 4.  5.5 7.  8.5]\n",
      "[1 2 3 4 5 6 7 8 9]\n",
      "[1. 2. 3. 4. 5. 6. 7. 8. 9.]\n"
     ]
    }
   ],
   "source": [
    "print(np.arange(1,10,1.5)) #note arange counts from zero, in steps of 1.5\n",
    "\n",
    "print(np.arange(1,10,1)) #note arange counts from zero, in steps of 1\n",
    "\n",
    "print(np.linspace(1,9,9)) #linspace provides exact inputs as a starting,ending point\n"
   ]
  },
  {
   "cell_type": "markdown",
   "metadata": {},
   "source": [
    "In numpy, we also have more options for quickly (and without much code) examining the contents of an array. One of the most helpful tools for this is `np.where`. `np.where` uses a conditional statement on the array and returns an array that contains indices of all the values that were true for the conditional statement. We can then call the original array and use the new array to get all the **values** that were true for the conditional statement.\n",
    "\n",
    "There are also functions like `max` and `min` that will give the maximum and minimum, respectively."
   ]
  },
  {
   "cell_type": "code",
   "execution_count": 23,
   "metadata": {
    "jupyter": {
     "outputs_hidden": false
    }
   },
   "outputs": [
    {
     "name": "stdout",
     "output_type": "stream",
     "text": [
      "[  0.    0.5   1.    1.5   2.    2.5   3.    3.5   4.    4.5   5.    5.5\n",
      "   6.    6.5   7.    7.5   8.    8.5   9.    9.5  10.   10.5  11.   11.5\n",
      "  12.   12.5  13.   13.5  14.   14.5  15.   15.5  16.   16.5  17.   17.5\n",
      "  18.   18.5  19.   19.5  20.   20.5  21.   21.5  22.   22.5  23.   23.5\n",
      "  24.   24.5  25.   25.5  26.   26.5  27.   27.5  28.   28.5  29.   29.5\n",
      "  30.   30.5  31.   31.5  32.   32.5  33.   33.5  34.   34.5  35.   35.5\n",
      "  36.   36.5  37.   37.5  38.   38.5  39.   39.5  40.   40.5  41.   41.5\n",
      "  42.   42.5  43.   43.5  44.   44.5  45.   45.5  46.   46.5  47.   47.5\n",
      "  48.   48.5  49.   49.5  50.   50.5  51.   51.5  52.   52.5  53.   53.5\n",
      "  54.   54.5  55.   55.5  56.   56.5  57.   57.5  58.   58.5  59.   59.5\n",
      "  60.   60.5  61.   61.5  62.   62.5  63.   63.5  64.   64.5  65.   65.5\n",
      "  66.   66.5  67.   67.5  68.   68.5  69.   69.5  70.   70.5  71.   71.5\n",
      "  72.   72.5  73.   73.5  74.   74.5  75.   75.5  76.   76.5  77.   77.5\n",
      "  78.   78.5  79.   79.5  80.   80.5  81.   81.5  82.   82.5  83.   83.5\n",
      "  84.   84.5  85.   85.5  86.   86.5  87.   87.5  88.   88.5  89.   89.5\n",
      "  90.   90.5  91.   91.5  92.   92.5  93.   93.5  94.   94.5  95.   95.5\n",
      "  96.   96.5  97.   97.5  98.   98.5  99.   99.5 100. ]\n"
     ]
    }
   ],
   "source": [
    "# Defining starting and ending values of the array, as well as the number of elements in the array.\n",
    "start = 0\n",
    "stop  = 100\n",
    "n_elements = 201\n",
    "\n",
    "x = np.linspace(start, stop, n_elements)\n",
    "\n",
    "print(x)"
   ]
  },
  {
   "cell_type": "markdown",
   "metadata": {},
   "source": [
    "And we can select only those values that are divisible by *5* using the \"%\" operator:"
   ]
  },
  {
   "cell_type": "code",
   "execution_count": 26,
   "metadata": {},
   "outputs": [
    {
     "name": "stdout",
     "output_type": "stream",
     "text": [
      "(array([  0,  10,  20,  30,  40,  50,  60,  70,  80,  90, 100, 110, 120,\n",
      "       130, 140, 150, 160, 170, 180, 190, 200]),)\n",
      " \n",
      "[  0.   5.  10.  15.  20.  25.  30.  35.  40.  45.  50.  55.  60.  65.\n",
      "  70.  75.  80.  85.  90.  95. 100.]\n"
     ]
    }
   ],
   "source": [
    "# This function returns the indices that match the criteria of `x % 5 == 0`:\n",
    "x_5 = np.where(x%5 == 0)\n",
    "\n",
    "print(x_5) #this is the list of indices\n",
    "\n",
    "print(' ')\n",
    "# And one can use those indices to *only* select those values:\n",
    "print(x[x_5]) # this are the elements of the list that match our criteria"
   ]
  },
  {
   "cell_type": "markdown",
   "metadata": {},
   "source": [
    "Or similarly in one line:"
   ]
  },
  {
   "cell_type": "code",
   "execution_count": 28,
   "metadata": {},
   "outputs": [
    {
     "data": {
      "text/plain": [
       "array([  0.,   5.,  10.,  15.,  20.,  25.,  30.,  35.,  40.,  45.,  50.,\n",
       "        55.,  60.,  65.,  70.,  75.,  80.,  85.,  90.,  95., 100.])"
      ]
     },
     "execution_count": 28,
     "metadata": {},
     "output_type": "execute_result"
    }
   ],
   "source": [
    "x[x%5 == 0]"
   ]
  },
  {
   "cell_type": "markdown",
   "metadata": {},
   "source": [
    "And you can find the `max` and ``min`` values of the array:"
   ]
  },
  {
   "cell_type": "code",
   "execution_count": 32,
   "metadata": {},
   "outputs": [
    {
     "name": "stdout",
     "output_type": "stream",
     "text": [
      "The minimum of \"x\" is \"0.0\"\n",
      "The maximum of \"x\" is \"100.0\"\n",
      "\n",
      "The minimum of x is: 0.0\n",
      "The maximum of x is: 100.0\n"
     ]
    }
   ],
   "source": [
    "print('The minimum of \"x\" is \"{0}\"'.format(x.min()))\n",
    "print('The maximum of \"x\" is \"{0}\"'.format(x.max()))\n",
    "\n",
    "print('')\n",
    "# numpy also has its own functions for min/max:\n",
    "print('The minimum of x is:', np.min(x))\n",
    "print('The maximum of x is:', np.max(x))\n"
   ]
  },
  {
   "cell_type": "markdown",
   "metadata": {},
   "source": [
    "Numpy also provides some tools for loading and saving data, loadtxt and savetxt. Here I'm using a function called transpose so that instead of each array being a row, they each get treated as a column.\n",
    "\n",
    "When we load the information again, it's now a 2D array. We can select parts of those arrays just as we could for 1D arrays."
   ]
  },
  {
   "cell_type": "code",
   "execution_count": 33,
   "metadata": {
    "jupyter": {
     "outputs_hidden": false
    }
   },
   "outputs": [
    {
     "name": "stdout",
     "output_type": "stream",
     "text": [
      "2D-array from file \"myfile.txt\":\n",
      "\n",
      " [[ 0.000000e+00  3.000000e+00]\n",
      " [ 2.000000e-01  2.000400e+00]\n",
      " [ 4.000000e-01  1.001600e+00]\n",
      " ...\n",
      " [ 9.960000e+01 -3.957984e+02]\n",
      " [ 9.980000e+01 -3.963996e+02]\n",
      " [ 1.000000e+02 -3.970000e+02]] \n",
      "\n",
      " \n",
      "Selecting certain elements from \"data\":\n",
      "\n",
      " [[0.     3.    ]\n",
      " [0.2    2.0004]\n",
      " [0.4    1.0016]] \n",
      "\n"
     ]
    }
   ],
   "source": [
    "start  = 0\n",
    "stop   = 100\n",
    "n_elem = 501\n",
    "\n",
    "x = np.linspace(start, stop, n_elem)\n",
    "\n",
    "# We can now create another array from `x`:\n",
    "y = (0.1*x)**2 - (5*x) + 3\n",
    "\n",
    "# And finally, we can dump `x` and `y` to a file:\n",
    "np.savetxt('myfile.txt', np.transpose([x,y]))\n",
    "\n",
    "# We can also load the data from `myfile.txt` and display it:\n",
    "data = np.loadtxt('myfile.txt')\n",
    "print('2D-array from file \"myfile.txt\":\\n\\n', data, '\\n')\n",
    "print(' ')\n",
    "\n",
    "# You can also select certain elements of the 2D-array\n",
    "print('Selecting certain elements from \"data\":\\n\\n', data[:3,:], '\\n')"
   ]
  },
  {
   "cell_type": "markdown",
   "metadata": {},
   "source": [
    "### Resources\n",
    "* Scientific Lectures on Python - __Numpy__: [iPython Notebook](https://github.com/jrjohansson/scientific-python-lectures/blob/master/Lecture-2-Numpy.ipynb)\n",
    "* Data Science iPython Notebooks - __Numpy__: [iPython Notebook](http://nbviewer.jupyter.org/github/donnemartin/data-science-ipython-notebooks/blob/master/numpy/numpy.ipynb)"
   ]
  },
  {
   "cell_type": "markdown",
   "metadata": {},
   "source": [
    "## [Matplotlib](http://matplotlib.org/)\n",
    "\n",
    "Matplotlib is a Python 2D plotting library which\n",
    "* produces publication quality figures in a variety of hardcopy formats and interactive environments across platforms\n",
    "* Quick way to visualize data from Python\n",
    "* Main plotting utility in Python\n",
    "\n",
    "From their website ([http://matplotlib.org/](http://matplotlib.org/)):\n",
    "\n",
    "> Matplotlib is a Python 2D plotting library which produces publication quality figures in a variety of hardcopy formats and interactive environments across platforms. Matplotlib can be used in Python scripts, the Python and IPython shell, the jupyter notebook, web application servers, and four graphical user interface toolkits.\n",
    "\n",
    "A great starting point to figuring out how to make a particular figure is to start from the [Matplotlib gallery](http://matplotlib.org/gallery.html) and look for what you want to make."
   ]
  },
  {
   "cell_type": "code",
   "execution_count": 34,
   "metadata": {
    "jupyter": {
     "outputs_hidden": false
    }
   },
   "outputs": [],
   "source": [
    "## Importing modules\n",
    "%matplotlib inline\n",
    "\n",
    "# Importing matplotlib and other modules\n",
    "import matplotlib.pyplot as plt\n",
    "import numpy as np"
   ]
  },
  {
   "cell_type": "markdown",
   "metadata": {},
   "source": [
    "We can now load in the data from `myfile.txt`"
   ]
  },
  {
   "cell_type": "code",
   "execution_count": 35,
   "metadata": {},
   "outputs": [],
   "source": [
    "data = np.loadtxt('myfile.txt')"
   ]
  },
  {
   "cell_type": "markdown",
   "metadata": {},
   "source": [
    "The simplest figure is to simply make a plot. We can have multiple figures, but for now, just one. The plt.plot function will connect the points, but if we want a scatter plot, then plt.scatter will work."
   ]
  },
  {
   "cell_type": "code",
   "execution_count": 36,
   "metadata": {
    "jupyter": {
     "outputs_hidden": false
    }
   },
   "outputs": [
    {
     "data": {
      "image/png": "[encoded data removed]",
      "text/plain": [
       "<Figure size 576x576 with 1 Axes>"
      ]
     },
     "metadata": {
      "needs_background": "light"
     },
     "output_type": "display_data"
    }
   ],
   "source": [
    "plt.figure(1, figsize=(8,8))\n",
    "plt.plot(data[:,0],data[:,1])\n",
    "plt.show()"
   ]
  },
  {
   "cell_type": "markdown",
   "metadata": {},
   "source": [
    "You can also pass the `*data.T` value instead:"
   ]
  },
  {
   "cell_type": "code",
   "execution_count": 37,
   "metadata": {},
   "outputs": [
    {
     "data": {
      "image/png": "[encoded data removed]",
      "text/plain": [
       "<Figure size 576x576 with 1 Axes>"
      ]
     },
     "metadata": {
      "needs_background": "light"
     },
     "output_type": "display_data"
    }
   ],
   "source": [
    "plt.figure(1, figsize=(8,8))\n",
    "plt.plot(*data.T)\n",
    "plt.show()"
   ]
  },
  {
   "cell_type": "markdown",
   "metadata": {},
   "source": [
    "We can take that same figure and add on the needed labels and titles."
   ]
  },
  {
   "cell_type": "code",
   "execution_count": 38,
   "metadata": {
    "jupyter": {
     "outputs_hidden": false
    }
   },
   "outputs": [
    {
     "data": {
      "image/png": "[encoded data removed]",
      "text/plain": [
       "<Figure size 576x576 with 1 Axes>"
      ]
     },
     "metadata": {
      "needs_background": "light"
     },
     "output_type": "display_data"
    }
   ],
   "source": [
    "# Creating figure\n",
    "plt.figure(figsize=(8,8))\n",
    "plt.plot(*data.T)\n",
    "plt.title('y = 0.2x^2 - 5x + 3')\n",
    "plt.xlabel('x value')\n",
    "plt.ylabel('y value')\n",
    "plt.show()"
   ]
  },
  {
   "cell_type": "markdown",
   "metadata": {},
   "source": [
    "There's a large number of options available for plotting, so try using the initial code below, combined with the information [here](https://matplotlib.org/stable/api/_as_gen/matplotlib.pyplot.plot.html) to try out a few of the following things: \n",
    "\n",
    "changing the line width, changing the line color, linestyle, changing the marker size and marker style"
   ]
  },
  {
   "cell_type": "code",
   "execution_count": 48,
   "metadata": {},
   "outputs": [
    {
     "name": "stderr",
     "output_type": "stream",
     "text": [
      "<ipython-input-48-f3cdc0655884>:15: UserWarning: Attempted to set non-positive left xlim on a log-scaled axis.\n",
      "Invalid limit will be ignored.\n",
      "  plt.xlim(np.min(data[:,0])-100,np.max(data[:,0])+100)\n"
     ]
    },
    {
     "data": {
      "image/png": "[encoded data removed]",
      "text/plain": [
       "<Figure size 576x576 with 1 Axes>"
      ]
     },
     "metadata": {
      "needs_background": "light"
     },
     "output_type": "display_data"
    }
   ],
   "source": [
    "# let's take the same data and make a semi-log plot by changing the scale of the x-axis\n",
    "\n",
    "plt.figure(figsize=(8,8))\n",
    "plt.plot(data[:,0],data[:,1],marker='.',color='black',linestyle='--',label='data')\n",
    "plt.plot(data[:,0],data[:,1]*3,marker='.',color='red',linestyle='--',label='data * 3')\n",
    "plt.title(r'$y = 0.2x^{2} - 5x + 3$', fontsize=20)\n",
    "\n",
    "plt.xscale('log')\n",
    "plt.xlabel('log x value', fontsize=20)\n",
    "\n",
    "plt.ylabel('y value', fontsize=20)\n",
    "plt.xticks(fontsize=16)\n",
    "plt.yticks(fontsize=16)\n",
    "\n",
    "plt.xlim(np.min(data[:,0])-100,np.max(data[:,0])+100)\n",
    "plt.ylim(-450,50)\n",
    "\n",
    "plt.legend(loc='upper right',fancybox=True,fontsize=20)\n",
    "plt.show()"
   ]
  },
  {
   "cell_type": "code",
   "execution_count": null,
   "metadata": {},
   "outputs": [],
   "source": []
  }
 ],
 "metadata": {
  "kernelspec": {
   "display_name": "Python 3",
   "language": "python",
   "name": "python3"
  },
  "language_info": {
   "codemirror_mode": {
    "name": "ipython",
    "version": 3
   },
   "file_extension": ".py",
   "mimetype": "text/x-python",
   "name": "python",
   "nbconvert_exporter": "python",
   "pygments_lexer": "ipython3",
   "version": "3.8.3"
  }
 },
 "nbformat": 4,
 "nbformat_minor": 4
}
