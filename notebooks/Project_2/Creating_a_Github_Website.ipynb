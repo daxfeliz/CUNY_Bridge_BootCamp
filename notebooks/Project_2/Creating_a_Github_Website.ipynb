{
 "cells": [
  {
   "cell_type": "markdown",
   "id": "133e9e84",
   "metadata": {},
   "source": [
    "# Project 2 - Creating a Website with GitHub Pages\n",
    "\n",
    "## Today's Agenda\n",
    "- Practice Creating a website using GitHub Pages\n",
    "- Practice editing a HTML template\n",
    "- Practice using Git to update Github Repositories"
   ]
  },
  {
   "cell_type": "markdown",
   "id": "354d1800",
   "metadata": {},
   "source": [
    "## How do I get started?\n",
    "\n",
    "GitHub has a [**GREAT TUTORIAL**](https://docs.github.com/en/pages/getting-started-with-github-pages/creating-a-github-pages-site) on how to create a repository for our websites"
   ]
  },
  {
   "cell_type": "markdown",
   "id": "679881a4",
   "metadata": {},
   "source": [
    "# After following the above instructions on creating a repository, we're going to find a template. HTML5 has some great example templates to use:\n",
    "\n",
    "\n",
    "## https://html5up.net/\n"
   ]
  },
  {
   "cell_type": "code",
   "execution_count": null,
   "id": "e9beca91",
   "metadata": {},
   "outputs": [],
   "source": []
  },
  {
   "cell_type": "markdown",
   "id": "d634f75a",
   "metadata": {},
   "source": [
    "# How to fire up a GitHub-Pages website\n",
    "\n",
    "Here is another [TUTORIAL](https://pages.github.com/) on how to take our existing repositories and link them to the GitHub servers to get our websites up and running."
   ]
  },
  {
   "cell_type": "code",
   "execution_count": null,
   "id": "bcda8ecc",
   "metadata": {},
   "outputs": [],
   "source": []
  },
  {
   "cell_type": "markdown",
   "id": "c3bf33a9",
   "metadata": {},
   "source": [
    "# FINAL STEPS FOR PROPER DEPLOYMENT OF WEBSITE: \n",
    "\n",
    "- From your repository, select \"**Settings**\" from the toolbar.\n",
    "\n",
    "- Then select \"**Pages**\"\n",
    "\n",
    "- Then under \"**Build and Deployment**\", select \"**Deploy from Branch**\"\n",
    "\n",
    "- Under \"**Branch**\", select \"**main**\".\n",
    "\n",
    "## NOTE: Github may be a bit slow on deploying your website initially. It could take anywhere between a few minutes to a day.\n",
    "\n",
    "## NOTE 2: I **think** you can only have ONE github webpage (https://username.github.io). Every OTHER repository you make a GitHub-Page for will be placed at: \n",
    "\n",
    "https://username.github.io/repository_name"
   ]
  },
  {
   "cell_type": "code",
   "execution_count": null,
   "id": "c398c29b",
   "metadata": {},
   "outputs": [],
   "source": []
  }
 ],
 "metadata": {
  "kernelspec": {
   "display_name": "Python 3 (ipykernel)",
   "language": "python",
   "name": "python3"
  },
  "language_info": {
   "codemirror_mode": {
    "name": "ipython",
    "version": 3
   },
   "file_extension": ".py",
   "mimetype": "text/x-python",
   "name": "python",
   "nbconvert_exporter": "python",
   "pygments_lexer": "ipython3",
   "version": "3.8.3"
  }
 },
 "nbformat": 4,
 "nbformat_minor": 5
}
