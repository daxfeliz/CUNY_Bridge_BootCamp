{
 "cells": [
  {
   "cell_type": "markdown",
   "metadata": {},
   "source": [
    "# Session 07 - Numpy II and Scipy\n",
    "\n",
    "## Today's Agenda\n",
    "- Numpy II\n",
    "- Scipy"
   ]
  },
  {
   "cell_type": "markdown",
   "metadata": {},
   "source": [
    "# Numpy II\n",
    "\n",
    "Last time in [Session 05](https://github.com/daxfeliz/CUNY_Bridge_BootCamp/notebooks/Notebook_05/05_Numpy_Matplotlib.ipynb), we covered `Numpy` and `Matplotlib`. This time we will be focusing on more advanced concepts of `Numpy`."
   ]
  },
  {
   "cell_type": "code",
   "execution_count": 1,
   "metadata": {},
   "outputs": [],
   "source": [
    "# Loading modules\n",
    "%matplotlib inline\n",
    "import numpy as np\n",
    "import matplotlib.pyplot as plt"
   ]
  },
  {
   "cell_type": "markdown",
   "metadata": {},
   "source": [
    "## Review\n",
    "As a review, let's explore some of the concepts that were introduced last time, in `Numpy I`.\n",
    "\n",
    "### Create 1D-arrays\n",
    "We introduced how to create a 1D-array"
   ]
  },
  {
   "cell_type": "code",
   "execution_count": 2,
   "metadata": {
    "jupyter": {
     "outputs_hidden": false
    }
   },
   "outputs": [
    {
     "data": {
      "text/plain": [
       "array([ 1.,  2.,  3.,  5.,  6.,  7.,  8., 10.])"
      ]
     },
     "execution_count": 2,
     "metadata": {},
     "output_type": "execute_result"
    }
   ],
   "source": [
    "x = np.array([1,2,3,5,6,7,8,10],dtype=float)\n",
    "x"
   ]
  },
  {
   "cell_type": "code",
   "execution_count": 3,
   "metadata": {
    "jupyter": {
     "outputs_hidden": false
    }
   },
   "outputs": [
    {
     "data": {
      "text/plain": [
       "array([0, 1, 2, 3, 4, 5, 6, 7, 8, 9])"
      ]
     },
     "execution_count": 3,
     "metadata": {},
     "output_type": "execute_result"
    }
   ],
   "source": [
    "y = np.arange(10)\n",
    "y"
   ]
  },
  {
   "cell_type": "code",
   "execution_count": 4,
   "metadata": {
    "jupyter": {
     "outputs_hidden": false
    }
   },
   "outputs": [
    {
     "data": {
      "text/plain": [
       "array([  0.        ,   2.04081633,   4.08163265,   6.12244898,\n",
       "         8.16326531,  10.20408163,  12.24489796,  14.28571429,\n",
       "        16.32653061,  18.36734694,  20.40816327,  22.44897959,\n",
       "        24.48979592,  26.53061224,  28.57142857,  30.6122449 ,\n",
       "        32.65306122,  34.69387755,  36.73469388,  38.7755102 ,\n",
       "        40.81632653,  42.85714286,  44.89795918,  46.93877551,\n",
       "        48.97959184,  51.02040816,  53.06122449,  55.10204082,\n",
       "        57.14285714,  59.18367347,  61.2244898 ,  63.26530612,\n",
       "        65.30612245,  67.34693878,  69.3877551 ,  71.42857143,\n",
       "        73.46938776,  75.51020408,  77.55102041,  79.59183673,\n",
       "        81.63265306,  83.67346939,  85.71428571,  87.75510204,\n",
       "        89.79591837,  91.83673469,  93.87755102,  95.91836735,\n",
       "        97.95918367, 100.        ])"
      ]
     },
     "execution_count": 4,
     "metadata": {},
     "output_type": "execute_result"
    }
   ],
   "source": [
    "z = np.linspace(0,100,50)\n",
    "z"
   ]
  },
  {
   "cell_type": "code",
   "execution_count": 5,
   "metadata": {
    "jupyter": {
     "outputs_hidden": false
    }
   },
   "outputs": [
    {
     "data": {
      "text/plain": [
       "array([ 1.00505224, -1.00886296, -0.56992888,  0.43806474,  0.21835597,\n",
       "       -0.38425907,  0.78570651,  1.0972081 , -0.62398069,  1.45296451,\n",
       "       -0.22474473, -1.36006346, -0.39511004, -0.8652843 , -2.40561362,\n",
       "       -0.0104817 , -0.83738417,  0.17155276,  1.98397824, -1.0974015 ,\n",
       "        0.5879577 , -0.34733598, -0.3192816 , -0.05093691,  1.3186595 ,\n",
       "        0.40768831,  1.2072173 , -0.01405048,  0.9034896 ,  1.34663918,\n",
       "        0.7437649 , -0.74901571, -1.09191259, -1.16803929,  1.14301522,\n",
       "       -1.38163053,  0.25401362,  2.02939231, -0.73990274, -2.09883069,\n",
       "       -0.20864388, -0.28803882, -2.27475095, -0.27983238, -0.3121398 ,\n",
       "       -0.86711735,  1.06713039,  1.22298294, -2.02186291,  0.26225704,\n",
       "       -0.14045033, -0.11836141, -0.48601574, -0.60804252, -0.30512369,\n",
       "        0.27533789, -1.21066372, -1.0428572 ,  0.2151902 , -0.14367644,\n",
       "        1.75236227, -1.44399579, -1.24585719, -0.19694917, -0.47288758,\n",
       "        1.43746304, -0.59261856, -0.42258497, -0.63549538,  0.14194856,\n",
       "        0.13584506, -0.58807449, -0.4384219 ,  0.1446779 , -1.77305747,\n",
       "       -0.93302273,  1.22479068, -0.99399424, -1.53776248, -1.05336829,\n",
       "        0.4388729 , -0.93606278, -0.25089722,  0.15674403,  0.65514022,\n",
       "       -0.41445038, -0.92271593, -0.91085077, -1.3848393 ,  0.02018476,\n",
       "        1.53243609, -0.53861466, -0.0866184 ,  1.22588321,  0.92236652,\n",
       "        0.34806768,  1.61762608, -0.53843792, -1.24911437, -0.84477275])"
      ]
     },
     "execution_count": 5,
     "metadata": {},
     "output_type": "execute_result"
    }
   ],
   "source": [
    "h = np.random.randn(100)\n",
    "h"
   ]
  },
  {
   "cell_type": "markdown",
   "metadata": {},
   "source": [
    "### Handling arrays\n",
    "\n",
    "These are just a few of the different ways to __create__ numpy arrays.\n",
    "\n",
    "You can also use functions like __np.max()__ and __np.min()__ to get the maximum and minimum values, respectively."
   ]
  },
  {
   "cell_type": "code",
   "execution_count": 75,
   "metadata": {
    "jupyter": {
     "outputs_hidden": false
    }
   },
   "outputs": [
    {
     "name": "stdout",
     "output_type": "stream",
     "text": [
      "Min X: 0.244 \t Max X: 249.981\n"
     ]
    }
   ],
   "source": [
    "print('Min X: {0:.3f} \\t Max X: {1:.3f}'.format(np.min(x), np.max(x)) ) \n",
    "#note the format options {0:.3f} are used for printing the number of digits in min/max of x"
   ]
  },
  {
   "cell_type": "markdown",
   "metadata": {},
   "source": [
    "#### Apply mathematical functions"
   ]
  },
  {
   "cell_type": "code",
   "execution_count": 7,
   "metadata": {
    "jupyter": {
     "outputs_hidden": false
    }
   },
   "outputs": [
    {
     "data": {
      "text/plain": [
       "array([   4.,   28.,   90.,  400.,  684., 1078., 1600., 3100.])"
      ]
     },
     "execution_count": 7,
     "metadata": {},
     "output_type": "execute_result"
    }
   ],
   "source": [
    "zz = x**2 + 3*x**3\n",
    "zz"
   ]
  },
  {
   "cell_type": "markdown",
   "metadata": {},
   "source": [
    "#### Conditionals\n",
    "Find the indices of the elements in an array that meet some criteria.\n",
    "In this example, we're finding all the elements that are within 100 and 500 in array ___\"```zz```\"___."
   ]
  },
  {
   "cell_type": "code",
   "execution_count": 8,
   "metadata": {
    "jupyter": {
     "outputs_hidden": false
    }
   },
   "outputs": [
    {
     "name": "stdout",
     "output_type": "stream",
     "text": [
      "zz_idx: [3]\n"
     ]
    },
    {
     "data": {
      "text/plain": [
       "array([400.])"
      ]
     },
     "execution_count": 8,
     "metadata": {},
     "output_type": "execute_result"
    }
   ],
   "source": [
    "zz_idx = np.where((zz>= 100)&(zz <= 500))[0]\n",
    "print('zz_idx: {0}'.format(zz_idx))\n",
    "\n",
    "zz[zz_idx]"
   ]
  },
  {
   "cell_type": "markdown",
   "metadata": {},
   "source": [
    "## Manipulating Arrays\n",
    "There are a lot of things we can do to a _numpy array_. "
   ]
  },
  {
   "cell_type": "code",
   "execution_count": 9,
   "metadata": {
    "jupyter": {
     "outputs_hidden": false
    }
   },
   "outputs": [
    {
     "data": {
      "text/plain": [
       "array([43, 10, 41, 20, 24, 23, 46, 33, 38, 28, 38, 43, 13, 49, 33, 31, 10,\n",
       "       29, 45, 49, 33, 44, 15, 46, 25, 37, 42, 45, 42, 14, 34, 21, 10, 36,\n",
       "       44, 49, 10, 31, 47, 38, 14, 22, 17, 48, 22, 34, 13, 32, 45, 21])"
      ]
     },
     "execution_count": 9,
     "metadata": {},
     "output_type": "execute_result"
    }
   ],
   "source": [
    "h1 = np.random.randint(10, 50, 50)\n",
    "h1"
   ]
  },
  {
   "cell_type": "markdown",
   "metadata": {},
   "source": [
    "We can get the overall __size__ and __shape__ of the array.\n",
    "\n",
    "We cane use the functions `numpy.size` and `numpy.shape` to get the total number of elements in an array and the shape of the array, respectively."
   ]
  },
  {
   "cell_type": "code",
   "execution_count": 10,
   "metadata": {
    "jupyter": {
     "outputs_hidden": false
    }
   },
   "outputs": [
    {
     "data": {
      "text/plain": [
       "50"
      ]
     },
     "execution_count": 10,
     "metadata": {},
     "output_type": "execute_result"
    }
   ],
   "source": [
    "np.size(h1)"
   ]
  },
  {
   "cell_type": "code",
   "execution_count": 11,
   "metadata": {
    "jupyter": {
     "outputs_hidden": false
    }
   },
   "outputs": [
    {
     "data": {
      "text/plain": [
       "(50,)"
      ]
     },
     "execution_count": 11,
     "metadata": {},
     "output_type": "execute_result"
    }
   ],
   "source": [
    "h1.shape"
   ]
  },
  {
   "cell_type": "code",
   "execution_count": 12,
   "metadata": {
    "jupyter": {
     "outputs_hidden": false
    }
   },
   "outputs": [
    {
     "data": {
      "text/plain": [
       "array([[ 1,  2,  3,  4,  5],\n",
       "       [ 6,  7,  8,  9, 10],\n",
       "       [12, 13, 14, 16, 17],\n",
       "       [13, 45, 67, 89, 90]])"
      ]
     },
     "execution_count": 12,
     "metadata": {},
     "output_type": "execute_result"
    }
   ],
   "source": [
    "A = np.array([[1,2,3,4,5],\n",
    "              [6,7,8,9,10],\n",
    "              [12,13,14,16,17],\n",
    "              [13,45,67,89,90] ])\n",
    "A"
   ]
  },
  {
   "cell_type": "code",
   "execution_count": 13,
   "metadata": {
    "jupyter": {
     "outputs_hidden": false
    }
   },
   "outputs": [
    {
     "data": {
      "text/plain": [
       "(4, 5)"
      ]
     },
     "execution_count": 13,
     "metadata": {},
     "output_type": "execute_result"
    }
   ],
   "source": [
    "np.shape(A)"
   ]
  },
  {
   "cell_type": "markdown",
   "metadata": {},
   "source": [
    "You can also __transpose__ array `A`."
   ]
  },
  {
   "cell_type": "code",
   "execution_count": 14,
   "metadata": {
    "jupyter": {
     "outputs_hidden": false
    }
   },
   "outputs": [
    {
     "data": {
      "text/plain": [
       "array([[ 1,  6, 12, 13],\n",
       "       [ 2,  7, 13, 45],\n",
       "       [ 3,  8, 14, 67],\n",
       "       [ 4,  9, 16, 89],\n",
       "       [ 5, 10, 17, 90]])"
      ]
     },
     "execution_count": 14,
     "metadata": {},
     "output_type": "execute_result"
    }
   ],
   "source": [
    "A_t = np.transpose(A)\n",
    "A_t"
   ]
  },
  {
   "cell_type": "markdown",
   "metadata": {},
   "source": [
    "Why are `Numpy` arrays better than lists:\n",
    "- Python lists are very _general_.\n",
    "- Lists __do not__ support matrix and dot multiplications, etc.\n",
    "- `Numpy` arrays are memory _efficient_.\n",
    "- Numpy arrays are __statically typed__ and __homogeneous__.\n",
    "- They are fast at mathematical functions.\n",
    "- They can be used in compiled languages, e.g. _C_ and _Fortran_."
   ]
  },
  {
   "cell_type": "markdown",
   "metadata": {},
   "source": [
    "### Array-generating functions\n",
    "For large arrays it is inpractical to initialize the data manually, using normal Python lists. Instead, we can use many of the Numpy functions to generate arrays of different forms."
   ]
  },
  {
   "cell_type": "markdown",
   "metadata": {},
   "source": [
    "#### __numpy.arange__\n",
    "We use this one to create a sequence of ordered elements"
   ]
  },
  {
   "cell_type": "code",
   "execution_count": 15,
   "metadata": {
    "jupyter": {
     "outputs_hidden": false
    }
   },
   "outputs": [
    {
     "data": {
      "text/plain": [
       "array([0, 1, 2, 3, 4, 5, 6, 7, 8, 9])"
      ]
     },
     "execution_count": 15,
     "metadata": {},
     "output_type": "execute_result"
    }
   ],
   "source": [
    "np.arange(0,10,1)"
   ]
  },
  {
   "cell_type": "code",
   "execution_count": 16,
   "metadata": {
    "jupyter": {
     "outputs_hidden": false
    }
   },
   "outputs": [
    {
     "data": {
      "text/plain": [
       "array([ 0,  5, 10, 15])"
      ]
     },
     "execution_count": 16,
     "metadata": {},
     "output_type": "execute_result"
    }
   ],
   "source": [
    "np.arange(0,20,5)"
   ]
  },
  {
   "cell_type": "code",
   "execution_count": 17,
   "metadata": {
    "jupyter": {
     "outputs_hidden": false
    }
   },
   "outputs": [
    {
     "data": {
      "text/plain": [
       "array([-40, -30, -20, -10,   0,  10,  20])"
      ]
     },
     "execution_count": 17,
     "metadata": {},
     "output_type": "execute_result"
    }
   ],
   "source": [
    "np.arange(-40,21,10)"
   ]
  },
  {
   "cell_type": "markdown",
   "metadata": {},
   "source": [
    "#### linspace and logspace\n",
    "We use these functions to created ordered lists, separated by intervals in __real__- and __log__-space."
   ]
  },
  {
   "cell_type": "code",
   "execution_count": 18,
   "metadata": {
    "jupyter": {
     "outputs_hidden": false
    }
   },
   "outputs": [
    {
     "data": {
      "text/plain": [
       "array([ 0.        ,  1.02040816,  2.04081633,  3.06122449,  4.08163265,\n",
       "        5.10204082,  6.12244898,  7.14285714,  8.16326531,  9.18367347,\n",
       "       10.20408163, 11.2244898 , 12.24489796, 13.26530612, 14.28571429,\n",
       "       15.30612245, 16.32653061, 17.34693878, 18.36734694, 19.3877551 ,\n",
       "       20.40816327, 21.42857143, 22.44897959, 23.46938776, 24.48979592,\n",
       "       25.51020408, 26.53061224, 27.55102041, 28.57142857, 29.59183673,\n",
       "       30.6122449 , 31.63265306, 32.65306122, 33.67346939, 34.69387755,\n",
       "       35.71428571, 36.73469388, 37.75510204, 38.7755102 , 39.79591837,\n",
       "       40.81632653, 41.83673469, 42.85714286, 43.87755102, 44.89795918,\n",
       "       45.91836735, 46.93877551, 47.95918367, 48.97959184, 50.        ])"
      ]
     },
     "execution_count": 18,
     "metadata": {},
     "output_type": "execute_result"
    }
   ],
   "source": [
    "B = np.linspace(0,50)\n",
    "B"
   ]
  },
  {
   "cell_type": "code",
   "execution_count": 19,
   "metadata": {
    "jupyter": {
     "outputs_hidden": false
    }
   },
   "outputs": [
    {
     "data": {
      "text/plain": [
       "array([  0.        ,   5.26315789,  10.52631579,  15.78947368,\n",
       "        21.05263158,  26.31578947,  31.57894737,  36.84210526,\n",
       "        42.10526316,  47.36842105,  52.63157895,  57.89473684,\n",
       "        63.15789474,  68.42105263,  73.68421053,  78.94736842,\n",
       "        84.21052632,  89.47368421,  94.73684211, 100.        ])"
      ]
     },
     "execution_count": 19,
     "metadata": {},
     "output_type": "execute_result"
    }
   ],
   "source": [
    "B = np.linspace(0,100, 20)\n",
    "B"
   ]
  },
  {
   "cell_type": "markdown",
   "metadata": {},
   "source": [
    "Array of __25 elements__ from $10^{0}$ to $10^{3}$, with __base of 10__."
   ]
  },
  {
   "cell_type": "code",
   "execution_count": 20,
   "metadata": {
    "jupyter": {
     "outputs_hidden": false
    }
   },
   "outputs": [
    {
     "data": {
      "text/plain": [
       "array([   1.        ,    1.33352143,    1.77827941,    2.37137371,\n",
       "          3.16227766,    4.21696503,    5.62341325,    7.49894209,\n",
       "         10.        ,   13.33521432,   17.7827941 ,   23.71373706,\n",
       "         31.6227766 ,   42.16965034,   56.23413252,   74.98942093,\n",
       "        100.        ,  133.35214322,  177.827941  ,  237.13737057,\n",
       "        316.22776602,  421.69650343,  562.34132519,  749.89420933,\n",
       "       1000.        ])"
      ]
     },
     "execution_count": 20,
     "metadata": {},
     "output_type": "execute_result"
    }
   ],
   "source": [
    "B = np.logspace(0,3,25)\n",
    "B"
   ]
  },
  {
   "cell_type": "markdown",
   "metadata": {},
   "source": [
    "Creating an array of 11 elements from $e^{0}$ to $e^{10}$, with the ```base == numpy.e```"
   ]
  },
  {
   "cell_type": "code",
   "execution_count": 21,
   "metadata": {
    "jupyter": {
     "outputs_hidden": false
    }
   },
   "outputs": [
    {
     "data": {
      "text/plain": [
       "array([1.00000000e+00, 2.71828183e+00, 7.38905610e+00, 2.00855369e+01,\n",
       "       5.45981500e+01, 1.48413159e+02, 4.03428793e+02, 1.09663316e+03,\n",
       "       2.98095799e+03, 8.10308393e+03, 2.20264658e+04])"
      ]
     },
     "execution_count": 21,
     "metadata": {},
     "output_type": "execute_result"
    }
   ],
   "source": [
    "B = np.logspace(0,10,11, base=np.e)\n",
    "B"
   ]
  },
  {
   "cell_type": "markdown",
   "metadata": {},
   "source": [
    "#### Random Data"
   ]
  },
  {
   "cell_type": "code",
   "execution_count": 22,
   "metadata": {},
   "outputs": [],
   "source": [
    "from numpy import random"
   ]
  },
  {
   "cell_type": "code",
   "execution_count": 23,
   "metadata": {
    "jupyter": {
     "outputs_hidden": false
    }
   },
   "outputs": [
    {
     "data": {
      "text/plain": [
       "array([[0.16908239, 0.65910426, 0.49627386, 0.99827139, 0.42690219],\n",
       "       [0.09870334, 0.32303327, 0.74926431, 0.06764301, 0.9993316 ],\n",
       "       [0.13322934, 0.95407419, 0.6307183 , 0.2637512 , 0.45013544],\n",
       "       [0.240087  , 0.48077175, 0.20780061, 0.1702251 , 0.44145279],\n",
       "       [0.96851985, 0.3742247 , 0.60890447, 0.72187198, 0.36973298]])"
      ]
     },
     "execution_count": 23,
     "metadata": {},
     "output_type": "execute_result"
    }
   ],
   "source": [
    "# Uniform random numbers in [0,1]\n",
    "random.rand(5,5)"
   ]
  },
  {
   "cell_type": "code",
   "execution_count": 24,
   "metadata": {
    "jupyter": {
     "outputs_hidden": false
    }
   },
   "outputs": [
    {
     "data": {
      "text/plain": [
       "array([26, 21, 14, 18, 11, 28, 13, 11, 25, 23, 20, 20, 18, 20, 12, 25, 21,\n",
       "       27, 15, 15])"
      ]
     },
     "execution_count": 24,
     "metadata": {},
     "output_type": "execute_result"
    }
   ],
   "source": [
    "# 20 Random integers from 10 to 30\n",
    "random.randint(10,30,20)"
   ]
  },
  {
   "cell_type": "markdown",
   "metadata": {},
   "source": [
    "#### Arrays of `zeros` and `ones`."
   ]
  },
  {
   "cell_type": "code",
   "execution_count": 25,
   "metadata": {
    "jupyter": {
     "outputs_hidden": false
    }
   },
   "outputs": [
    {
     "data": {
      "text/plain": [
       "array([0., 0., 0., 0., 0., 0., 0., 0., 0., 0., 0., 0., 0., 0., 0., 0., 0.,\n",
       "       0., 0., 0.])"
      ]
     },
     "execution_count": 25,
     "metadata": {},
     "output_type": "execute_result"
    }
   ],
   "source": [
    "np.zeros(20)"
   ]
  },
  {
   "cell_type": "markdown",
   "metadata": {},
   "source": [
    "You can use these to populate other arrays"
   ]
  },
  {
   "cell_type": "code",
   "execution_count": 26,
   "metadata": {
    "jupyter": {
     "outputs_hidden": false
    }
   },
   "outputs": [
    {
     "data": {
      "text/plain": [
       "array([1., 1., 1., 1., 1., 1., 1., 1., 1., 1.])"
      ]
     },
     "execution_count": 26,
     "metadata": {},
     "output_type": "execute_result"
    }
   ],
   "source": [
    "nelem = 10\n",
    "C = np.ones(10)\n",
    "C"
   ]
  },
  {
   "cell_type": "code",
   "execution_count": 27,
   "metadata": {
    "jupyter": {
     "outputs_hidden": false
    }
   },
   "outputs": [
    {
     "data": {
      "text/plain": [
       "array([0.42426893, 0.63199255, 0.7428616 , 0.06000389, 0.2509328 ,\n",
       "       0.40663931, 0.42418513, 0.94133458, 0.03082036, 0.32413812])"
      ]
     },
     "execution_count": 27,
     "metadata": {},
     "output_type": "execute_result"
    }
   ],
   "source": [
    "for ii in range(C.size):\n",
    "    C[ii] = random.rand()\n",
    "C"
   ]
  },
  {
   "cell_type": "markdown",
   "metadata": {},
   "source": [
    "### Diagonals\n",
    "You can also construct an array with another array as the diagonal"
   ]
  },
  {
   "cell_type": "code",
   "execution_count": 28,
   "metadata": {
    "jupyter": {
     "outputs_hidden": false
    }
   },
   "outputs": [
    {
     "data": {
      "text/plain": [
       "array([[19,  0,  0,  0,  0],\n",
       "       [ 0, 16,  0,  0,  0],\n",
       "       [ 0,  0, 17,  0,  0],\n",
       "       [ 0,  0,  0, 14,  0],\n",
       "       [ 0,  0,  0,  0, 11]])"
      ]
     },
     "execution_count": 28,
     "metadata": {},
     "output_type": "execute_result"
    }
   ],
   "source": [
    "np.diag(random.randint(10,20,5))"
   ]
  },
  {
   "cell_type": "markdown",
   "metadata": {},
   "source": [
    "### Indexing"
   ]
  },
  {
   "cell_type": "markdown",
   "metadata": {},
   "source": [
    "You can choose which values to select.\n",
    "Normally, you select the `rows` first, and then the `cols` of a `numpy.ndarray`."
   ]
  },
  {
   "cell_type": "code",
   "execution_count": 29,
   "metadata": {
    "jupyter": {
     "outputs_hidden": false
    }
   },
   "outputs": [
    {
     "data": {
      "text/plain": [
       "array([[0.02207129, 0.39192099, 0.54065044, 0.77247757, 0.50392591],\n",
       "       [0.779865  , 0.05589356, 0.14600268, 0.08799952, 0.9699727 ],\n",
       "       [0.05473711, 0.97533913, 0.70721727, 0.50666763, 0.43483249],\n",
       "       [0.52953915, 0.47530213, 0.76554752, 0.24819243, 0.94294759],\n",
       "       [0.50396116, 0.12806195, 0.2328684 , 0.91066881, 0.21810896],\n",
       "       [0.41465343, 0.2630539 , 0.96735957, 0.48497759, 0.65034298],\n",
       "       [0.5889424 , 0.95147224, 0.80902129, 0.2200088 , 0.66964117],\n",
       "       [0.76001453, 0.03184867, 0.02312513, 0.60883158, 0.04286978],\n",
       "       [0.81182391, 0.5188045 , 0.66865038, 0.6784287 , 0.95229035],\n",
       "       [0.23980704, 0.3598189 , 0.35931185, 0.47219801, 0.54882526]])"
      ]
     },
     "execution_count": 29,
     "metadata": {},
     "output_type": "execute_result"
    }
   ],
   "source": [
    "M = random.rand(10,5)\n",
    "M"
   ]
  },
  {
   "cell_type": "markdown",
   "metadata": {},
   "source": [
    "Selecting the 1st row (remember Python uses zero-indexing. The 0th index is the first entry.)\n"
   ]
  },
  {
   "cell_type": "code",
   "execution_count": 76,
   "metadata": {
    "jupyter": {
     "outputs_hidden": false
    }
   },
   "outputs": [
    {
     "data": {
      "text/plain": [
       "array([0.02207129, 0.39192099, 0.54065044, 0.77247757, 0.50392591])"
      ]
     },
     "execution_count": 76,
     "metadata": {},
     "output_type": "execute_result"
    }
   ],
   "source": [
    "M[0,:]"
   ]
  },
  {
   "cell_type": "markdown",
   "metadata": {},
   "source": [
    "The 2nd column"
   ]
  },
  {
   "cell_type": "code",
   "execution_count": 31,
   "metadata": {
    "jupyter": {
     "outputs_hidden": false
    }
   },
   "outputs": [
    {
     "data": {
      "text/plain": [
       "array([0.39192099, 0.05589356, 0.97533913, 0.47530213, 0.12806195,\n",
       "       0.2630539 , 0.95147224, 0.03184867, 0.5188045 , 0.3598189 ])"
      ]
     },
     "execution_count": 31,
     "metadata": {},
     "output_type": "execute_result"
    }
   ],
   "source": [
    "M[:,1]"
   ]
  },
  {
   "cell_type": "markdown",
   "metadata": {},
   "source": [
    "Select a range of columns and rows"
   ]
  },
  {
   "cell_type": "code",
   "execution_count": 32,
   "metadata": {
    "jupyter": {
     "outputs_hidden": false
    }
   },
   "outputs": [
    {
     "data": {
      "text/plain": [
       "array([[0.14600268, 0.08799952],\n",
       "       [0.70721727, 0.50666763]])"
      ]
     },
     "execution_count": 32,
     "metadata": {},
     "output_type": "execute_result"
    }
   ],
   "source": [
    "M[1:3, 2:4]"
   ]
  },
  {
   "cell_type": "markdown",
   "metadata": {},
   "source": [
    "You can easily use this to create a __mask__, for when you are __cleaning/filtering__ your data."
   ]
  },
  {
   "cell_type": "code",
   "execution_count": 33,
   "metadata": {
    "jupyter": {
     "outputs_hidden": false
    }
   },
   "outputs": [
    {
     "data": {
      "text/plain": [
       "array([[       nan, 0.28627475, 0.92922431],\n",
       "       [0.21424827,        nan, 0.55032008],\n",
       "       [0.10939788, 0.59133975,        nan]])"
      ]
     },
     "execution_count": 33,
     "metadata": {},
     "output_type": "execute_result"
    }
   ],
   "source": [
    "A = random.rand(3,3)\n",
    "np.fill_diagonal(A, np.nan)\n",
    "A"
   ]
  },
  {
   "cell_type": "code",
   "execution_count": 34,
   "metadata": {
    "jupyter": {
     "outputs_hidden": false
    }
   },
   "outputs": [
    {
     "data": {
      "text/plain": [
       "array([[0, 1, 2],\n",
       "       [3, 4, 5],\n",
       "       [6, 7, 8]])"
      ]
     },
     "execution_count": 34,
     "metadata": {},
     "output_type": "execute_result"
    }
   ],
   "source": [
    "B = np.arange(0,9).reshape((3,3))\n",
    "B"
   ]
  },
  {
   "cell_type": "markdown",
   "metadata": {},
   "source": [
    "Appying the __mask__ from $A \\to B$"
   ]
  },
  {
   "cell_type": "code",
   "execution_count": 35,
   "metadata": {
    "jupyter": {
     "outputs_hidden": false
    }
   },
   "outputs": [
    {
     "data": {
      "text/plain": [
       "array([[False,  True,  True],\n",
       "       [ True, False,  True],\n",
       "       [ True,  True, False]])"
      ]
     },
     "execution_count": 35,
     "metadata": {},
     "output_type": "execute_result"
    }
   ],
   "source": [
    "A_mask = np.isfinite(A)\n",
    "A_mask"
   ]
  },
  {
   "cell_type": "code",
   "execution_count": 36,
   "metadata": {
    "jupyter": {
     "outputs_hidden": false
    }
   },
   "outputs": [
    {
     "data": {
      "text/plain": [
       "array([1, 2, 3, 5, 6, 7])"
      ]
     },
     "execution_count": 36,
     "metadata": {},
     "output_type": "execute_result"
    }
   ],
   "source": [
    "B[A_mask]"
   ]
  },
  {
   "cell_type": "markdown",
   "metadata": {},
   "source": [
    "### Binning you data\n",
    "This is probably one of the best functions of `Numpy`.\n",
    "You can use this to bin you data, and calculate __means__, __standard deviations__, etc."
   ]
  },
  {
   "cell_type": "markdown",
   "metadata": {},
   "source": [
    "#### numpy.digitize"
   ]
  },
  {
   "cell_type": "code",
   "execution_count": 37,
   "metadata": {
    "jupyter": {
     "outputs_hidden": false
    }
   },
   "outputs": [
    {
     "data": {
      "text/plain": [
       "array([ 0,  1,  2,  3,  4,  5,  6,  7,  8,  9, 10, 11, 12])"
      ]
     },
     "execution_count": 37,
     "metadata": {},
     "output_type": "execute_result"
    }
   ],
   "source": [
    "# Creating my bin edges\n",
    "bins = np.arange(0,13)\n",
    "bins"
   ]
  },
  {
   "cell_type": "code",
   "execution_count": 38,
   "metadata": {
    "jupyter": {
     "outputs_hidden": false
    }
   },
   "outputs": [
    {
     "data": {
      "text/plain": [
       "array([9.78165892, 9.68453223, 8.1726898 , 8.79290403, 3.08044554,\n",
       "       9.77007448, 4.91620258, 0.02318357, 9.2809917 , 0.14689555,\n",
       "       8.11344519, 8.65895898, 7.63345233, 9.61164593, 2.88720936,\n",
       "       5.08085067, 4.42255687, 7.03198726, 0.32866235, 1.11161433,\n",
       "       2.3252194 , 9.29879395, 0.50314174, 6.55758533, 6.75862664,\n",
       "       5.09489707, 7.45190515, 9.86371214, 1.42501668, 1.4160743 ,\n",
       "       2.34666251, 2.31250156, 6.15289987, 9.39635939, 4.27015039,\n",
       "       2.39447722, 8.03165318, 8.54738448, 5.71129243, 2.81816586,\n",
       "       1.4506704 , 7.49406179, 2.48557541, 1.81222549, 2.80309704,\n",
       "       9.57566805, 9.96972459, 9.54714997, 4.35054298, 1.17086525,\n",
       "       1.66888427, 0.75129008, 2.14225947, 6.65465318, 9.40717808,\n",
       "       9.22894224, 5.79535535, 9.84391421, 2.16406124, 7.96473481,\n",
       "       0.73221039, 6.85918693, 5.17485738, 0.4041918 , 8.43744794,\n",
       "       5.55434814, 6.41308438, 4.74610037, 4.25201008, 8.96550619,\n",
       "       6.55559923, 2.03672221, 7.9837901 , 0.14000247, 1.60683225,\n",
       "       6.37747259, 2.58157025, 9.61027273, 1.65976744, 6.67667102,\n",
       "       8.36580819, 0.16326753, 0.22064388, 3.95970752, 6.94148837,\n",
       "       2.69719152, 7.1959182 , 0.84947832, 8.72980451, 4.82608597,\n",
       "       6.49829934, 6.88062033, 6.68156243, 8.42282308, 4.46661335,\n",
       "       7.99475878, 3.10991609, 4.54823692, 3.94152142, 2.84428783])"
      ]
     },
     "execution_count": 38,
     "metadata": {},
     "output_type": "execute_result"
    }
   ],
   "source": [
    "# Generating Data\n",
    "data = 10*random.rand(100)\n",
    "data"
   ]
  },
  {
   "cell_type": "markdown",
   "metadata": {},
   "source": [
    "Now I want to bin my data and calculate the mean for each bin"
   ]
  },
  {
   "cell_type": "code",
   "execution_count": 39,
   "metadata": {
    "jupyter": {
     "outputs_hidden": false
    }
   },
   "outputs": [
    {
     "data": {
      "text/plain": [
       "array([10, 10,  9,  9,  4, 10,  5,  1, 10,  1,  9,  9,  8, 10,  3,  6,  5,\n",
       "        8,  1,  2,  3, 10,  1,  7,  7,  6,  8, 10,  2,  2,  3,  3,  7, 10,\n",
       "        5,  3,  9,  9,  6,  3,  2,  8,  3,  2,  3, 10, 10, 10,  5,  2,  2,\n",
       "        1,  3,  7, 10, 10,  6, 10,  3,  8,  1,  7,  6,  1,  9,  6,  7,  5,\n",
       "        5,  9,  7,  3,  8,  1,  2,  7,  3, 10,  2,  7,  9,  1,  1,  4,  7,\n",
       "        3,  8,  1,  9,  5,  7,  7,  7,  9,  5,  8,  4,  5,  4,  3])"
      ]
     },
     "execution_count": 39,
     "metadata": {},
     "output_type": "execute_result"
    }
   ],
   "source": [
    "# Defining statistical function to use\n",
    "stat_func = np.nanmean\n",
    "# Binning the data\n",
    "data_bins = np.digitize(data, bins)\n",
    "data_bins"
   ]
  },
  {
   "cell_type": "markdown",
   "metadata": {},
   "source": [
    "Calculating the __mean__ for each of the bins"
   ]
  },
  {
   "cell_type": "code",
   "execution_count": 40,
   "metadata": {
    "jupyter": {
     "outputs_hidden": false
    }
   },
   "outputs": [
    {
     "data": {
      "text/plain": [
       "array([  0.38754252,   1.48021671,   2.48850006,   3.52289764,\n",
       "         4.53316662,   5.40193351,   6.61598074,   7.59382605,\n",
       "         8.47622051,   9.59137457, -10.        , -10.        ])"
      ]
     },
     "execution_count": 40,
     "metadata": {},
     "output_type": "execute_result"
    }
   ],
   "source": [
    "failval = -10\n",
    "bins_stat = np.array([stat_func(data[data_bins == ii]) \\\n",
    "                      if len(data[data_bins == ii]) > 0 \\\n",
    "                      else failval \\\n",
    "                      for ii in range(1,len(bins))])\n",
    "bins_stat = np.asarray(bins_stat)\n",
    "bins_stat"
   ]
  },
  {
   "cell_type": "markdown",
   "metadata": {},
   "source": [
    "You can put all of this into a function that estimates errors and more..."
   ]
  },
  {
   "cell_type": "code",
   "execution_count": 41,
   "metadata": {},
   "outputs": [],
   "source": [
    "import math\n",
    "\n",
    "def myceil(x, base=10):\n",
    "    \"\"\"\n",
    "    Returns the upper-bound integer of 'x' in base 'base'.\n",
    "\n",
    "    Parameters\n",
    "    ----------\n",
    "    x: float\n",
    "        number to be approximated to closest number to 'base'\n",
    "\n",
    "    base: float\n",
    "        base used to calculate the closest 'largest' number\n",
    "\n",
    "    Returns\n",
    "    -------\n",
    "    n_high: float\n",
    "        Closest float number to 'x', i.e. upper-bound float.\n",
    "\n",
    "    Example\n",
    "    -------\n",
    "    >>>> myceil(12,10)\n",
    "      20\n",
    "    >>>>\n",
    "    >>>> myceil(12.05, 0.1)\n",
    "     12.10000 \n",
    "    \"\"\"\n",
    "    n_high = float(base*math.ceil(float(x)/base))\n",
    "\n",
    "    return n_high\n",
    "\n",
    "def myfloor(x, base=10):\n",
    "    \"\"\"\n",
    "    Returns the lower-bound integer of 'x' in base 'base'\n",
    "\n",
    "    Parameters\n",
    "    ----------\n",
    "    x: float\n",
    "        number to be approximated to closest number of 'base'\n",
    "\n",
    "    base: float\n",
    "        base used to calculate the closest 'smallest' number\n",
    "\n",
    "    Returns\n",
    "    -------\n",
    "    n_low: float\n",
    "        Closest float number to 'x', i.e. lower-bound float.\n",
    "\n",
    "    Example\n",
    "    -------\n",
    "    >>>> myfloor(12, 5)\n",
    "    >>>> 10\n",
    "    \"\"\"\n",
    "    n_low = float(base*math.floor(float(x)/base))\n",
    "\n",
    "    return n_low\n",
    "\n",
    "def Bins_array_create(arr, base=10):\n",
    "    \"\"\"\n",
    "    Generates array between [arr.min(), arr.max()] in steps of `base`.\n",
    "\n",
    "    Parameters\n",
    "    ----------\n",
    "    arr: array_like, Shape (N,...), One-dimensional\n",
    "        Array of numerical elements\n",
    "\n",
    "    base: float, optional (default=10)\n",
    "        Interval between bins\n",
    "\n",
    "    Returns\n",
    "    -------\n",
    "    bins_arr: array_like\n",
    "        Array of bin edges for given arr\n",
    "\n",
    "    \"\"\"\n",
    "    base = float(base)\n",
    "    arr  = np.array(arr)\n",
    "    assert(arr.ndim==1)\n",
    "    arr_min  = myfloor(arr.min(), base=base)\n",
    "    arr_max  = myceil( arr.max(), base=base)\n",
    "    bins_arr = np.arange(arr_min, arr_max+0.5*base, base)\n",
    "\n",
    "    return bins_arr"
   ]
  },
  {
   "cell_type": "code",
   "execution_count": 42,
   "metadata": {},
   "outputs": [],
   "source": [
    "def Mean_std_calc_one_array(x1, y1, arr_len=0, statfunc=np.nanmean,\n",
    "                           failval=np.nan, error='std',\n",
    "                           base=10.):\n",
    "    \"\"\"\n",
    "    Calculates statistics of two arrays, e.g. scatter,\n",
    "    error in `statfunc`, etc.\n",
    "    \n",
    "    Parameters\n",
    "    ----------\n",
    "    x1: array-like, shape (N,)\n",
    "        array of x-values\n",
    "    \n",
    "    y1: array-like, shape (N,)\n",
    "        array of y-values\n",
    "    \n",
    "    arr_len: int, optional (default = 0)\n",
    "        minimum number of elements in the bin\n",
    "    \n",
    "    statfunc: numpy function, optional (default = numpy.nanmean)\n",
    "        statistical function used to evaluate the bins\n",
    "    \n",
    "    failval: int or float, optional (default = numpy.nan)\n",
    "        Number to use to replace when the number of elements in the \n",
    "        bin is smaller than `arr_len`\n",
    "    \n",
    "    error: string, optional (default = 'std')\n",
    "        type of error to evaluate\n",
    "        Options:\n",
    "            - 'std': Evaluates the standard deviation of the bin\n",
    "            - 'stat': Evaluates the error in the mean/median of each bin\n",
    "            - 'none': Does not calculate the error in `y1`\n",
    "    base: float\n",
    "        Value of bin width in units of that of `x1`\n",
    "    \n",
    "    Returns\n",
    "    --------\n",
    "    x1_stat: array-like, shape (N,)\n",
    "        `stat_func` of each bin in `base` spacings for x1\n",
    "\n",
    "    y1_stat: array-like, shape (N,)\n",
    "        `stat_func` of each bin in `base` spacings for y1\n",
    "    \"\"\"\n",
    "    x1 = np.asarray(x1)\n",
    "    y1 = np.asarray(y1)\n",
    "    assert((x1.ndim==1) & (y1.ndim==1))\n",
    "    assert((x1.size >0) & (y1.size>0))\n",
    "    n_elem = len(x1)\n",
    "    ## Computing Bins\n",
    "    x1_bins  = Bins_array_create(x1, base=base)\n",
    "    x1_digit = np.digitize(x1, x1_bins)\n",
    "    ## Computing Statistics in bins\n",
    "    x1_stat = np.array([statfunc(x1[x1_digit==ii]) \n",
    "                                 if len(x1[x1_digit==ii])>arr_len \n",
    "                                 else failval\n",
    "                                 for ii in range(1,x1_bins.size)])\n",
    "    y1_stat = np.array([statfunc(y1[x1_digit==ii])\n",
    "                                 if len(y1[x1_digit==ii])>arr_len \n",
    "                                 else failval\n",
    "                                 for ii in range(1,x1_bins.size)])\n",
    "    ## Computing error in the data\n",
    "    if error=='std':\n",
    "        stat_err = np.nanstd\n",
    "        y1_err = np.array([stat_err(y1[x1_digit==ii]) \n",
    "                                     if len(y1[x1_digit==ii])>arr_len \n",
    "                                     else failval\n",
    "                                     for ii in range(1,x1_bins.size)])\n",
    "    if error!='none':\n",
    "        y1_err = np.array([stat_err(y1[x1_digit==ii])/np.sqrt(len(y1[x1_digit==ii]))\n",
    "                          if len(y1[x1_digit==ii])>arr_len\n",
    "                          else failval\n",
    "                          for ii in range(1,x1_bins.size)])\n",
    "        if (stat_func==np.median) or (stat_func==np.nanmedian):\n",
    "            y1_err *= 1.253\n",
    "    else:\n",
    "        y1_err = np.zeros(y1.stat.size)\n",
    "    \n",
    "    return x1_stat, y1_stat, y1_err"
   ]
  },
  {
   "cell_type": "markdown",
   "metadata": {},
   "source": [
    "__Example of using these function__:"
   ]
  },
  {
   "cell_type": "code",
   "execution_count": 43,
   "metadata": {
    "jupyter": {
     "outputs_hidden": false
    }
   },
   "outputs": [],
   "source": [
    "import numpy as np\n",
    "\n",
    "# Defining arrays\n",
    "x_arr = np.arange(100)\n",
    "y_arr = 50*np.random.randn(x_arr.size)\n",
    "\n",
    "# Computing mean and error in the mean for `x_arr` and `y_arr`\n",
    "x_stat, y_stat, y_err = Mean_std_calc_one_array(x_arr, y_arr,\n",
    "                                               statfunc=np.nanmean,\n",
    "                                               failval=np.nan,\n",
    "                                               base=10)\n",
    "x_stat2, y_stat2, y_err2 = Mean_std_calc_one_array(x_arr, y_arr,\n",
    "                                               statfunc=np.nanmedian,\n",
    "                                               failval=np.nan,\n",
    "                                               base=10)"
   ]
  },
  {
   "cell_type": "code",
   "execution_count": 84,
   "metadata": {
    "jupyter": {
     "outputs_hidden": false
    }
   },
   "outputs": [
    {
     "data": {
      "image/png": "[encoded data removed]",
      "text/plain": [
       "<Figure size 720x360 with 1 Axes>"
      ]
     },
     "metadata": {
      "needs_background": "light"
     },
     "output_type": "display_data"
    }
   ],
   "source": [
    "plt.style.use('seaborn-notebook')\n",
    "plt.clf()\n",
    "plt.close()\n",
    "fig = plt.figure(figsize=(10,5))\n",
    "ax  = fig.add_subplot(111,facecolor='white')\n",
    "ax.plot(x_arr, y_arr, 'ro', label='Data')\n",
    "ax.errorbar(x_stat, y_stat, yerr=y_err, color='blue', marker='o',\n",
    "           linestyle='--',label='Mean')\n",
    "ax.errorbar(x_stat2, y_stat2, yerr=y_err2, color='green', marker='o',\n",
    "           linestyle='--',label='Median')\n",
    "ax.set_xlabel('X axis', fontsize=20)\n",
    "ax.set_ylabel('Y axis', fontsize=20)\n",
    "ax.set_title('Data and the Binned Data', fontsize=24)\n",
    "ax.legend(loc='lower left',fontsize=16,ncol=3)\n",
    "plt.show()"
   ]
  },
  {
   "cell_type": "markdown",
   "metadata": {},
   "source": [
    "With this function, it is really easy to apply statistics on binned data, as well as to ___estimate errors___ on the data."
   ]
  },
  {
   "cell_type": "markdown",
   "metadata": {},
   "source": [
    "### Reshaping, resizing and stacking arrays\n",
    "One can always modify the shape of a `numpy.ndarray`, as well as append it to a pre-existing array."
   ]
  },
  {
   "cell_type": "code",
   "execution_count": 45,
   "metadata": {
    "jupyter": {
     "outputs_hidden": false
    }
   },
   "outputs": [
    {
     "data": {
      "text/plain": [
       "array([[ 0,  1,  2,  3,  4],\n",
       "       [10, 11, 12, 13, 14],\n",
       "       [20, 21, 22, 23, 24],\n",
       "       [30, 31, 32, 33, 34],\n",
       "       [40, 41, 42, 43, 44]])"
      ]
     },
     "execution_count": 45,
     "metadata": {},
     "output_type": "execute_result"
    }
   ],
   "source": [
    "A = np.array([[n+m*10 for n in range(5)] for m in range(5)])\n",
    "A"
   ]
  },
  {
   "cell_type": "code",
   "execution_count": 46,
   "metadata": {},
   "outputs": [],
   "source": [
    "n, m = A.shape"
   ]
  },
  {
   "cell_type": "code",
   "execution_count": 47,
   "metadata": {
    "jupyter": {
     "outputs_hidden": false
    }
   },
   "outputs": [
    {
     "data": {
      "text/plain": [
       "array([[ 0,  1,  2,  3,  4, 10, 11, 12, 13, 14, 20, 21, 22, 23, 24, 30,\n",
       "        31, 32, 33, 34, 40, 41, 42, 43, 44]])"
      ]
     },
     "execution_count": 47,
     "metadata": {},
     "output_type": "execute_result"
    }
   ],
   "source": [
    "B = A.reshape((1,n*m))\n",
    "B"
   ]
  },
  {
   "cell_type": "code",
   "execution_count": 48,
   "metadata": {
    "jupyter": {
     "outputs_hidden": false
    }
   },
   "outputs": [
    {
     "data": {
      "text/plain": [
       "array([ 0,  1,  2,  3,  4, 10, 11, 12, 13, 14, 20, 21, 22, 23, 24, 30, 31,\n",
       "       32, 33, 34, 40, 41, 42, 43, 44])"
      ]
     },
     "execution_count": 48,
     "metadata": {},
     "output_type": "execute_result"
    }
   ],
   "source": [
    "A_f = A.flatten()\n",
    "A_f"
   ]
  },
  {
   "cell_type": "code",
   "execution_count": 49,
   "metadata": {
    "jupyter": {
     "outputs_hidden": false
    }
   },
   "outputs": [
    {
     "data": {
      "text/plain": [
       "array([0.73809737, 0.1540146 , 0.6057217 , 0.22796791, 0.04445795,\n",
       "       0.25821571, 0.93346204, 0.51260506, 0.27322704, 0.353348  ,\n",
       "       0.4959472 , 0.57523817, 0.46114677, 0.45784074, 0.0482719 ,\n",
       "       0.66343163, 0.07257864, 0.20624487, 0.0276511 , 0.61084224,\n",
       "       0.75341153, 0.21756417, 0.6280305 , 0.35600898, 0.71498267])"
      ]
     },
     "execution_count": 49,
     "metadata": {},
     "output_type": "execute_result"
    }
   ],
   "source": [
    "C = random.rand(A.size)\n",
    "C"
   ]
  },
  {
   "cell_type": "code",
   "execution_count": 50,
   "metadata": {
    "jupyter": {
     "outputs_hidden": false
    }
   },
   "outputs": [
    {
     "data": {
      "text/plain": [
       "(25,)"
      ]
     },
     "execution_count": 50,
     "metadata": {},
     "output_type": "execute_result"
    }
   ],
   "source": [
    "C.shape"
   ]
  },
  {
   "cell_type": "code",
   "execution_count": 51,
   "metadata": {
    "jupyter": {
     "outputs_hidden": false
    }
   },
   "outputs": [
    {
     "data": {
      "text/plain": [
       "array([[0.00000000e+00, 7.38097374e-01],\n",
       "       [1.00000000e+00, 1.54014602e-01],\n",
       "       [2.00000000e+00, 6.05721703e-01],\n",
       "       [3.00000000e+00, 2.27967908e-01],\n",
       "       [4.00000000e+00, 4.44579530e-02],\n",
       "       [1.00000000e+01, 2.58215714e-01],\n",
       "       [1.10000000e+01, 9.33462041e-01],\n",
       "       [1.20000000e+01, 5.12605056e-01],\n",
       "       [1.30000000e+01, 2.73227044e-01],\n",
       "       [1.40000000e+01, 3.53347996e-01],\n",
       "       [2.00000000e+01, 4.95947198e-01],\n",
       "       [2.10000000e+01, 5.75238167e-01],\n",
       "       [2.20000000e+01, 4.61146767e-01],\n",
       "       [2.30000000e+01, 4.57840738e-01],\n",
       "       [2.40000000e+01, 4.82719039e-02],\n",
       "       [3.00000000e+01, 6.63431634e-01],\n",
       "       [3.10000000e+01, 7.25786397e-02],\n",
       "       [3.20000000e+01, 2.06244873e-01],\n",
       "       [3.30000000e+01, 2.76510966e-02],\n",
       "       [3.40000000e+01, 6.10842235e-01],\n",
       "       [4.00000000e+01, 7.53411526e-01],\n",
       "       [4.10000000e+01, 2.17564169e-01],\n",
       "       [4.20000000e+01, 6.28030499e-01],\n",
       "       [4.30000000e+01, 3.56008985e-01],\n",
       "       [4.40000000e+01, 7.14982671e-01]])"
      ]
     },
     "execution_count": 51,
     "metadata": {},
     "output_type": "execute_result"
    }
   ],
   "source": [
    "# Stacking the two arrays\n",
    "D = np.column_stack((A_f,C))\n",
    "D"
   ]
  },
  {
   "cell_type": "code",
   "execution_count": 85,
   "metadata": {
    "jupyter": {
     "outputs_hidden": false
    }
   },
   "outputs": [
    {
     "data": {
      "text/plain": [
       "array([[ 2.        ,  0.6057217 ],\n",
       "       [ 3.        ,  0.22796791],\n",
       "       [ 4.        ,  0.04445795],\n",
       "       [10.        ,  0.25821571],\n",
       "       [11.        ,  0.93346204],\n",
       "       [12.        ,  0.51260506],\n",
       "       [13.        ,  0.27322704],\n",
       "       [14.        ,  0.353348  ]])"
      ]
     },
     "execution_count": 85,
     "metadata": {},
     "output_type": "execute_result"
    }
   ],
   "source": [
    "# Selecting from 3rd to 11th row (again, recal zero-indexing)\n",
    "D[2:10]"
   ]
  },
  {
   "cell_type": "markdown",
   "metadata": {},
   "source": [
    "#### np.concatenate\n",
    "You can also concadenate different arrays"
   ]
  },
  {
   "cell_type": "code",
   "execution_count": 53,
   "metadata": {},
   "outputs": [],
   "source": [
    "a = np.array([[1, 2], [3, 4]])\n",
    "b = np.array([[5,6]])"
   ]
  },
  {
   "cell_type": "code",
   "execution_count": 54,
   "metadata": {
    "jupyter": {
     "outputs_hidden": false
    }
   },
   "outputs": [
    {
     "data": {
      "text/plain": [
       "array([[1, 2],\n",
       "       [3, 4],\n",
       "       [5, 6]])"
      ]
     },
     "execution_count": 54,
     "metadata": {},
     "output_type": "execute_result"
    }
   ],
   "source": [
    "np.concatenate((a,b))"
   ]
  },
  {
   "cell_type": "code",
   "execution_count": 55,
   "metadata": {
    "jupyter": {
     "outputs_hidden": false
    }
   },
   "outputs": [
    {
     "data": {
      "text/plain": [
       "array([[1, 2, 5],\n",
       "       [3, 4, 6]])"
      ]
     },
     "execution_count": 55,
     "metadata": {},
     "output_type": "execute_result"
    }
   ],
   "source": [
    "np.concatenate((a,b.T), axis=1)"
   ]
  },
  {
   "cell_type": "markdown",
   "metadata": {},
   "source": [
    "### Copy and \"Deep Copy\"\n",
    "Sometimes it is important to create new _copies_ of arrays and other objects. For this reason, one uses __numpy.copy__ to create _new_ copies of arrays"
   ]
  },
  {
   "cell_type": "code",
   "execution_count": 56,
   "metadata": {
    "jupyter": {
     "outputs_hidden": false
    }
   },
   "outputs": [
    {
     "data": {
      "text/plain": [
       "array([[1, 2],\n",
       "       [3, 4]])"
      ]
     },
     "execution_count": 56,
     "metadata": {},
     "output_type": "execute_result"
    }
   ],
   "source": [
    "A = np.array([[1, 2], [3, 4]])\n",
    "A"
   ]
  },
  {
   "cell_type": "code",
   "execution_count": 57,
   "metadata": {},
   "outputs": [],
   "source": [
    "# `B` is now referring to the same array data as `A`\n",
    "B = A"
   ]
  },
  {
   "cell_type": "markdown",
   "metadata": {},
   "source": [
    "If we make any changes to `B`, __`A` will also be affected by this change__."
   ]
  },
  {
   "cell_type": "code",
   "execution_count": 58,
   "metadata": {
    "jupyter": {
     "outputs_hidden": false
    }
   },
   "outputs": [
    {
     "data": {
      "text/plain": [
       "array([[10,  2],\n",
       "       [ 3,  4]])"
      ]
     },
     "execution_count": 58,
     "metadata": {},
     "output_type": "execute_result"
    }
   ],
   "source": [
    "B[0,0] = 10\n",
    "B"
   ]
  },
  {
   "cell_type": "code",
   "execution_count": 59,
   "metadata": {
    "jupyter": {
     "outputs_hidden": false
    }
   },
   "outputs": [
    {
     "data": {
      "text/plain": [
       "array([[10,  2],\n",
       "       [ 3,  4]])"
      ]
     },
     "execution_count": 59,
     "metadata": {},
     "output_type": "execute_result"
    }
   ],
   "source": [
    "A"
   ]
  },
  {
   "cell_type": "markdown",
   "metadata": {},
   "source": [
    "To get a __completely independent, new object__, you would use:"
   ]
  },
  {
   "cell_type": "code",
   "execution_count": 60,
   "metadata": {
    "jupyter": {
     "outputs_hidden": false
    }
   },
   "outputs": [
    {
     "data": {
      "text/plain": [
       "array([[-5,  2],\n",
       "       [ 3,  4]])"
      ]
     },
     "execution_count": 60,
     "metadata": {},
     "output_type": "execute_result"
    }
   ],
   "source": [
    "B = np.copy(A)\n",
    "\n",
    "# Modifying `B`\n",
    "B[0,0] = -5\n",
    "B"
   ]
  },
  {
   "cell_type": "code",
   "execution_count": 61,
   "metadata": {
    "jupyter": {
     "outputs_hidden": false
    }
   },
   "outputs": [
    {
     "data": {
      "text/plain": [
       "array([[10,  2],\n",
       "       [ 3,  4]])"
      ]
     },
     "execution_count": 61,
     "metadata": {},
     "output_type": "execute_result"
    }
   ],
   "source": [
    "A"
   ]
  },
  {
   "cell_type": "markdown",
   "metadata": {},
   "source": [
    "The array `A` was not affected by this changed. This is important when you're constantly re-defining new arrays"
   ]
  },
  {
   "cell_type": "markdown",
   "metadata": {},
   "source": [
    "# Scipy - Library of Scientific Algorithms for Python"
   ]
  },
  {
   "cell_type": "markdown",
   "metadata": {},
   "source": [
    "`SciPy` provides a large number of higher-level scientif algorithms.\n",
    "It includes:\n",
    "- Special Functions\n",
    "- Integration\n",
    "- Optimization\n",
    "- Interpolation\n",
    "- Fourier Transforms\n",
    "- Signal Processing\n",
    "- Linear Algebra\n",
    "- Statistics\n",
    "- Multi-dimensional image processing"
   ]
  },
  {
   "cell_type": "code",
   "execution_count": 62,
   "metadata": {},
   "outputs": [],
   "source": [
    "import scipy as sc"
   ]
  },
  {
   "cell_type": "markdown",
   "metadata": {},
   "source": [
    "## Interpolation\n",
    "You can use `Scipy` to interpolate your data.\n",
    "You would use the `interp1d` function to interpolate your function."
   ]
  },
  {
   "cell_type": "code",
   "execution_count": 63,
   "metadata": {},
   "outputs": [],
   "source": [
    "from scipy.interpolate import interp1d"
   ]
  },
  {
   "cell_type": "code",
   "execution_count": 64,
   "metadata": {},
   "outputs": [],
   "source": [
    "def f(x):\n",
    "    return np.sin(x)"
   ]
  },
  {
   "cell_type": "code",
   "execution_count": 87,
   "metadata": {},
   "outputs": [],
   "source": [
    "n = np.arange(0, 10)  \n",
    "x = np.linspace(0, 9, 100)\n",
    "\n",
    "y_meas = f(n) + 0.1 * np.random.randn(len(n)) # simulate measurement with noise\n",
    "y_real = f(x)\n",
    "\n",
    "linear_interpolation = interp1d(n, y_meas)\n",
    "y_interp1 = linear_interpolation(x)\n",
    "\n",
    "cubic_interpolation = interp1d(n, y_meas, kind='cubic')\n",
    "y_interp2 = cubic_interpolation(x)"
   ]
  },
  {
   "cell_type": "code",
   "execution_count": 90,
   "metadata": {
    "jupyter": {
     "outputs_hidden": false
    }
   },
   "outputs": [
    {
     "data": {
      "image/png": "[encoded data removed]",
      "text/plain": [
       "<Figure size 1080x432 with 1 Axes>"
      ]
     },
     "metadata": {
      "needs_background": "light"
     },
     "output_type": "display_data"
    }
   ],
   "source": [
    "fig, ax = plt.subplots(figsize=(15,6))\n",
    "ax.set_facecolor('white')\n",
    "ax.plot(n, y_meas, 'bo', markersize=10,label='noisy data')\n",
    "ax.plot(x, y_real, 'k', linewidth=2, label='true function')\n",
    "ax.plot(x, y_interp1, 'r', label='linear interp')\n",
    "ax.plot(x, y_interp2, 'g', label='cubic interp')\n",
    "ax.legend(loc=3, prop={'size':20});\n",
    "ax.tick_params(axis='both', which='major', labelsize=20)\n",
    "ax.tick_params(axis='both', which='minor', labelsize=15)"
   ]
  },
  {
   "cell_type": "markdown",
   "metadata": {},
   "source": [
    "### KD-Trees\n",
    "You can also use `SciPy` to calculate __KD-Trees__ for a set of points"
   ]
  },
  {
   "cell_type": "code",
   "execution_count": 91,
   "metadata": {
    "jupyter": {
     "outputs_hidden": false
    }
   },
   "outputs": [
    {
     "data": {
      "text/plain": [
       "array([[166.20050232, 170.16472057,  72.98127434],\n",
       "       [ 77.06553488, 151.3647051 , 156.10081708],\n",
       "       [155.16712861,  84.22011998, 172.66508434],\n",
       "       ...,\n",
       "       [170.49234693, 123.47699491, 150.07056061],\n",
       "       [124.34278659, 101.65530558, 212.4274589 ],\n",
       "       [133.0499825 , 160.14174292, 185.38251339]])"
      ]
     },
     "execution_count": 91,
     "metadata": {},
     "output_type": "execute_result"
    }
   ],
   "source": [
    "Lbox = 250.\n",
    "Npts = 1000\n",
    "# Creating cartesian coordinates\n",
    "x = np.random.uniform(0, Lbox, Npts)\n",
    "y = np.random.uniform(0, Lbox, Npts)\n",
    "z = np.random.uniform(0, Lbox, Npts)\n",
    "sample1 = np.vstack([x, y, z]).T\n",
    "sample1"
   ]
  },
  {
   "cell_type": "code",
   "execution_count": 92,
   "metadata": {
    "jupyter": {
     "outputs_hidden": false
    }
   },
   "outputs": [
    {
     "data": {
      "text/plain": [
       "(1000, 3)"
      ]
     },
     "execution_count": 92,
     "metadata": {},
     "output_type": "execute_result"
    }
   ],
   "source": [
    "sample1.shape"
   ]
  },
  {
   "cell_type": "markdown",
   "metadata": {},
   "source": [
    "Let's say we want to know how many points are within distances of 30 and 50 from other points. To know this, you construct a __KD-Tree__"
   ]
  },
  {
   "cell_type": "code",
   "execution_count": 93,
   "metadata": {},
   "outputs": [],
   "source": [
    "from scipy.spatial import cKDTree"
   ]
  },
  {
   "cell_type": "code",
   "execution_count": null,
   "metadata": {
    "jupyter": {
     "outputs_hidden": false
    }
   },
   "outputs": [],
   "source": [
    "# Initializing KDTree\n",
    "KD_obj = cKDTree(sample1)"
   ]
  },
  {
   "cell_type": "code",
   "execution_count": 71,
   "metadata": {
    "jupyter": {
     "outputs_hidden": false
    }
   },
   "outputs": [
    {
     "name": "stdout",
     "output_type": "stream",
     "text": [
      "Number of Neighbours: 19502\n"
     ]
    }
   ],
   "source": [
    "N_neighbours = cKDTree.count_neighbors(KD_obj, KD_obj, 50) - \\\n",
    "                cKDTree.count_neighbors(KD_obj, KD_obj, 30)\n",
    "print(\"Number of Neighbours: {0}\".format(N_neighbours))"
   ]
  },
  {
   "cell_type": "markdown",
   "metadata": {},
   "source": [
    "Let's say you want to get the distances to the __Nth-nearest__ neighbor."
   ]
  },
  {
   "cell_type": "code",
   "execution_count": 72,
   "metadata": {
    "jupyter": {
     "outputs_hidden": false
    }
   },
   "outputs": [
    {
     "data": {
      "text/plain": [
       "array([[ 0.        , 25.62089121, 26.4277525 , 28.54809046],\n",
       "       [ 0.        , 18.46428896, 23.5187381 , 26.22912029],\n",
       "       [ 0.        , 10.10351083, 19.24601138, 30.62466884],\n",
       "       ...,\n",
       "       [ 0.        , 19.42233167, 21.94014164, 22.22885167],\n",
       "       [ 0.        , 18.13920212, 23.70671433, 24.21301901],\n",
       "       [ 0.        ,  5.06417043, 16.70976212, 19.26417853]])"
      ]
     },
     "execution_count": 72,
     "metadata": {},
     "output_type": "execute_result"
    }
   ],
   "source": [
    "k_nearest = 4\n",
    "dist_k, dist_k_idx = cKDTree.query(KD_obj, sample1, k_nearest)\n",
    "dist_k"
   ]
  },
  {
   "cell_type": "markdown",
   "metadata": {},
   "source": [
    "You can also get the indices"
   ]
  },
  {
   "cell_type": "code",
   "execution_count": 73,
   "metadata": {
    "jupyter": {
     "outputs_hidden": false
    }
   },
   "outputs": [
    {
     "data": {
      "text/plain": [
       "array([[  0, 403, 578, 137],\n",
       "       [  1, 980, 677, 470],\n",
       "       [  2, 659, 156, 386],\n",
       "       ...,\n",
       "       [997, 379, 737, 647],\n",
       "       [998, 700, 994, 284],\n",
       "       [999, 312, 504, 836]])"
      ]
     },
     "execution_count": 73,
     "metadata": {},
     "output_type": "execute_result"
    }
   ],
   "source": [
    "dist_k_idx"
   ]
  },
  {
   "cell_type": "markdown",
   "metadata": {},
   "source": [
    "The first columns corresponds to _itself_."
   ]
  },
  {
   "cell_type": "markdown",
   "metadata": {},
   "source": [
    "You can also find pairs that are separated by at most a distance _r_"
   ]
  },
  {
   "cell_type": "code",
   "execution_count": 74,
   "metadata": {
    "jupyter": {
     "outputs_hidden": false
    }
   },
   "outputs": [
    {
     "data": {
      "text/plain": [
       "[[0, 137, 403, 578],\n",
       " [1, 470, 677, 980],\n",
       " [2, 156, 659],\n",
       " [3, 26, 403, 527],\n",
       " [4, 32, 507],\n",
       " [5, 52, 154, 664, 802, 923, 930],\n",
       " [6, 674, 797, 847, 899, 945],\n",
       " [7, 172, 190, 282, 455, 464, 589],\n",
       " [8, 399, 404, 476, 484, 684, 892, 921, 922],\n",
       " [9, 110, 167, 319, 349, 705, 992]]"
      ]
     },
     "execution_count": 74,
     "metadata": {},
     "output_type": "execute_result"
    }
   ],
   "source": [
    "pairs = KD_obj.query_ball_tree(KD_obj, 30)\n",
    "pairs[0:10]"
   ]
  },
  {
   "cell_type": "markdown",
   "metadata": {},
   "source": [
    "__So that's it for today's lesson__"
   ]
  },
  {
   "cell_type": "markdown",
   "metadata": {},
   "source": [
    "# Next session:\n",
    "- Advanced Visualization\n",
    "- Seaborn"
   ]
  },
  {
   "cell_type": "code",
   "execution_count": null,
   "metadata": {},
   "outputs": [],
   "source": []
  }
 ],
 "metadata": {
  "kernelspec": {
   "display_name": "Python 3",
   "language": "python",
   "name": "python3"
  },
  "language_info": {
   "codemirror_mode": {
    "name": "ipython",
    "version": 3
   },
   "file_extension": ".py",
   "mimetype": "text/x-python",
   "name": "python",
   "nbconvert_exporter": "python",
   "pygments_lexer": "ipython3",
   "version": "3.8.3"
  }
 },
 "nbformat": 4,
 "nbformat_minor": 4
}
