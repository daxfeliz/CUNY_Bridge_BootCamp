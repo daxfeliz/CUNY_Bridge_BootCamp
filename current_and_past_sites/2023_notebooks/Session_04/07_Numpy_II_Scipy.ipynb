{
 "cells": [
  {
   "cell_type": "markdown",
   "metadata": {},
   "source": [
    "# Fourth Session, Notebook # 7:  Continuing with Numpy and Introduction to Scipy\n",
    "\n",
    "## Today's agenda:\n",
    "0. __Workshop Overview__:\n",
    "    * __When__: August 17th, 12pm-5pm\n",
    "    * __Where__: CUNY Graduate Center, Room 5382\n",
    "    * __What__: Today we will continue to explore Numpy and introduce Scipy.\n",
    "    * __Want__ to lead a session for a topic? Some Days there will be small hack sessions for people to discuss problems they're working on.\n",
    "    * __Online Resources__:  __https://daxfeliz.github.io/cunybridgebootcamp/__\n",
    "    * __Program Schedule__: __https://tinyurl.com/4r35txe2__   \n",
    "&nbsp;\n",
    "\n",
    "1. __This session__:\n",
    "* Learning about the Python libraries for\n",
    "    * Numerical Python (Numpy), for doing math-y things!\n",
    "    * Scientific Python (Scipy), for doing science-y things!\n",
    "</br>\n",
    "&nbsp;\n",
    "\n",
    "2. __Next session__:\n",
    "    * Practicing with Sys in Python and writing our own Python scripts! __Make sure you bring your laptop to this session and future sessions__.\n"
   ]
  },
  {
   "cell_type": "markdown",
   "metadata": {},
   "source": [
    "# Numpy II\n",
    "\n",
    "Last time in [Session 4, notebook 6](https://github.com/daxfeliz/cunybridgebootcamp/blob/main/current_and_past_sites/2023_notebooks/Session_04/06_Numpy_Matplotlib.ipynb), we covered `Numpy` and `Matplotlib`. This time we will be focusing on more advanced concepts of `Numpy`."
   ]
  },
  {
   "cell_type": "code",
   "execution_count": 1,
   "metadata": {},
   "outputs": [],
   "source": [
    "# Loading modules\n",
    "%matplotlib inline\n",
    "import numpy as np\n",
    "import matplotlib.pyplot as plt"
   ]
  },
  {
   "cell_type": "markdown",
   "metadata": {},
   "source": [
    "## Review\n",
    "As a review, let's explore some of the concepts that were introduced last time, in `Numpy I`.\n",
    "\n",
    "### Create 1D-arrays\n",
    "We introduced how to create a 1D-array"
   ]
  },
  {
   "cell_type": "code",
   "execution_count": 2,
   "metadata": {
    "jupyter": {
     "outputs_hidden": false
    }
   },
   "outputs": [
    {
     "data": {
      "text/plain": [
       "array([ 1.,  2.,  3.,  5.,  6.,  7.,  8., 10.])"
      ]
     },
     "execution_count": 2,
     "metadata": {},
     "output_type": "execute_result"
    }
   ],
   "source": [
    "x = np.array([1,2,3,5,6,7,8,10],dtype=float)\n",
    "x"
   ]
  },
  {
   "cell_type": "code",
   "execution_count": 3,
   "metadata": {
    "jupyter": {
     "outputs_hidden": false
    }
   },
   "outputs": [
    {
     "data": {
      "text/plain": [
       "array([0, 1, 2, 3, 4, 5, 6, 7, 8, 9])"
      ]
     },
     "execution_count": 3,
     "metadata": {},
     "output_type": "execute_result"
    }
   ],
   "source": [
    "y = np.arange(10)\n",
    "y"
   ]
  },
  {
   "cell_type": "code",
   "execution_count": 4,
   "metadata": {
    "jupyter": {
     "outputs_hidden": false
    }
   },
   "outputs": [
    {
     "data": {
      "text/plain": [
       "array([  0.   ,   3.125,   6.25 ,   9.375,  12.5  ,  15.625,  18.75 ,\n",
       "        21.875,  25.   ,  28.125,  31.25 ,  34.375,  37.5  ,  40.625,\n",
       "        43.75 ,  46.875,  50.   ,  53.125,  56.25 ,  59.375,  62.5  ,\n",
       "        65.625,  68.75 ,  71.875,  75.   ,  78.125,  81.25 ,  84.375,\n",
       "        87.5  ,  90.625,  93.75 ,  96.875, 100.   ])"
      ]
     },
     "execution_count": 4,
     "metadata": {},
     "output_type": "execute_result"
    }
   ],
   "source": [
    "step = int(100/3)\n",
    "z = np.linspace(0,100,step)\n",
    "z"
   ]
  },
  {
   "cell_type": "code",
   "execution_count": 5,
   "metadata": {
    "jupyter": {
     "outputs_hidden": false
    }
   },
   "outputs": [
    {
     "data": {
      "text/plain": [
       "array([-0.39264   ,  0.71441566,  0.87463935,  0.34313142,  0.39376683,\n",
       "        0.58747766, -0.71972811, -0.43039838,  1.70804116,  0.06332806])"
      ]
     },
     "execution_count": 5,
     "metadata": {},
     "output_type": "execute_result"
    }
   ],
   "source": [
    "h = np.random.randn(10)\n",
    "h"
   ]
  },
  {
   "cell_type": "markdown",
   "metadata": {},
   "source": [
    "### Handling arrays\n",
    "\n",
    "These are just a few of the different ways to __create__ numpy arrays.\n",
    "\n",
    "You can also use functions like __np.max()__ and __np.min()__ to get the maximum and minimum values, respectively."
   ]
  },
  {
   "cell_type": "code",
   "execution_count": 6,
   "metadata": {
    "jupyter": {
     "outputs_hidden": false
    }
   },
   "outputs": [
    {
     "name": "stdout",
     "output_type": "stream",
     "text": [
      "Min X: 1.000 \t Max X: 10.000\n"
     ]
    }
   ],
   "source": [
    "print('Min X: {0:.3f} \\t Max X: {1:.3f}'.format(np.min(x), np.max(x)) ) \n",
    "#note the format options {0:.3f} are used for printing the number of digits in min/max of x"
   ]
  },
  {
   "cell_type": "markdown",
   "metadata": {},
   "source": [
    "#### Apply mathematical functions"
   ]
  },
  {
   "cell_type": "code",
   "execution_count": 7,
   "metadata": {
    "jupyter": {
     "outputs_hidden": false
    }
   },
   "outputs": [
    {
     "data": {
      "text/plain": [
       "array([   4.,   28.,   90.,  400.,  684., 1078., 1600., 3100.])"
      ]
     },
     "execution_count": 7,
     "metadata": {},
     "output_type": "execute_result"
    }
   ],
   "source": [
    "zz = x**2 + 3*x**3\n",
    "zz"
   ]
  },
  {
   "cell_type": "markdown",
   "metadata": {},
   "source": [
    "#### Conditionals\n",
    "Find the indices of the elements in an array that meet some criteria.\n",
    "In this example, we're finding all the elements that are within 100 and 500 in array ___\"```zz```\"___."
   ]
  },
  {
   "cell_type": "code",
   "execution_count": 8,
   "metadata": {
    "jupyter": {
     "outputs_hidden": false
    }
   },
   "outputs": [
    {
     "name": "stdout",
     "output_type": "stream",
     "text": [
      "zz_idx: [3]\n"
     ]
    },
    {
     "data": {
      "text/plain": [
       "array([400.])"
      ]
     },
     "execution_count": 8,
     "metadata": {},
     "output_type": "execute_result"
    }
   ],
   "source": [
    "zz_idx = np.where((zz>= 100)&(zz <= 500))[0]\n",
    "print('zz_idx: {0}'.format(zz_idx))\n",
    "\n",
    "zz[zz_idx]"
   ]
  },
  {
   "cell_type": "markdown",
   "metadata": {},
   "source": [
    "## Manipulating Arrays\n",
    "There are a lot of things we can do to a _numpy array_. "
   ]
  },
  {
   "cell_type": "code",
   "execution_count": 9,
   "metadata": {
    "jupyter": {
     "outputs_hidden": false
    }
   },
   "outputs": [
    {
     "data": {
      "text/plain": [
       "array([49, 29, 33, 19, 12, 17, 47, 37, 12, 39, 22, 47, 20, 36, 19, 45, 28,\n",
       "       26, 19, 17, 35, 31, 32, 49, 19, 39, 29, 34, 20, 30, 41, 20, 10, 42,\n",
       "       40, 14, 33, 40, 31, 43, 41, 14, 16, 16, 49, 19, 35, 21, 33, 10])"
      ]
     },
     "execution_count": 9,
     "metadata": {},
     "output_type": "execute_result"
    }
   ],
   "source": [
    "h1 = np.random.randint(10, 50, 50) # creating array of random integers\n",
    "h1"
   ]
  },
  {
   "cell_type": "markdown",
   "metadata": {},
   "source": [
    "We can get the overall __size__ and __shape__ of the array.\n",
    "\n",
    "We cane use the functions `numpy.size` and `numpy.shape` to get the total number of elements in an array and the shape of the array, respectively."
   ]
  },
  {
   "cell_type": "code",
   "execution_count": 10,
   "metadata": {
    "jupyter": {
     "outputs_hidden": false
    }
   },
   "outputs": [
    {
     "data": {
      "text/plain": [
       "50"
      ]
     },
     "execution_count": 10,
     "metadata": {},
     "output_type": "execute_result"
    }
   ],
   "source": [
    "np.size(h1)"
   ]
  },
  {
   "cell_type": "code",
   "execution_count": 11,
   "metadata": {
    "jupyter": {
     "outputs_hidden": false
    }
   },
   "outputs": [
    {
     "data": {
      "text/plain": [
       "(50,)"
      ]
     },
     "execution_count": 11,
     "metadata": {},
     "output_type": "execute_result"
    }
   ],
   "source": [
    "h1.shape"
   ]
  },
  {
   "cell_type": "code",
   "execution_count": 12,
   "metadata": {
    "jupyter": {
     "outputs_hidden": false
    }
   },
   "outputs": [
    {
     "data": {
      "text/plain": [
       "array([[ 1,  2,  3,  4,  5],\n",
       "       [ 6,  7,  8,  9, 10],\n",
       "       [12, 13, 14, 16, 17],\n",
       "       [13, 45, 67, 89, 90]])"
      ]
     },
     "execution_count": 12,
     "metadata": {},
     "output_type": "execute_result"
    }
   ],
   "source": [
    "#creating a multi-dimensional array (an array with 4 arrays in it, each one with 5 elements)\n",
    "A = np.array([ [1,2,3,4,5],\n",
    "               [6,7,8,9,10],\n",
    "               [12,13,14,16,17],\n",
    "               [13,45,67,89,90] ])\n",
    "A"
   ]
  },
  {
   "cell_type": "code",
   "execution_count": 13,
   "metadata": {
    "jupyter": {
     "outputs_hidden": false
    }
   },
   "outputs": [
    {
     "data": {
      "text/plain": [
       "(4, 5)"
      ]
     },
     "execution_count": 13,
     "metadata": {},
     "output_type": "execute_result"
    }
   ],
   "source": [
    "np.shape(A)"
   ]
  },
  {
   "cell_type": "markdown",
   "metadata": {},
   "source": [
    "You can also __transpose__ array `A`."
   ]
  },
  {
   "cell_type": "code",
   "execution_count": 14,
   "metadata": {
    "jupyter": {
     "outputs_hidden": false
    }
   },
   "outputs": [
    {
     "data": {
      "text/plain": [
       "array([[ 1,  6, 12, 13],\n",
       "       [ 2,  7, 13, 45],\n",
       "       [ 3,  8, 14, 67],\n",
       "       [ 4,  9, 16, 89],\n",
       "       [ 5, 10, 17, 90]])"
      ]
     },
     "execution_count": 14,
     "metadata": {},
     "output_type": "execute_result"
    }
   ],
   "source": [
    "A_t = np.transpose(A)\n",
    "A_t"
   ]
  },
  {
   "cell_type": "code",
   "execution_count": 15,
   "metadata": {},
   "outputs": [
    {
     "data": {
      "text/plain": [
       "(5, 4)"
      ]
     },
     "execution_count": 15,
     "metadata": {},
     "output_type": "execute_result"
    }
   ],
   "source": [
    "np.shape(A_t)"
   ]
  },
  {
   "cell_type": "markdown",
   "metadata": {},
   "source": [
    "Why are `Numpy` arrays better than lists:\n",
    "- Python lists are very _general_.\n",
    "- Lists __do not__ support matrix and dot multiplications, etc.\n",
    "- `Numpy` arrays are memory _efficient_.\n",
    "- Numpy arrays are __statically typed__ and __homogeneous__.\n",
    "- They are fast at mathematical functions.\n",
    "- They can be used in compiled languages, e.g. _C_ and _Fortran_."
   ]
  },
  {
   "cell_type": "markdown",
   "metadata": {},
   "source": [
    "### Array-generating functions\n",
    "For large arrays it is inpractical to initialize the data manually, using normal Python lists. Instead, we can use many of the Numpy functions to generate arrays of different forms."
   ]
  },
  {
   "cell_type": "markdown",
   "metadata": {},
   "source": [
    "#### __numpy.arange__\n",
    "We use this one to create a sequence of ordered elements"
   ]
  },
  {
   "cell_type": "code",
   "execution_count": 16,
   "metadata": {
    "jupyter": {
     "outputs_hidden": false
    }
   },
   "outputs": [
    {
     "data": {
      "text/plain": [
       "array([0, 1, 2, 3, 4, 5, 6, 7, 8, 9])"
      ]
     },
     "execution_count": 16,
     "metadata": {},
     "output_type": "execute_result"
    }
   ],
   "source": [
    "np.arange(0,10,1)"
   ]
  },
  {
   "cell_type": "code",
   "execution_count": 17,
   "metadata": {
    "jupyter": {
     "outputs_hidden": false
    }
   },
   "outputs": [
    {
     "data": {
      "text/plain": [
       "array([ 0,  5, 10, 15])"
      ]
     },
     "execution_count": 17,
     "metadata": {},
     "output_type": "execute_result"
    }
   ],
   "source": [
    "np.arange(0,20,5)"
   ]
  },
  {
   "cell_type": "code",
   "execution_count": 18,
   "metadata": {
    "jupyter": {
     "outputs_hidden": false
    }
   },
   "outputs": [
    {
     "data": {
      "text/plain": [
       "array([-40, -30, -20, -10,   0,  10,  20])"
      ]
     },
     "execution_count": 18,
     "metadata": {},
     "output_type": "execute_result"
    }
   ],
   "source": [
    "np.arange(-40,21,10)"
   ]
  },
  {
   "cell_type": "markdown",
   "metadata": {},
   "source": [
    "#### linspace and logspace\n",
    "We use these functions to created ordered lists, separated by intervals in __real__- and __log__-space."
   ]
  },
  {
   "cell_type": "code",
   "execution_count": 19,
   "metadata": {
    "jupyter": {
     "outputs_hidden": false
    }
   },
   "outputs": [
    {
     "data": {
      "text/plain": [
       "array([ 0.        ,  1.02040816,  2.04081633,  3.06122449,  4.08163265,\n",
       "        5.10204082,  6.12244898,  7.14285714,  8.16326531,  9.18367347,\n",
       "       10.20408163, 11.2244898 , 12.24489796, 13.26530612, 14.28571429,\n",
       "       15.30612245, 16.32653061, 17.34693878, 18.36734694, 19.3877551 ,\n",
       "       20.40816327, 21.42857143, 22.44897959, 23.46938776, 24.48979592,\n",
       "       25.51020408, 26.53061224, 27.55102041, 28.57142857, 29.59183673,\n",
       "       30.6122449 , 31.63265306, 32.65306122, 33.67346939, 34.69387755,\n",
       "       35.71428571, 36.73469388, 37.75510204, 38.7755102 , 39.79591837,\n",
       "       40.81632653, 41.83673469, 42.85714286, 43.87755102, 44.89795918,\n",
       "       45.91836735, 46.93877551, 47.95918367, 48.97959184, 50.        ])"
      ]
     },
     "execution_count": 19,
     "metadata": {},
     "output_type": "execute_result"
    }
   ],
   "source": [
    "B = np.linspace(0,50)\n",
    "B"
   ]
  },
  {
   "cell_type": "code",
   "execution_count": 20,
   "metadata": {
    "jupyter": {
     "outputs_hidden": false
    }
   },
   "outputs": [
    {
     "data": {
      "text/plain": [
       "array([  0.        ,   5.26315789,  10.52631579,  15.78947368,\n",
       "        21.05263158,  26.31578947,  31.57894737,  36.84210526,\n",
       "        42.10526316,  47.36842105,  52.63157895,  57.89473684,\n",
       "        63.15789474,  68.42105263,  73.68421053,  78.94736842,\n",
       "        84.21052632,  89.47368421,  94.73684211, 100.        ])"
      ]
     },
     "execution_count": 20,
     "metadata": {},
     "output_type": "execute_result"
    }
   ],
   "source": [
    "B = np.linspace(0,100, 20)\n",
    "B"
   ]
  },
  {
   "cell_type": "markdown",
   "metadata": {},
   "source": [
    "Array of __25 elements__ from $10^{0}$ to $10^{3}$, with __base of 10__."
   ]
  },
  {
   "cell_type": "code",
   "execution_count": 21,
   "metadata": {
    "jupyter": {
     "outputs_hidden": false
    }
   },
   "outputs": [
    {
     "data": {
      "text/plain": [
       "array([   1.        ,    1.33352143,    1.77827941,    2.37137371,\n",
       "          3.16227766,    4.21696503,    5.62341325,    7.49894209,\n",
       "         10.        ,   13.33521432,   17.7827941 ,   23.71373706,\n",
       "         31.6227766 ,   42.16965034,   56.23413252,   74.98942093,\n",
       "        100.        ,  133.35214322,  177.827941  ,  237.13737057,\n",
       "        316.22776602,  421.69650343,  562.34132519,  749.89420933,\n",
       "       1000.        ])"
      ]
     },
     "execution_count": 21,
     "metadata": {},
     "output_type": "execute_result"
    }
   ],
   "source": [
    "B = np.logspace(0,3,25)\n",
    "B"
   ]
  },
  {
   "cell_type": "markdown",
   "metadata": {},
   "source": [
    "Creating an array of 11 elements from $e^{0}$ to $e^{10}$, with the ```base == numpy.e```"
   ]
  },
  {
   "cell_type": "code",
   "execution_count": 22,
   "metadata": {
    "jupyter": {
     "outputs_hidden": false
    }
   },
   "outputs": [
    {
     "data": {
      "text/plain": [
       "array([1.00000000e+00, 2.71828183e+00, 7.38905610e+00, 2.00855369e+01,\n",
       "       5.45981500e+01, 1.48413159e+02, 4.03428793e+02, 1.09663316e+03,\n",
       "       2.98095799e+03, 8.10308393e+03, 2.20264658e+04])"
      ]
     },
     "execution_count": 22,
     "metadata": {},
     "output_type": "execute_result"
    }
   ],
   "source": [
    "B = np.logspace(0,10,11, base=np.e)\n",
    "B"
   ]
  },
  {
   "cell_type": "markdown",
   "metadata": {},
   "source": [
    "#### Random Data"
   ]
  },
  {
   "cell_type": "code",
   "execution_count": 23,
   "metadata": {},
   "outputs": [],
   "source": [
    "from numpy import random"
   ]
  },
  {
   "cell_type": "code",
   "execution_count": 24,
   "metadata": {
    "jupyter": {
     "outputs_hidden": false
    }
   },
   "outputs": [
    {
     "data": {
      "text/plain": [
       "array([[0.12174574, 0.41463111, 0.8358929 , 0.98810929, 0.4967471 ],\n",
       "       [0.21979461, 0.91136374, 0.82672245, 0.89810131, 0.66081275],\n",
       "       [0.56773202, 0.35466421, 0.09633968, 0.0639621 , 0.53364773],\n",
       "       [0.17055279, 0.510753  , 0.25658947, 0.68223512, 0.11618615],\n",
       "       [0.83528862, 0.65026008, 0.66314444, 0.17585144, 0.06146741]])"
      ]
     },
     "execution_count": 24,
     "metadata": {},
     "output_type": "execute_result"
    }
   ],
   "source": [
    "# Uniform random numbers in [0,1]\n",
    "random.rand(5,5)"
   ]
  },
  {
   "cell_type": "code",
   "execution_count": 25,
   "metadata": {
    "jupyter": {
     "outputs_hidden": false
    }
   },
   "outputs": [
    {
     "data": {
      "text/plain": [
       "array([20, 17, 19, 10, 15, 12, 25, 21, 23, 20, 28, 18, 13, 11, 18, 25, 29,\n",
       "       10, 12, 14])"
      ]
     },
     "execution_count": 25,
     "metadata": {},
     "output_type": "execute_result"
    }
   ],
   "source": [
    "# 20 Random integers from 10 to 30\n",
    "random.randint(10,30,20)"
   ]
  },
  {
   "cell_type": "markdown",
   "metadata": {},
   "source": [
    "#### Arrays of `zeros` and `ones`."
   ]
  },
  {
   "cell_type": "code",
   "execution_count": 26,
   "metadata": {
    "jupyter": {
     "outputs_hidden": false
    }
   },
   "outputs": [
    {
     "data": {
      "text/plain": [
       "array([0., 0., 0., 0., 0., 0., 0., 0., 0., 0., 0., 0., 0., 0., 0., 0., 0.,\n",
       "       0., 0., 0.])"
      ]
     },
     "execution_count": 26,
     "metadata": {},
     "output_type": "execute_result"
    }
   ],
   "source": [
    "np.zeros(20)"
   ]
  },
  {
   "cell_type": "markdown",
   "metadata": {},
   "source": [
    "You can use these to populate other arrays"
   ]
  },
  {
   "cell_type": "code",
   "execution_count": 27,
   "metadata": {
    "jupyter": {
     "outputs_hidden": false
    }
   },
   "outputs": [
    {
     "data": {
      "text/plain": [
       "array([1., 1., 1., 1., 1., 1., 1., 1., 1., 1.])"
      ]
     },
     "execution_count": 27,
     "metadata": {},
     "output_type": "execute_result"
    }
   ],
   "source": [
    "nelem = 10\n",
    "C = np.ones(nelem)\n",
    "C"
   ]
  },
  {
   "cell_type": "code",
   "execution_count": 28,
   "metadata": {
    "jupyter": {
     "outputs_hidden": false
    }
   },
   "outputs": [
    {
     "data": {
      "text/plain": [
       "array([0.48940616, 0.24551611, 0.0682429 , 0.9699534 , 0.67525925,\n",
       "       0.42526763, 0.25195374, 0.49621476, 0.24277807, 0.24228241])"
      ]
     },
     "execution_count": 28,
     "metadata": {},
     "output_type": "execute_result"
    }
   ],
   "source": [
    "for ii in range(C.size):\n",
    "    C[ii] = random.rand()\n",
    "C"
   ]
  },
  {
   "cell_type": "markdown",
   "metadata": {},
   "source": [
    "### Diagonals\n",
    "You can also construct an array with another array as the diagonal"
   ]
  },
  {
   "cell_type": "code",
   "execution_count": 29,
   "metadata": {
    "jupyter": {
     "outputs_hidden": false
    }
   },
   "outputs": [
    {
     "data": {
      "text/plain": [
       "array([[17,  0,  0,  0,  0],\n",
       "       [ 0, 16,  0,  0,  0],\n",
       "       [ 0,  0, 13,  0,  0],\n",
       "       [ 0,  0,  0, 19,  0],\n",
       "       [ 0,  0,  0,  0, 18]])"
      ]
     },
     "execution_count": 29,
     "metadata": {},
     "output_type": "execute_result"
    }
   ],
   "source": [
    "np.diag(random.randint(10,20,5))"
   ]
  },
  {
   "cell_type": "markdown",
   "metadata": {},
   "source": [
    "### Indexing"
   ]
  },
  {
   "cell_type": "markdown",
   "metadata": {},
   "source": [
    "You can choose which values to select.\n",
    "Normally, you select the `rows` first, and then the `cols` of a `numpy.ndarray`."
   ]
  },
  {
   "cell_type": "code",
   "execution_count": 30,
   "metadata": {
    "jupyter": {
     "outputs_hidden": false
    }
   },
   "outputs": [
    {
     "data": {
      "text/plain": [
       "array([[0.46553534, 0.80295028, 0.55776296, 0.15860847, 0.1118982 ],\n",
       "       [0.55036274, 0.70098747, 0.28942408, 0.74373475, 0.79960217],\n",
       "       [0.74172994, 0.98655323, 0.82522892, 0.38270067, 0.49800163],\n",
       "       [0.33761987, 0.81789844, 0.09216559, 0.04044922, 0.19291235],\n",
       "       [0.27867106, 0.90100235, 0.413101  , 0.10492842, 0.29237274],\n",
       "       [0.21713638, 0.55083725, 0.67963986, 0.40413499, 0.19821837],\n",
       "       [0.95369833, 0.98490999, 0.94392713, 0.88151845, 0.84276563],\n",
       "       [0.5889925 , 0.26112053, 0.85570729, 0.23574   , 0.39922825],\n",
       "       [0.68405149, 0.50203936, 0.9509813 , 0.76056878, 0.08355932],\n",
       "       [0.89245168, 0.07002504, 0.2510241 , 0.96479681, 0.94271905]])"
      ]
     },
     "execution_count": 30,
     "metadata": {},
     "output_type": "execute_result"
    }
   ],
   "source": [
    "M = random.rand(10,5)\n",
    "M"
   ]
  },
  {
   "cell_type": "markdown",
   "metadata": {},
   "source": [
    "Selecting the 1st row (remember Python uses zero-indexing. The 0th index is the first entry.)\n"
   ]
  },
  {
   "cell_type": "code",
   "execution_count": 31,
   "metadata": {
    "jupyter": {
     "outputs_hidden": false
    }
   },
   "outputs": [
    {
     "data": {
      "text/plain": [
       "array([0.46553534, 0.80295028, 0.55776296, 0.15860847, 0.1118982 ])"
      ]
     },
     "execution_count": 31,
     "metadata": {},
     "output_type": "execute_result"
    }
   ],
   "source": [
    "M[0,:]"
   ]
  },
  {
   "cell_type": "markdown",
   "metadata": {},
   "source": [
    "The 2nd column"
   ]
  },
  {
   "cell_type": "code",
   "execution_count": 32,
   "metadata": {
    "jupyter": {
     "outputs_hidden": false
    }
   },
   "outputs": [
    {
     "data": {
      "text/plain": [
       "array([0.80295028, 0.70098747, 0.98655323, 0.81789844, 0.90100235,\n",
       "       0.55083725, 0.98490999, 0.26112053, 0.50203936, 0.07002504])"
      ]
     },
     "execution_count": 32,
     "metadata": {},
     "output_type": "execute_result"
    }
   ],
   "source": [
    "M[:,1]"
   ]
  },
  {
   "cell_type": "markdown",
   "metadata": {},
   "source": [
    "Select a range of columns and rows"
   ]
  },
  {
   "cell_type": "code",
   "execution_count": 33,
   "metadata": {
    "jupyter": {
     "outputs_hidden": false
    }
   },
   "outputs": [
    {
     "data": {
      "text/plain": [
       "array([[0.28942408, 0.74373475],\n",
       "       [0.82522892, 0.38270067]])"
      ]
     },
     "execution_count": 33,
     "metadata": {},
     "output_type": "execute_result"
    }
   ],
   "source": [
    "M[1:3, 2:4]"
   ]
  },
  {
   "cell_type": "markdown",
   "metadata": {},
   "source": [
    "You can easily use this to create a __mask__, for when you are __cleaning/filtering__ your data."
   ]
  },
  {
   "cell_type": "code",
   "execution_count": 34,
   "metadata": {
    "jupyter": {
     "outputs_hidden": false
    }
   },
   "outputs": [
    {
     "data": {
      "text/plain": [
       "array([[       nan, 0.09915337, 0.85370351],\n",
       "       [0.12408671,        nan, 0.5164703 ],\n",
       "       [0.88391812, 0.24158173,        nan]])"
      ]
     },
     "execution_count": 34,
     "metadata": {},
     "output_type": "execute_result"
    }
   ],
   "source": [
    "A = random.rand(3,3)\n",
    "np.fill_diagonal(A, np.nan)\n",
    "A"
   ]
  },
  {
   "cell_type": "code",
   "execution_count": 35,
   "metadata": {
    "jupyter": {
     "outputs_hidden": false
    }
   },
   "outputs": [
    {
     "data": {
      "text/plain": [
       "array([[0, 1, 2],\n",
       "       [3, 4, 5],\n",
       "       [6, 7, 8]])"
      ]
     },
     "execution_count": 35,
     "metadata": {},
     "output_type": "execute_result"
    }
   ],
   "source": [
    "B = np.arange(0,9).reshape((3,3))\n",
    "B"
   ]
  },
  {
   "cell_type": "markdown",
   "metadata": {},
   "source": [
    "Appying the __mask__ from $A \\to B$"
   ]
  },
  {
   "cell_type": "code",
   "execution_count": 36,
   "metadata": {
    "jupyter": {
     "outputs_hidden": false
    }
   },
   "outputs": [
    {
     "data": {
      "text/plain": [
       "array([[False,  True,  True],\n",
       "       [ True, False,  True],\n",
       "       [ True,  True, False]])"
      ]
     },
     "execution_count": 36,
     "metadata": {},
     "output_type": "execute_result"
    }
   ],
   "source": [
    "A_mask = np.isfinite(A)\n",
    "A_mask"
   ]
  },
  {
   "cell_type": "code",
   "execution_count": 37,
   "metadata": {
    "jupyter": {
     "outputs_hidden": false
    }
   },
   "outputs": [
    {
     "data": {
      "text/plain": [
       "array([1, 2, 3, 5, 6, 7])"
      ]
     },
     "execution_count": 37,
     "metadata": {},
     "output_type": "execute_result"
    }
   ],
   "source": [
    "B[A_mask]"
   ]
  },
  {
   "cell_type": "markdown",
   "metadata": {},
   "source": [
    "### Binning you data\n",
    "This is probably one of the best functions of `Numpy`.\n",
    "You can use this to bin you data, and calculate __means__, __standard deviations__, etc."
   ]
  },
  {
   "cell_type": "markdown",
   "metadata": {},
   "source": [
    "#### numpy.digitize"
   ]
  },
  {
   "cell_type": "code",
   "execution_count": 38,
   "metadata": {
    "jupyter": {
     "outputs_hidden": false
    }
   },
   "outputs": [
    {
     "data": {
      "text/plain": [
       "array([ 0,  1,  2,  3,  4,  5,  6,  7,  8,  9, 10, 11, 12])"
      ]
     },
     "execution_count": 38,
     "metadata": {},
     "output_type": "execute_result"
    }
   ],
   "source": [
    "# Creating my bin edges\n",
    "bins = np.arange(0,13)\n",
    "bins"
   ]
  },
  {
   "cell_type": "code",
   "execution_count": 39,
   "metadata": {
    "jupyter": {
     "outputs_hidden": false
    }
   },
   "outputs": [
    {
     "data": {
      "text/plain": [
       "array([8.9686295 , 6.83538751, 9.21728424, 5.69133366, 9.98926363,\n",
       "       8.65809483, 1.99569233, 7.36176369, 8.20817352, 8.78252179,\n",
       "       6.60787535, 4.84938851, 1.44876789, 9.49661259, 8.96235832,\n",
       "       8.27519148, 9.90574793, 6.4101824 , 8.48095955, 8.46062034,\n",
       "       6.9304435 , 5.7537486 , 1.97078023, 3.11545102, 7.5731851 ,\n",
       "       5.35005724, 7.86092322, 4.39532438, 8.32496561, 4.14203401,\n",
       "       1.25410808, 2.49569295, 9.22019044, 2.38857333, 0.3069808 ,\n",
       "       0.7741522 , 9.56383486, 9.44918737, 5.89849977, 5.2630131 ,\n",
       "       1.41882392, 9.21599778, 2.36199095, 3.29263747, 3.56994463,\n",
       "       5.34961878, 9.07476829, 3.5849261 , 0.94446714, 5.23054876])"
      ]
     },
     "execution_count": 39,
     "metadata": {},
     "output_type": "execute_result"
    }
   ],
   "source": [
    "# Generating Data\n",
    "data = 10*random.rand(50)\n",
    "data"
   ]
  },
  {
   "cell_type": "markdown",
   "metadata": {},
   "source": [
    "Now I want to bin my data and calculate the mean for each bin"
   ]
  },
  {
   "cell_type": "code",
   "execution_count": 40,
   "metadata": {
    "jupyter": {
     "outputs_hidden": false
    }
   },
   "outputs": [
    {
     "data": {
      "text/plain": [
       "array([ 9,  7, 10,  6, 10,  9,  2,  8,  9,  9,  7,  5,  2, 10,  9,  9, 10,\n",
       "        7,  9,  9,  7,  6,  2,  4,  8,  6,  8,  5,  9,  5,  2,  3, 10,  3,\n",
       "        1,  1, 10, 10,  6,  6,  2, 10,  3,  4,  4,  6, 10,  4,  1,  6])"
      ]
     },
     "execution_count": 40,
     "metadata": {},
     "output_type": "execute_result"
    }
   ],
   "source": [
    "# Binning the data\n",
    "data_bins = np.digitize(data, bins)\n",
    "data_bins"
   ]
  },
  {
   "cell_type": "markdown",
   "metadata": {},
   "source": [
    "Calculating the __mean__ for each of the bins"
   ]
  },
  {
   "cell_type": "code",
   "execution_count": 41,
   "metadata": {
    "jupyter": {
     "outputs_hidden": false
    }
   },
   "outputs": [
    {
     "data": {
      "text/plain": [
       "array([  0.67520005,   1.61763449,   2.41541908,   3.3907398 ,\n",
       "         4.46224897,   5.50525999,   6.69597219,   7.598624  ,\n",
       "         8.56905721,   9.45920968, -10.        , -10.        ])"
      ]
     },
     "execution_count": 41,
     "metadata": {},
     "output_type": "execute_result"
    }
   ],
   "source": [
    "# Defining statistical function to use\n",
    "stat_func = np.nanmean\n",
    "\n",
    "failval = -10\n",
    "bins_stat = np.array([stat_func(data[data_bins == ii]) \\\n",
    "                      if len(data[data_bins == ii]) > 0 \\\n",
    "                      else failval \\\n",
    "                      for ii in range(1,len(bins))])\n",
    "bins_stat = np.asarray(bins_stat)\n",
    "bins_stat"
   ]
  },
  {
   "cell_type": "markdown",
   "metadata": {},
   "source": [
    "You can put all of this into a function that estimates errors and more..."
   ]
  },
  {
   "cell_type": "code",
   "execution_count": 42,
   "metadata": {},
   "outputs": [],
   "source": [
    "import math\n",
    "\n",
    "def myceil(x, base=10):\n",
    "    \"\"\"\n",
    "    Returns the upper-bound integer of 'x' in base 'base'.\n",
    "\n",
    "    Parameters\n",
    "    ----------\n",
    "    x: float\n",
    "        number to be approximated to closest number to 'base'\n",
    "\n",
    "    base: float\n",
    "        base used to calculate the closest 'largest' number\n",
    "\n",
    "    Returns\n",
    "    -------\n",
    "    n_high: float\n",
    "        Closest float number to 'x', i.e. upper-bound float.\n",
    "\n",
    "    Example\n",
    "    -------\n",
    "    >>>> myceil(12,10)\n",
    "      20\n",
    "    >>>>\n",
    "    >>>> myceil(12.05, 0.1)\n",
    "     12.10000 \n",
    "    \"\"\"\n",
    "    n_high = float(base*math.ceil(float(x)/base))\n",
    "\n",
    "    return n_high\n",
    "\n",
    "def myfloor(x, base=10):\n",
    "    \"\"\"\n",
    "    Returns the lower-bound integer of 'x' in base 'base'\n",
    "\n",
    "    Parameters\n",
    "    ----------\n",
    "    x: float\n",
    "        number to be approximated to closest number of 'base'\n",
    "\n",
    "    base: float\n",
    "        base used to calculate the closest 'smallest' number\n",
    "\n",
    "    Returns\n",
    "    -------\n",
    "    n_low: float\n",
    "        Closest float number to 'x', i.e. lower-bound float.\n",
    "\n",
    "    Example\n",
    "    -------\n",
    "    >>>> myfloor(12, 5)\n",
    "    >>>> 10\n",
    "    \"\"\"\n",
    "    n_low = float(base*math.floor(float(x)/base))\n",
    "\n",
    "    return n_low\n",
    "\n",
    "def Bins_array_create(arr, base=10):\n",
    "    \"\"\"\n",
    "    Generates array between [arr.min(), arr.max()] in steps of `base`.\n",
    "\n",
    "    Parameters\n",
    "    ----------\n",
    "    arr: array_like, Shape (N,...), One-dimensional\n",
    "        Array of numerical elements\n",
    "\n",
    "    base: float, optional (default=10)\n",
    "        Interval between bins\n",
    "\n",
    "    Returns\n",
    "    -------\n",
    "    bins_arr: array_like\n",
    "        Array of bin edges for given arr\n",
    "\n",
    "    \"\"\"\n",
    "    base = float(base)\n",
    "    arr  = np.array(arr)\n",
    "    assert(arr.ndim==1)\n",
    "    arr_min  = myfloor(arr.min(), base=base)\n",
    "    arr_max  = myceil( arr.max(), base=base)\n",
    "    bins_arr = np.arange(arr_min, arr_max+0.5*base, base)\n",
    "\n",
    "    return bins_arr"
   ]
  },
  {
   "cell_type": "code",
   "execution_count": 43,
   "metadata": {},
   "outputs": [],
   "source": [
    "def Mean_std_calc_one_array(x1, y1, arr_len=0, statfunc=np.nanmean,\n",
    "                           failval=np.nan, error='std',\n",
    "                           base=10.):\n",
    "    \"\"\"\n",
    "    Calculates statistics of two arrays, e.g. scatter,\n",
    "    error in `statfunc`, etc.\n",
    "    \n",
    "    Parameters\n",
    "    ----------\n",
    "    x1: array-like, shape (N,)\n",
    "        array of x-values\n",
    "    \n",
    "    y1: array-like, shape (N,)\n",
    "        array of y-values\n",
    "    \n",
    "    arr_len: int, optional (default = 0)\n",
    "        minimum number of elements in the bin\n",
    "    \n",
    "    statfunc: numpy function, optional (default = numpy.nanmean)\n",
    "        statistical function used to evaluate the bins\n",
    "    \n",
    "    failval: int or float, optional (default = numpy.nan)\n",
    "        Number to use to replace when the number of elements in the \n",
    "        bin is smaller than `arr_len`\n",
    "    \n",
    "    error: string, optional (default = 'std')\n",
    "        type of error to evaluate\n",
    "        Options:\n",
    "            - 'std': Evaluates the standard deviation of the bin\n",
    "            - 'stat': Evaluates the error in the mean/median of each bin\n",
    "            - 'none': Does not calculate the error in `y1`\n",
    "    base: float\n",
    "        Value of bin width in units of that of `x1`\n",
    "    \n",
    "    Returns\n",
    "    --------\n",
    "    x1_stat: array-like, shape (N,)\n",
    "        `stat_func` of each bin in `base` spacings for x1\n",
    "\n",
    "    y1_stat: array-like, shape (N,)\n",
    "        `stat_func` of each bin in `base` spacings for y1\n",
    "    \"\"\"\n",
    "    x1 = np.asarray(x1)\n",
    "    y1 = np.asarray(y1)\n",
    "    assert((x1.ndim==1) & (y1.ndim==1))\n",
    "    assert((x1.size >0) & (y1.size>0))\n",
    "    n_elem = len(x1)\n",
    "    ## Computing Bins\n",
    "    x1_bins  = Bins_array_create(x1, base=base)\n",
    "    x1_digit = np.digitize(x1, x1_bins)\n",
    "    ## Computing Statistics in bins\n",
    "    x1_stat = np.array([statfunc(x1[x1_digit==ii]) \n",
    "                                 if len(x1[x1_digit==ii])>arr_len \n",
    "                                 else failval\n",
    "                                 for ii in range(1,x1_bins.size)])\n",
    "    y1_stat = np.array([statfunc(y1[x1_digit==ii])\n",
    "                                 if len(y1[x1_digit==ii])>arr_len \n",
    "                                 else failval\n",
    "                                 for ii in range(1,x1_bins.size)])\n",
    "    ## Computing error in the data\n",
    "    if error=='std':\n",
    "        stat_err = np.nanstd\n",
    "        y1_err = np.array([stat_err(y1[x1_digit==ii]) \n",
    "                                     if len(y1[x1_digit==ii])>arr_len \n",
    "                                     else failval\n",
    "                                     for ii in range(1,x1_bins.size)])\n",
    "    if error!='none':\n",
    "        y1_err = np.array([stat_err(y1[x1_digit==ii])/np.sqrt(len(y1[x1_digit==ii]))\n",
    "                          if len(y1[x1_digit==ii])>arr_len\n",
    "                          else failval\n",
    "                          for ii in range(1,x1_bins.size)])\n",
    "        if (stat_func==np.median) or (stat_func==np.nanmedian):\n",
    "            y1_err *= 1.253\n",
    "    else:\n",
    "        y1_err = np.zeros(y1.stat.size)\n",
    "    \n",
    "    return x1_stat, y1_stat, y1_err"
   ]
  },
  {
   "cell_type": "markdown",
   "metadata": {},
   "source": [
    "__Example of using these function__:"
   ]
  },
  {
   "cell_type": "code",
   "execution_count": 44,
   "metadata": {
    "jupyter": {
     "outputs_hidden": false
    }
   },
   "outputs": [],
   "source": [
    "import numpy as np\n",
    "\n",
    "# Defining arrays\n",
    "x_arr = np.arange(100)\n",
    "y_arr = 50*np.random.randn(x_arr.size)\n",
    "\n",
    "# Computing mean and error in the mean for `x_arr` and `y_arr`\n",
    "x_stat, y_stat, y_err = Mean_std_calc_one_array(x_arr, y_arr,\n",
    "                                               statfunc=np.nanmean,\n",
    "                                               failval=np.nan,\n",
    "                                               base=10)\n",
    "x_stat2, y_stat2, y_err2 = Mean_std_calc_one_array(x_arr, y_arr,\n",
    "                                               statfunc=np.nanmedian,\n",
    "                                               failval=np.nan,\n",
    "                                               base=10)"
   ]
  },
  {
   "cell_type": "code",
   "execution_count": 45,
   "metadata": {
    "jupyter": {
     "outputs_hidden": false
    }
   },
   "outputs": [
    {
     "data": {
      "image/png": "[encoded data removed]",
      "text/plain": [
       "<Figure size 1000x500 with 1 Axes>"
      ]
     },
     "metadata": {},
     "output_type": "display_data"
    }
   ],
   "source": [
    "plt.style.use('seaborn-notebook')\n",
    "fig = plt.figure(figsize=(10,5))\n",
    "ax  = fig.add_subplot(111,facecolor='white')\n",
    "ax.plot(x_arr, y_arr, 'ro', label='Data')\n",
    "ax.errorbar(x_stat, y_stat, yerr=y_err, color='blue', marker='o',\n",
    "           linestyle='--',label='Mean')\n",
    "ax.errorbar(x_stat2, y_stat2, yerr=y_err2, color='green', marker='o',\n",
    "           linestyle='--',label='Median')\n",
    "ax.set_xlabel('X axis', fontsize=20)\n",
    "ax.set_ylabel('Y axis', fontsize=20)\n",
    "ax.set_title('Data and the Binned Data', fontsize=24)\n",
    "ax.legend(loc='lower left',fontsize=16,ncol=3)\n",
    "plt.show()"
   ]
  },
  {
   "cell_type": "markdown",
   "metadata": {},
   "source": [
    "With this function, it is really easy to apply statistics on binned data, as well as to ___estimate errors___ on the data."
   ]
  },
  {
   "cell_type": "markdown",
   "metadata": {},
   "source": [
    "### Reshaping, resizing and stacking arrays\n",
    "One can always modify the shape of a `numpy.ndarray`, as well as append it to a pre-existing array."
   ]
  },
  {
   "cell_type": "code",
   "execution_count": 46,
   "metadata": {
    "jupyter": {
     "outputs_hidden": false
    }
   },
   "outputs": [
    {
     "data": {
      "text/plain": [
       "array([[ 0,  1,  2,  3,  4],\n",
       "       [10, 11, 12, 13, 14],\n",
       "       [20, 21, 22, 23, 24],\n",
       "       [30, 31, 32, 33, 34],\n",
       "       [40, 41, 42, 43, 44]])"
      ]
     },
     "execution_count": 46,
     "metadata": {},
     "output_type": "execute_result"
    }
   ],
   "source": [
    "A = np.array([[n+m*10 for n in range(5)] for m in range(5)])\n",
    "A"
   ]
  },
  {
   "cell_type": "code",
   "execution_count": 47,
   "metadata": {},
   "outputs": [],
   "source": [
    "n, m = A.shape"
   ]
  },
  {
   "cell_type": "code",
   "execution_count": 48,
   "metadata": {
    "jupyter": {
     "outputs_hidden": false
    }
   },
   "outputs": [
    {
     "data": {
      "text/plain": [
       "array([[ 0,  1,  2,  3,  4, 10, 11, 12, 13, 14, 20, 21, 22, 23, 24, 30,\n",
       "        31, 32, 33, 34, 40, 41, 42, 43, 44]])"
      ]
     },
     "execution_count": 48,
     "metadata": {},
     "output_type": "execute_result"
    }
   ],
   "source": [
    "B = A.reshape((1,n*m))\n",
    "B"
   ]
  },
  {
   "cell_type": "code",
   "execution_count": 49,
   "metadata": {
    "jupyter": {
     "outputs_hidden": false
    }
   },
   "outputs": [
    {
     "data": {
      "text/plain": [
       "array([ 0,  1,  2,  3,  4, 10, 11, 12, 13, 14, 20, 21, 22, 23, 24, 30, 31,\n",
       "       32, 33, 34, 40, 41, 42, 43, 44])"
      ]
     },
     "execution_count": 49,
     "metadata": {},
     "output_type": "execute_result"
    }
   ],
   "source": [
    "A_f = A.flatten()\n",
    "A_f"
   ]
  },
  {
   "cell_type": "code",
   "execution_count": 50,
   "metadata": {
    "jupyter": {
     "outputs_hidden": false
    }
   },
   "outputs": [
    {
     "data": {
      "text/plain": [
       "array([0.67652878, 0.18213206, 0.81542718, 0.29406651, 0.77749962,\n",
       "       0.74467574, 0.71475241, 0.59103382, 0.06698872, 0.34022457,\n",
       "       0.60735067, 0.08398835, 0.7639408 , 0.02153487, 0.94033992,\n",
       "       0.90578014, 0.51823368, 0.64699133, 0.40577397, 0.19223504,\n",
       "       0.41123245, 0.51611267, 0.18470238, 0.94204773, 0.71444332])"
      ]
     },
     "execution_count": 50,
     "metadata": {},
     "output_type": "execute_result"
    }
   ],
   "source": [
    "C = random.rand(A.size)\n",
    "C"
   ]
  },
  {
   "cell_type": "code",
   "execution_count": 51,
   "metadata": {
    "jupyter": {
     "outputs_hidden": false
    }
   },
   "outputs": [
    {
     "data": {
      "text/plain": [
       "(25,)"
      ]
     },
     "execution_count": 51,
     "metadata": {},
     "output_type": "execute_result"
    }
   ],
   "source": [
    "C.shape"
   ]
  },
  {
   "cell_type": "code",
   "execution_count": 52,
   "metadata": {
    "jupyter": {
     "outputs_hidden": false
    }
   },
   "outputs": [
    {
     "data": {
      "text/plain": [
       "array([[0.00000000e+00, 6.76528784e-01],\n",
       "       [1.00000000e+00, 1.82132061e-01],\n",
       "       [2.00000000e+00, 8.15427179e-01],\n",
       "       [3.00000000e+00, 2.94066506e-01],\n",
       "       [4.00000000e+00, 7.77499622e-01],\n",
       "       [1.00000000e+01, 7.44675745e-01],\n",
       "       [1.10000000e+01, 7.14752410e-01],\n",
       "       [1.20000000e+01, 5.91033823e-01],\n",
       "       [1.30000000e+01, 6.69887172e-02],\n",
       "       [1.40000000e+01, 3.40224572e-01],\n",
       "       [2.00000000e+01, 6.07350666e-01],\n",
       "       [2.10000000e+01, 8.39883495e-02],\n",
       "       [2.20000000e+01, 7.63940795e-01],\n",
       "       [2.30000000e+01, 2.15348693e-02],\n",
       "       [2.40000000e+01, 9.40339922e-01],\n",
       "       [3.00000000e+01, 9.05780140e-01],\n",
       "       [3.10000000e+01, 5.18233682e-01],\n",
       "       [3.20000000e+01, 6.46991330e-01],\n",
       "       [3.30000000e+01, 4.05773973e-01],\n",
       "       [3.40000000e+01, 1.92235035e-01],\n",
       "       [4.00000000e+01, 4.11232448e-01],\n",
       "       [4.10000000e+01, 5.16112672e-01],\n",
       "       [4.20000000e+01, 1.84702377e-01],\n",
       "       [4.30000000e+01, 9.42047732e-01],\n",
       "       [4.40000000e+01, 7.14443318e-01]])"
      ]
     },
     "execution_count": 52,
     "metadata": {},
     "output_type": "execute_result"
    }
   ],
   "source": [
    "# Stacking the two arrays\n",
    "D = np.column_stack((A_f,C))\n",
    "D"
   ]
  },
  {
   "cell_type": "code",
   "execution_count": 53,
   "metadata": {
    "jupyter": {
     "outputs_hidden": false
    }
   },
   "outputs": [
    {
     "data": {
      "text/plain": [
       "array([[ 2.        ,  0.81542718],\n",
       "       [ 3.        ,  0.29406651],\n",
       "       [ 4.        ,  0.77749962],\n",
       "       [10.        ,  0.74467574],\n",
       "       [11.        ,  0.71475241],\n",
       "       [12.        ,  0.59103382],\n",
       "       [13.        ,  0.06698872],\n",
       "       [14.        ,  0.34022457]])"
      ]
     },
     "execution_count": 53,
     "metadata": {},
     "output_type": "execute_result"
    }
   ],
   "source": [
    "# Selecting from 3rd to 11th row (again, recal zero-indexing)\n",
    "D[2:10]"
   ]
  },
  {
   "cell_type": "markdown",
   "metadata": {},
   "source": [
    "#### np.concatenate\n",
    "You can also concadenate different arrays"
   ]
  },
  {
   "cell_type": "code",
   "execution_count": 54,
   "metadata": {},
   "outputs": [],
   "source": [
    "a = np.array([[1, 2], [3, 4]])\n",
    "b = np.array([[5,6]])"
   ]
  },
  {
   "cell_type": "code",
   "execution_count": 55,
   "metadata": {
    "jupyter": {
     "outputs_hidden": false
    }
   },
   "outputs": [
    {
     "data": {
      "text/plain": [
       "array([[1, 2],\n",
       "       [3, 4],\n",
       "       [5, 6]])"
      ]
     },
     "execution_count": 55,
     "metadata": {},
     "output_type": "execute_result"
    }
   ],
   "source": [
    "np.concatenate((a,b))"
   ]
  },
  {
   "cell_type": "code",
   "execution_count": 56,
   "metadata": {
    "jupyter": {
     "outputs_hidden": false
    }
   },
   "outputs": [
    {
     "data": {
      "text/plain": [
       "array([[1, 2, 5],\n",
       "       [3, 4, 6]])"
      ]
     },
     "execution_count": 56,
     "metadata": {},
     "output_type": "execute_result"
    }
   ],
   "source": [
    "np.concatenate((a,b.T), axis=1)"
   ]
  },
  {
   "cell_type": "markdown",
   "metadata": {},
   "source": [
    "### Copy and \"Deep Copy\"\n",
    "Sometimes it is important to create new _copies_ of arrays and other objects. For this reason, one uses __numpy.copy__ to create _new_ copies of arrays"
   ]
  },
  {
   "cell_type": "code",
   "execution_count": 57,
   "metadata": {
    "jupyter": {
     "outputs_hidden": false
    }
   },
   "outputs": [
    {
     "data": {
      "text/plain": [
       "array([[1, 2],\n",
       "       [3, 4]])"
      ]
     },
     "execution_count": 57,
     "metadata": {},
     "output_type": "execute_result"
    }
   ],
   "source": [
    "A = np.array([[1, 2], [3, 4]])\n",
    "A"
   ]
  },
  {
   "cell_type": "code",
   "execution_count": 58,
   "metadata": {},
   "outputs": [],
   "source": [
    "# `B` is now referring to the same array data as `A`\n",
    "B = A"
   ]
  },
  {
   "cell_type": "markdown",
   "metadata": {},
   "source": [
    "If we make any changes to `B`, __`A` will also be affected by this change__."
   ]
  },
  {
   "cell_type": "code",
   "execution_count": 59,
   "metadata": {
    "jupyter": {
     "outputs_hidden": false
    }
   },
   "outputs": [
    {
     "data": {
      "text/plain": [
       "array([[10,  2],\n",
       "       [ 3,  4]])"
      ]
     },
     "execution_count": 59,
     "metadata": {},
     "output_type": "execute_result"
    }
   ],
   "source": [
    "B[0,0] = 10\n",
    "B"
   ]
  },
  {
   "cell_type": "code",
   "execution_count": 60,
   "metadata": {
    "jupyter": {
     "outputs_hidden": false
    }
   },
   "outputs": [
    {
     "data": {
      "text/plain": [
       "array([[10,  2],\n",
       "       [ 3,  4]])"
      ]
     },
     "execution_count": 60,
     "metadata": {},
     "output_type": "execute_result"
    }
   ],
   "source": [
    "A"
   ]
  },
  {
   "cell_type": "markdown",
   "metadata": {},
   "source": [
    "To get a __completely independent, new object__, you would use:"
   ]
  },
  {
   "cell_type": "code",
   "execution_count": 61,
   "metadata": {
    "jupyter": {
     "outputs_hidden": false
    }
   },
   "outputs": [
    {
     "data": {
      "text/plain": [
       "array([[-5,  2],\n",
       "       [ 3,  4]])"
      ]
     },
     "execution_count": 61,
     "metadata": {},
     "output_type": "execute_result"
    }
   ],
   "source": [
    "A = np.array([[1, 2], [3, 4]])\n",
    "B = np.copy(A)\n",
    "\n",
    "# Modifying `B`\n",
    "B[0,0] = -5\n",
    "B"
   ]
  },
  {
   "cell_type": "code",
   "execution_count": 62,
   "metadata": {
    "jupyter": {
     "outputs_hidden": false
    }
   },
   "outputs": [
    {
     "data": {
      "text/plain": [
       "array([[1, 2],\n",
       "       [3, 4]])"
      ]
     },
     "execution_count": 62,
     "metadata": {},
     "output_type": "execute_result"
    }
   ],
   "source": [
    "A"
   ]
  },
  {
   "cell_type": "markdown",
   "metadata": {},
   "source": [
    "The array `A` was not affected by this changed. This is important when you're constantly re-defining new arrays"
   ]
  },
  {
   "cell_type": "markdown",
   "metadata": {},
   "source": [
    "# Scipy - Library of Scientific Algorithms for Python"
   ]
  },
  {
   "cell_type": "markdown",
   "metadata": {},
   "source": [
    "`SciPy` provides a large number of higher-level scientif algorithms.\n",
    "It includes:\n",
    "- Special Functions\n",
    "- Integration\n",
    "- Optimization\n",
    "- Interpolation\n",
    "- Fourier Transforms\n",
    "- Signal Processing\n",
    "- Linear Algebra\n",
    "- Statistics\n",
    "- Multi-dimensional image processing"
   ]
  },
  {
   "cell_type": "code",
   "execution_count": 63,
   "metadata": {},
   "outputs": [],
   "source": [
    "import scipy as sc"
   ]
  },
  {
   "cell_type": "markdown",
   "metadata": {},
   "source": [
    "## Interpolation\n",
    "You can use `Scipy` to interpolate your data.\n",
    "You would use the `interp1d` function to interpolate your function."
   ]
  },
  {
   "cell_type": "code",
   "execution_count": 64,
   "metadata": {},
   "outputs": [],
   "source": [
    "from scipy.interpolate import interp1d"
   ]
  },
  {
   "cell_type": "code",
   "execution_count": 65,
   "metadata": {},
   "outputs": [],
   "source": [
    "def f(x):\n",
    "    return np.sin(x)"
   ]
  },
  {
   "cell_type": "code",
   "execution_count": 66,
   "metadata": {},
   "outputs": [
    {
     "data": {
      "image/png": "[encoded data removed]",
      "text/plain": [
       "<Figure size 1500x600 with 1 Axes>"
      ]
     },
     "metadata": {},
     "output_type": "display_data"
    }
   ],
   "source": [
    "n = np.arange(0, 10)  \n",
    "x = np.linspace(0, 9, 100)\n",
    "\n",
    "y_meas = f(n) + 0.1 * np.random.randn(len(n)) # simulate measurement with noise\n",
    "y_real = f(x)\n",
    "\n",
    "linear_interpolation = interp1d(n, y_meas)\n",
    "y_interp1 = linear_interpolation(x)\n",
    "\n",
    "cubic_interpolation = interp1d(n, y_meas, kind='cubic')\n",
    "y_interp2 = cubic_interpolation(x)\n",
    "\n",
    "\n",
    "fig, ax = plt.subplots(figsize=(15,6))\n",
    "ax.set_facecolor('white')\n",
    "ax.plot(n, y_meas, 'bo', markersize=10,label='noisy data')\n",
    "ax.plot(x, y_real, 'k', linewidth=2, label='true function')\n",
    "ax.plot(x, y_interp1, 'r', label='linear interp')\n",
    "ax.plot(x, y_interp2, 'g', label='cubic interp')\n",
    "ax.legend(loc=3, prop={'size':20});\n",
    "ax.tick_params(axis='both', which='major', labelsize=20)\n",
    "ax.tick_params(axis='both', which='minor', labelsize=15)\n",
    "plt.show()"
   ]
  },
  {
   "cell_type": "markdown",
   "metadata": {},
   "source": [
    "__So that's it for today's lesson__"
   ]
  },
  {
   "cell_type": "markdown",
   "metadata": {},
   "source": [
    "# Next session:\n",
    "- Advanced Visualization\n",
    "- Seaborn"
   ]
  },
  {
   "cell_type": "code",
   "execution_count": null,
   "metadata": {},
   "outputs": [],
   "source": []
  }
 ],
 "metadata": {
  "kernelspec": {
   "display_name": "Python 3 (ipykernel)",
   "language": "python",
   "name": "python3"
  },
  "language_info": {
   "codemirror_mode": {
    "name": "ipython",
    "version": 3
   },
   "file_extension": ".py",
   "mimetype": "text/x-python",
   "name": "python",
   "nbconvert_exporter": "python",
   "pygments_lexer": "ipython3",
   "version": "3.9.13"
  }
 },
 "nbformat": 4,
 "nbformat_minor": 4
}
