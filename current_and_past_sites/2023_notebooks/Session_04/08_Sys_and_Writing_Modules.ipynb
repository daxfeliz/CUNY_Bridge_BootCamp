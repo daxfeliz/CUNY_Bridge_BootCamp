{
 "cells": [
  {
   "cell_type": "markdown",
   "metadata": {},
   "source": [
    "# Fourth Session, Notebook # 8:  Practicing with Sys in Python and writing our own Python scripts\n",
    "\n",
    "## Today's agenda:\n",
    "0. __Workshop Overview__:\n",
    "    * __When__: August 17th, 12pm-5pm\n",
    "    * __Where__: CUNY Graduate Center, Room 5382\n",
    "    * __What__: Today we will be practicing with Sys in Python and writing our own Python scripts!\n",
    "    * __Want__ to lead a session for a topic? Some Days there will be small hack sessions for people to discuss problems they're working on.\n",
    "    * __Online Resources__:  __https://daxfeliz.github.io/cunybridgebootcamp/__\n",
    "    * __Program Schedule__: __https://tinyurl.com/4r35txe2__   \n",
    "&nbsp;\n",
    "\n",
    "1. __This session__:\n",
    "* Introduction to the Sys python library\n",
    "* Writing our own Python scripts\n",
    "* Practicing reading in our Python scripts\n",
    "</br>\n",
    "&nbsp;\n",
    "\n",
    "2. __Next session__:\n",
    "    * Introduction to Pandas! __Make sure you bring your laptop to this session and future sessions__.\n"
   ]
  },
  {
   "cell_type": "markdown",
   "metadata": {},
   "source": [
    "# Sys\n",
    "\n",
    "The __`sys`__ module provides a lot of information about the Python interpreter. The functionality that we're interested in is the ability to use __`sys`__ to parse information from the command line. This can be used to make programs and modules useful when run from the command line.\n",
    "\n",
    "After importing __`sys`__, __```sys.argv```__ provides a list of all the parameters that the current python script was called with. A program that doesn't take any paramters will only have one item in this list, where the 0th item is the name of the program. Any paramters that are passed into the script will be listed after.\n",
    "\n",
    "From a command line, try running the following in the notebooks directory:  \n",
    "\n",
    "```sh\n",
    "\n",
    "python arguments.py arg1 arg2\n",
    "\n",
    "```\n",
    "\n",
    "In this script from http://www.python-course.eu/sys_module.php, we see that the 0th term in sys.argv is arguments.py and the rest of the list is the parameters we passed in. This will come in handy with our module.\n",
    "\n",
    "The contents of `arguments.py` looks like:\n"
   ]
  },
  {
   "cell_type": "markdown",
   "metadata": {},
   "source": [
    "```python\n",
    "#!/usr/bin/python\n",
    "\n",
    "import sys\n",
    "\n",
    "# it's easy to print this list of course:\n",
    "print (sys.argv)\n",
    "\n",
    "# or it can be iterated via a for loop:\n",
    "print(' ')\n",
    "for i in range(len(sys.argv)):\n",
    "    if i == 0:\n",
    "        print (\"Function name: %s\" % sys.argv[0])\n",
    "        print(' ')\n",
    "    else:\n",
    "        print (\"%d. argument: %s\" % (i,sys.argv[i]))\n",
    "        print(' ')        \n",
    "\n",
    "\n",
    "# copied from http://www.python-course.eu/sys_module.php\n",
    "```"
   ]
  },
  {
   "cell_type": "markdown",
   "metadata": {},
   "source": [
    "# Writing a Module\n",
    "\n",
    "There will always be some code that you have to write yourself. When you're working on a single script that does the same things repeatedly, it makes sense to start writing functions within the script. However, you may also have operations that are carried out in multiple scripts for various projects. In this case, we'd like to be able to use that same function in all scripts. This will be very similar to writing a single function, so we'll try out the function, but the file that contains our module is stellar_radius.py\n",
    "\n",
    "For this function, we'll say that we want to be able to take the mass of a star and calculate the radius. For stars larger than the sun, we can approximate this as $R=M^{0.57}$. For smaller-mass stars, we can approximate this as $R=M^{0.8}$"
   ]
  },
  {
   "cell_type": "code",
   "execution_count": 1,
   "metadata": {},
   "outputs": [],
   "source": [
    "def stellar_r(mass):\n",
    "    if mass<1: #smaller stars than sun\n",
    "        starR=mass**0.8\n",
    "    if mass>1:#larger stars than sun\n",
    "        starR=mass**0.57\n",
    "    if mass==1: #stars with equal mass of sun\n",
    "        starR=1\n",
    "    return starR"
   ]
  },
  {
   "cell_type": "markdown",
   "metadata": {},
   "source": [
    "This is a really simple equation, but by making this a function, we can make it more sophisticated or change the exponent in one spot, and it will be updated everywhere. We can quickly test this out to see that the function works the way that we expect when called."
   ]
  },
  {
   "cell_type": "code",
   "execution_count": 2,
   "metadata": {},
   "outputs": [
    {
     "name": "stdout",
     "output_type": "stream",
     "text": [
      "1.2600042722366593 solar radii\n",
      "1 solar radii\n",
      "0.5743491774985174 solar radii\n"
     ]
    }
   ],
   "source": [
    "print(stellar_r(1.5),'solar radii')\n",
    "print(stellar_r(1),'solar radii')\n",
    "print(stellar_r(0.5),'solar radii')"
   ]
  },
  {
   "cell_type": "markdown",
   "metadata": {},
   "source": [
    "You can also pass a NumPy array to the function"
   ]
  },
  {
   "cell_type": "code",
   "execution_count": 3,
   "metadata": {},
   "outputs": [],
   "source": [
    "%matplotlib inline\n",
    "import matplotlib.pyplot as plt\n",
    "import numpy as np"
   ]
  },
  {
   "cell_type": "code",
   "execution_count": 4,
   "metadata": {},
   "outputs": [
    {
     "data": {
      "image/png": "[encoded data removed]",
      "text/plain": [
       "<Figure size 640x480 with 1 Axes>"
      ]
     },
     "metadata": {},
     "output_type": "display_data"
    }
   ],
   "source": [
    "mass_arr = np.arange(0.8, 5, 0.1)\n",
    "\n",
    "radius_arr=[]\n",
    "for mass in mass_arr:\n",
    "    radius_arr.append( stellar_r( mass ) )\n",
    "\n",
    "plt.plot(mass_arr,radius_arr,'k-')\n",
    "plt.xlabel(r'Stellar Mass [M$_{\\odot}$]')\n",
    "plt.ylabel(r'Stellar Radius [R$_{\\odot}$]')\n",
    "plt.show()\n",
    "\n",
    "\n"
   ]
  },
  {
   "cell_type": "markdown",
   "metadata": {},
   "source": [
    "If we want to use this module that we've created, we can inport it as we have with other modules. When we import it, we're using the file name, and then when we call the function, we have to include the function name and for this module those two are the same. These could also be different, where the file name is one thing, and then it contains one or more functions that have names that don't match it."
   ]
  },
  {
   "cell_type": "code",
   "execution_count": 13,
   "metadata": {},
   "outputs": [
    {
     "name": "stdout",
     "output_type": "stream",
     "text": [
      "[0.83651164 0.91916612 1.         1.07923035 1.157031   1.2335441\n",
      " 1.30888783 1.38316187 1.45645136 1.52882979 1.60036117 1.6711017\n",
      " 1.74110113 1.81040373 1.87904917 1.94707315 2.01450799 2.08138302\n",
      " 2.14772503 2.21355854 2.27890607 2.34378839 2.40822469 2.47223275\n",
      " 2.53582911 2.59902916 2.66184727 2.7242969  2.78639063 2.8481403\n",
      " 2.90955705 2.97065136 3.03143313 3.09191172 3.15209597 3.21199429\n",
      " 3.27161463 3.33096455 3.39005126 3.44888161 3.50746212 3.56579904]\n"
     ]
    }
   ],
   "source": [
    "import stellar_radius as staR\n",
    "print (staR.stellar_radius(mass_arr))\n"
   ]
  },
  {
   "cell_type": "markdown",
   "metadata": {},
   "source": [
    "This is what the \"`stellar_radius.py`\" file looks like:"
   ]
  },
  {
   "cell_type": "markdown",
   "metadata": {},
   "source": [
    "```python\n",
    "# %load ./stellar_radius.py\n",
    "#!/usr/bin/env python\n",
    "import numpy as np\n",
    "import sys\n",
    "\n",
    "def stellar_r(mass):\n",
    "    if mass<1: #smaller stars than sun\n",
    "        starR=mass**0.8\n",
    "    if mass>1:#larger stars than sun\n",
    "        starR=mass**0.57\n",
    "    if mass==1: #stars with equal mass of sun\n",
    "        starR=1\n",
    "    return starR\n",
    "\n",
    "if __name__ == \"__main__\":\n",
    "    print(stellar_radius(float(sys.argv[1]))) #mass\n",
    "```\n",
    "    "
   ]
  },
  {
   "cell_type": "markdown",
   "metadata": {},
   "source": [
    "This all works for if we simply want to import the function into another python function, but it can often be useful to be able to run these functions from a command line (for example, so that we can use execute this python function in another scripting language or so that we can run it from the command line for quick calculations)\n",
    "\n",
    "The simplest form of a module file just contains a series of functions without running any of them, but we can add some additional code to the module file that will be run if this file is executed rather than imported.\n",
    "\n",
    "This code consists of an if statement. The \\_\\_name\\_\\_ property relates to what the code is called, and if the file is called directly, it will be True. If the code is imported, then this code won't be executed. What follows is a single line that calls the stellar radius function using the argument that will get passed in from the command line."
   ]
  },
  {
   "cell_type": "markdown",
   "metadata": {},
   "source": [
    "```python\n",
    "    if __name__ == \"__main__\":  \n",
    "       print (stellar_radius(float(sys.argv[1]))) #mass\n",
    "```"
   ]
  },
  {
   "cell_type": "markdown",
   "metadata": {},
   "source": [
    "We can test this out, then, by going into the directory for the notebook and calling the code from the terminal\n",
    "    python stellar_radius.py 0.9  \n",
    "    \n",
    "We could also call this code from another operating language if needed."
   ]
  },
  {
   "cell_type": "markdown",
   "metadata": {},
   "source": [
    "## Adding your modules to your `Python Path`\n",
    "\n",
    "Normally, you want to have a unique folder, in which you save all of your modules and you can reuse them whenever you want.\n",
    "\n",
    "This can be done by first creating a folder in your path.\n",
    "\n",
    "Let's first create a folder with the name \"__custom_utilities__\" in your current working directory (cwd)"
   ]
  },
  {
   "cell_type": "code",
   "execution_count": 14,
   "metadata": {},
   "outputs": [
    {
     "name": "stdout",
     "output_type": "stream",
     "text": [
      "/Users/daxfeliz/Desktop/Mentoring_Teaching/CUNY_Bridge_Bootcamp/current_stuff/cunybridgebootcamp/current_and_past_sites/2023_notebooks/Session_04/custom_utilities\n"
     ]
    }
   ],
   "source": [
    "import os\n",
    "cwd_path= os.getcwd()+'/' \n",
    "\n",
    "print(cwd_path+\"custom_utilities\") #lets see what our path looks like. It's where you ran this jupyter notebook from\n",
    "\n",
    "if not os.path.exists(cwd_path):\n",
    "    os.makedirs(cwd_path)\n",
    "    os.mkdir(cwd_path+\"custom_utilities\")\n",
    "    os.mkdir(cwd_path+\"custom_utilities/python_modules/\")\n"
   ]
  },
  {
   "cell_type": "markdown",
   "metadata": {},
   "source": [
    "The structure of your directory would be:\n",
    "\n",
    "```sh\n",
    "modules/\n",
    "    __init__.py\n",
    "    adv/\n",
    "        __init__.py\n",
    "        sqrt.py\n",
    "        fib.py\n",
    "    arithmetic.py\n",
    "```"
   ]
  },
  {
   "cell_type": "markdown",
   "metadata": {},
   "source": [
    "For example, let's create a module that computes the fibonacci sequence for a given `n`, under `\"./modules/adv/fib.py\"`"
   ]
  },
  {
   "cell_type": "code",
   "execution_count": 7,
   "metadata": {},
   "outputs": [],
   "source": [
    "# %load ./modules/adv/fib.py\n",
    "#! /usr/bin/env python\n",
    "\n",
    "# NAME\n",
    "# DATE\n",
    "# CUNY Bridge Program\n",
    "__author__     =['YOUR NAME']\n",
    "__copyright__  =[\"Copyright 2022 YOUR NAME, Name of Project\"]\n",
    "__email__      =['Email Address']\n",
    "__maintainer__ =['Your Name']\n",
    "\n",
    "__all__=[\"fibonacci\"]\n",
    "\n",
    "from math import sqrt\n",
    "\n",
    "\n",
    " \n",
    "#----------------------------------------------------------------------\n",
    "def fibonacci(n):\n",
    "    \"\"\"\n",
    "    http://stackoverflow.com/questions/494594/how-to-write-the-fibonacci-sequence-in-python\n",
    "    \"\"\"\n",
    "    return ((1+sqrt(5))**n-(1-sqrt(5))**n)/(2**n*sqrt(5))"
   ]
  },
  {
   "cell_type": "markdown",
   "metadata": {},
   "source": [
    "And one that computes the square roots for a given number `_n_`."
   ]
  },
  {
   "cell_type": "code",
   "execution_count": 8,
   "metadata": {},
   "outputs": [],
   "source": [
    "# %load ./modules/adv/sqrt.py\n",
    "#! /usr/bin/env python\n",
    "\n",
    "# NAME\n",
    "# DATE\n",
    "# CUNY Bridge Program\n",
    "__author__     =['YOUR NAME']\n",
    "__copyright__  =[\"Copyright 2022 YOUR NAME, Name of Project\"]\n",
    "__email__      =['Email Address']\n",
    "__maintainer__ =['Your Name']\n",
    "\n",
    "__all__=[\"squareroot\"]\n",
    "\n",
    "import math\n",
    " \n",
    "#----------------------------------------------------------------------\n",
    "def squareroot(n):\n",
    "    \"\"\"\"\"\"\n",
    "    return math.sqrt(n)"
   ]
  },
  {
   "cell_type": "markdown",
   "metadata": {},
   "source": [
    "For each folder and subfolder, you need a ```\"__init__.py\"``` file\n",
    "\n",
    "This is how it looks like"
   ]
  },
  {
   "cell_type": "code",
   "execution_count": 9,
   "metadata": {},
   "outputs": [],
   "source": [
    "# %load ./modules/__init__.py\n",
    "#! /usr/bin/env python\n",
    "\n",
    "# NAME\n",
    "# DATE\n",
    "# CUNY Bridge Program\n",
    "__author__     =['YOUR NAME']\n",
    "__copyright__  =[\"Copyright 2023 YOUR NAME, Name of Project\"]\n",
    "__email__      =['Email Address']\n",
    "__maintainer__ =['Your Name']\n",
    "\n",
    "__all__ = [\"add\", \"division\", \"multiply\", \"subtract\", \"fibonacci\", \"squareroot\"]\n",
    "\n",
    "\n",
    "# however, when trying to import a python script from another directory, you need to append its location\n",
    "# to your PATH, like so:\n",
    "import sys\n",
    "sys.path.append(os.getcwd()+'/modules/')\n",
    "\n",
    "from arithmetic import add\n",
    "from arithmetic import division\n",
    "from arithmetic import multiply\n",
    "from arithmetic import subtract\n",
    "\n",
    "from adv.fib import fibonacci\n",
    "from adv.sqrt import squareroot"
   ]
  },
  {
   "cell_type": "markdown",
   "metadata": {},
   "source": [
    "And for the one in the __adv__ folder. This file can be empty"
   ]
  },
  {
   "cell_type": "code",
   "execution_count": 10,
   "metadata": {},
   "outputs": [],
   "source": [
    "# %load ./modules/adv/__init__.py\n"
   ]
  },
  {
   "cell_type": "markdown",
   "metadata": {},
   "source": [
    "The _last_ step to take when creating your own modules is to append your ```PYTHONPATH```."
   ]
  },
  {
   "cell_type": "code",
   "execution_count": 11,
   "metadata": {},
   "outputs": [
    {
     "name": "stdout",
     "output_type": "stream",
     "text": [
      "echo 'export PYTHONPATH=/Users/daxfeliz/Desktop/Mentoring_Teaching/CUNY_Bridge_Bootcamp/current_stuff/cunybridgebootcamp/current_and_past_sites/2023_notebooks/Session_04/custom_utilities/python_modules/:$PYTHONPATH' >> $HOME/.bash_profile\n"
     ]
    },
    {
     "data": {
      "text/plain": [
       "0"
      ]
     },
     "execution_count": 11,
     "metadata": {},
     "output_type": "execute_result"
    }
   ],
   "source": [
    "new_path = os.getcwd()+'/custom_utilities/python_modules/'\n",
    "command = \"echo 'export PYTHONPATH=\"+new_path+\":$PYTHONPATH' >> $HOME/.bash_profile\"\n",
    "print(command)\n",
    "os.system(command) #execute command from within python, instead of through command terminal"
   ]
  },
  {
   "cell_type": "markdown",
   "metadata": {},
   "source": [
    "For more details about creating your own modules, you can look at:\n",
    "- [https://www.blog.pythonlibrary.org/2012/07/08/python-201-creating-modules-and-packages/](https://www.blog.pythonlibrary.org/2012/07/08/python-201-creating-modules-and-packages/)\n",
    "- [https://www.w3schools.com/python/python_modules.asp](https://www.w3schools.com/python/python_modules.asp)"
   ]
  },
  {
   "cell_type": "markdown",
   "metadata": {},
   "source": [
    "# Writing a Module Exercise\n",
    "\n",
    "To wrap up this concept, we can try this with a fresh example that may be useful to have in the future. We can use the rest of the time for writing and debugging a simple Python module that will take an input in hours, minutes, and seconds and return a value that is decimal hours. In this case, we have three values that will be passed in.\n",
    "\n",
    "## What we'll need\n",
    "- A function that will do the needed conversion\n",
    "- A statement at the end of the code that will be executed if we call the code directly\n",
    "(the code for stellar radius can be thought of as a template for this)"
   ]
  }
 ],
 "metadata": {
  "kernelspec": {
   "display_name": "Python 3 (ipykernel)",
   "language": "python",
   "name": "python3"
  },
  "language_info": {
   "codemirror_mode": {
    "name": "ipython",
    "version": 3
   },
   "file_extension": ".py",
   "mimetype": "text/x-python",
   "name": "python",
   "nbconvert_exporter": "python",
   "pygments_lexer": "ipython3",
   "version": "3.9.13"
  }
 },
 "nbformat": 4,
 "nbformat_minor": 1
}
