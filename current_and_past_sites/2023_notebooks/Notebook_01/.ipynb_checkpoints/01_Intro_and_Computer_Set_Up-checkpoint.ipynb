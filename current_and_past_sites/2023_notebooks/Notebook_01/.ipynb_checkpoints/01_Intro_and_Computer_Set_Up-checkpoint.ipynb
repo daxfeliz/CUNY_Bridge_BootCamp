{
 "cells": [
  {
   "cell_type": "markdown",
   "id": "db0f1c98",
   "metadata": {},
   "source": [
    "# First Session Introduction\n",
    "\n",
    "## Today's agenda:\n",
    "0. __Workshop Overview__:\n",
    "    * __When__: August 14th, 2-5pm<!---*insert day* from *insert time range*--->\n",
    "    * __Where__: CUNY Graduate Center <!---*insert room number--->\n",
    "    * __What__: Most days we'll be working on a new topic (or topics) in coding\n",
    "    * __Want__ to lead a session for a topic? Some Days there will be small hack sessions for people to discuss problems they're working on.\n",
    "    * __Online Resources__: \n",
    "    __https://daxfeliz.github.io/cunybridgebootcamp/__\n",
    "    * __Program Schedule__:\n",
    "    __https://tinyurl.com/4r35txe2__\n",
    "\n",
    "\n",
    "\n",
    "1. __This session__:\n",
    "    * Introduction to the class, Anaconda installation, Bash environment set up and setting up Git & Github access  and to some __useful__ programs and services applicable to research.\n",
    "\n",
    "2. __Next session__:\n",
    "\n",
    "    * GitHub practice! __Make sure you bring your laptop to this session and future sessions__.\n",
    "\n"
   ]
  },
  {
   "cell_type": "code",
   "execution_count": null,
   "id": "035b2f0c",
   "metadata": {},
   "outputs": [],
   "source": []
  },
  {
   "cell_type": "markdown",
   "id": "0f0a4f4a",
   "metadata": {},
   "source": [
    "# Step 0: Getting used to using the Command Terminal \n",
    "In Linux/Mac OSX systems, there will be an application called a Command Terminal (or sometimes just called Terminal) that we can use to navigate our computers with or run code from. To find the Terminal:\n",
    "\n",
    "* In Linux computers, you can search for Terminal in the Application Finder menu.\n",
    "* In Mac OSX computers, you can use the Finder tool to look in your Applications/utilities folder to find the Terminal application.\n",
    "\n",
    "I'd recommend pinning this application to your tool bar for easy access."
   ]
  },
  {
   "cell_type": "code",
   "execution_count": null,
   "id": "4f9cd7b7",
   "metadata": {},
   "outputs": [],
   "source": []
  },
  {
   "cell_type": "markdown",
   "id": "181a6c11",
   "metadata": {},
   "source": [
    "# Step 1: Installing Anaconda!"
   ]
  },
  {
   "cell_type": "markdown",
   "id": "ca7d09be",
   "metadata": {},
   "source": [
    "Anaconda is a great way to handle your modules and their dependencies.\n",
    "\n",
    "You have the option to use install __Python 2.7__ or __Python 3.10__. In astronomy, the version _Python 2.7_ is mostly used, although new modules are actively being adopted for version 3.10\n",
    "\n",
    "- [Download Anaconda](https://www.anaconda.com/products/distribution)\n"
   ]
  },
  {
   "cell_type": "markdown",
   "id": "6414aacf",
   "metadata": {},
   "source": [
    "# Step 2: Some quick bash basics!"
   ]
  },
  {
   "cell_type": "markdown",
   "id": "ca4b3eed",
   "metadata": {},
   "source": [
    "### Basic bash commands\n",
    "* `pwd` - Returns the pathway that you are currently in (i.e. how to list where you are currently located in your machine.)\n",
    "* `cd [path]` - Change the path you are in\n",
    "* `ls [file name]` - list all files in the current location with a input file name\n",
    "* `vim [file name]` - will open a text editor for a input file name\n",
    "\n",
    "### vim basics:\n",
    "* `vim [file name]` will activate a text editor in your terminal\n",
    "* once the text editor is activated, you will see the contents of the file\n",
    "* to make edits, press `\"i\"` once to enter \"insert\" mode. Then you can type in changes to the file.\n",
    "* Note: cursor clicks don't work in vim, you'll need to use the arrow keys to get around. You can scroll though!\n",
    "* Once your edits are complete, press `\"esc\"` once to exit \"insert mode\".\n",
    "* To save your changes, type in `\":w\"`\n",
    "* To quit the vim text editor, type in `\":q\"`. Note unsaved changes will prevent this.\n",
    "* To force quit without saving changes, type in `\":q!\"`.\n",
    "* To save your changes and exit the vim text editor in one step, type in `\":wq\"`\n",
    "* To overwrite the file and force quit to exit the vim text editor in one step,, type in `\":wq!\"` \n"
   ]
  },
  {
   "cell_type": "markdown",
   "id": "11ebe562",
   "metadata": {},
   "source": [
    "# Step 3: Using Vim for editing our computer environments"
   ]
  },
  {
   "cell_type": "markdown",
   "id": "9f65569b",
   "metadata": {},
   "source": [
    "After the Anaconda installation is complete, you should see that your \"_PATH_\" was modified in your \"__~/.bashrc__\" (Linux) or \"__~/bash_profile__\" file. If your Mac has Catalina as its operating system, it uses a \"zshell\" instead of a \"bash shell\". Instea of a \"__~/.bashrc__\" file, you should have a \"__~/.zshrc__\" file.\n",
    "\n",
    "To check if you have a __~/.bashrc__ file (or \"__~/.zshrc__\" file), enter this command in your terminal:\n",
    "```bash\n",
    "ls ~/.bashrc\n",
    "```\n",
    "\n",
    "or \n",
    "\n",
    "```bash\n",
    "ls ~/.zshrc\n",
    "```\n",
    "\n",
    "If you do not have a __~/.bashrc__ file (or \"__~/.zshrc__\" file), you can create one like so:\n",
    "\n",
    "```bash\n",
    "vi ~/.bashrc\n",
    "```\n",
    "\n",
    "or \n",
    "\n",
    "```bash\n",
    "vi ~/.zshrc\n",
    "```\n",
    "which will open a blank file. Enter into insert mode (type \"i\"), then paste in:\n",
    "\n",
    "```bash\n",
    "PATH=$PATH:~/bin\n",
    "```\n",
    "\n",
    "\n",
    "For Mac OSX Users, another step is required:\n",
    "\n",
    "For users with OSX 10.11+, you'll have to edit your \"__~/.bash_profile__\" file to include the line:\n",
    "\n",
    "```bash\n",
    "source ~/.bashrc\n",
    "```\n",
    "\n",
    "or if you have Catalina installed (OSX 12+), you'll have to edit your \"__~/.zprofile__\" file to include the line:\n",
    "```bash\n",
    "source ~/.zshrc\n",
    "```\n",
    "#### So then, in your __~/.bashrc__ file (or \"__~/.zshrc__\" file), you should see the following line somewhere in the file's contents:\n",
    "\n",
    "```bash\n",
    "export PATH=\"~/anaconda3/bin:$PATH\"\n",
    "```"
   ]
  },
  {
   "cell_type": "markdown",
   "id": "efa0b9ea",
   "metadata": {},
   "source": [
    "### Updated Anaconda modules\n",
    "\n",
    "Whenever you want to update your Python modules to the latest versions, you can just run these commands from the terminal:\n",
    "    \n",
    "```bash\n",
    "conda update conda\n",
    "```\n",
    "\n",
    "### Installing new Modules\n",
    "\n",
    "If you want to install a new module that is hosted by Anaconda, you can type:\n",
    "    \n",
    "```bash\n",
    "conda install <name of package>\n",
    "```\n",
    "\n",
    "And the package should be installed with _all_ the necessary dependencies."
   ]
  },
  {
   "cell_type": "code",
   "execution_count": null,
   "id": "c8e01611",
   "metadata": {},
   "outputs": [],
   "source": []
  },
  {
   "cell_type": "markdown",
   "id": "1e0f2e13",
   "metadata": {},
   "source": [
    "# Step 4: Setting up Git and GitHub"
   ]
  },
  {
   "cell_type": "markdown",
   "id": "558810d7",
   "metadata": {},
   "source": [
    "Nowadays it is really important to keep track of every change that make to a code, especially if you're \n",
    "part of a large organizations.\n",
    "\n",
    "Git is a tool for _version control_ of your code, i.e. you can keep track of\n",
    "- any changes made to your code\n",
    "- any issues with your code\n",
    "- you can consult other team members about implementing a new feature\n",
    "- you can restore a code to a previous version\n",
    "- etc.\n",
    "\n",
    "In a nutshell, __you should be using Git__.\n",
    "\n",
    "_Git_ might already come pre-installed with _Anaconda_. You can test whether it is installed on your machine by typing:\n",
    "    \n",
    "```bash\n",
    "which git\n",
    "```\n",
    "\n",
    "And you shoud see the path to the _git_ executable.\n",
    "\n",
    "If it is not installed or if you see a pathname which differs from something like `/Users/USERNAME/opt/anaconda3/bin/git`, you can install it with the command:\n",
    "```bash\n",
    "conda install git\n",
    "```\n",
    "Otherwise, you can install it from [here](https://git-scm.com/)\n"
   ]
  },
  {
   "cell_type": "markdown",
   "id": "3e9a0135",
   "metadata": {},
   "source": [
    "## Creating your Github Account:\n",
    "\n",
    "\"Github\" is a website for you to manage your repositories and collaborate with other people.\n",
    "\n",
    "_Github_ offers a __Student Pack__ for free ([https://education.github.com/](https://education.github.com/)).\n",
    "You have to use your __@login.cuny.edu__ email address to get it AND/OR use a picture of your student ID. \n",
    "\n",
    "You'll likely not have CUNY student emails (or IDs) just yet so for now, you can sign up for a regular Github account at https://github.com/signup\n",
    "\n",
    "With a GitHub account, you can create __public__ and __private__ repositories where you can store code or data."
   ]
  },
  {
   "cell_type": "markdown",
   "id": "b5bf062c",
   "metadata": {},
   "source": [
    "# Quick GitHub basics!"
   ]
  },
  {
   "cell_type": "markdown",
   "id": "c8af2df6",
   "metadata": {},
   "source": [
    "## Github Concepts\n",
    "\n",
    "#### Git Commands\n",
    "Before you begin, make sure _git_ is working correctly (detailed instructions and explanations [here](https://git-scm.com/book/en/v2/Getting-Started-First-Time-Git-Setup)):\n",
    "\n",
    "\n",
    "You can view all of your settings and where they are coming from using:\n",
    "```bash\n",
    "git config --list --show-origin\n",
    "```\n",
    "\n",
    "To set your Indentity:\n",
    "```bash\n",
    "git config --global user.name \"John Doe\"\n",
    "git config --global user.email johndoe@example.com\n",
    "```"
   ]
  },
  {
   "cell_type": "markdown",
   "id": "8ebe7974",
   "metadata": {},
   "source": [
    "# Step 5: Getting Bootcamp resources.\n",
    "\n",
    "## To clone the local repository of this bootcamp, type the following command:\n",
    "### first, we'll change directories to our Desktops:\n",
    "```bash\n",
    "cd ~/Desktop\n",
    "```\n",
    "### then, we type:\n",
    "```bash\n",
    "git clone https://github.com/daxfeliz/CUNY_Bridge_BootCamp.git\n",
    "```\n",
    "\n",
    "This will __clone__ the GitHub Repository into a directory on your __Desktop__, which contains the resources we'll be using throughout this bootcamp "
   ]
  },
  {
   "cell_type": "markdown",
   "id": "93943a85",
   "metadata": {},
   "source": [
    "### Important Git commands (we'll come back to this)\n",
    "\n",
    "- __git clone__: Clone an existing repository\n",
    "- __git init__: Initialize a git repository. This will create a new repository in your computer\n",
    "- __git pull__: This will pull any changes that have been made, and merged them to you current version of the repository\n",
    "- __git push__: It will push all your changes to the repository\n",
    "- __git commit -m \"I changed this and that\"__: Commit and comment on any new changes made to the files"
   ]
  },
  {
   "cell_type": "code",
   "execution_count": null,
   "id": "5a1994d4",
   "metadata": {},
   "outputs": [],
   "source": []
  },
  {
   "cell_type": "markdown",
   "id": "af1e02e7",
   "metadata": {},
   "source": [
    "## Slack\n",
    "\n",
    "We will be using Slack to communicate ideas, resources, changes to the schedule, etc. Make sure to download the app, since it makes it easier to know what's happening.\n",
    "\n",
    "* __Slack Channel__: [CUNY Bridge Programming Bootcamp](https://join.slack.com/t/cunybridgepro-as48674/shared_invite/zt-1cfvx2qdy-EymvUOdQnUEMirdPbNr9fA)\n",
    "* __Team Name__: cunybridgebootcamp\n",
    "* __Email address__: You can use any email address. You just need to sign up to get an invite.\n",
    "* __Slack App__: You can download the Slack app for your computer/phone [here](https://slack.com/downloads).\n",
    "\n",
    "Slack is a platform to facilitate communication among team members.\n",
    "* One can easily share documents!\n",
    "* Talk to each member of the group\n",
    "* _Replaces_ the need of emails\n",
    "* And more!\n",
    "\n",
    "\n",
    "![my_image](./images/Slack_01.png)"
   ]
  },
  {
   "cell_type": "code",
   "execution_count": null,
   "id": "9715a072",
   "metadata": {},
   "outputs": [],
   "source": []
  }
 ],
 "metadata": {
  "kernelspec": {
   "display_name": "Python 3 (ipykernel)",
   "language": "python",
   "name": "python3"
  },
  "language_info": {
   "codemirror_mode": {
    "name": "ipython",
    "version": 3
   },
   "file_extension": ".py",
   "mimetype": "text/x-python",
   "name": "python",
   "nbconvert_exporter": "python",
   "pygments_lexer": "ipython3",
   "version": "3.9.16"
  }
 },
 "nbformat": 4,
 "nbformat_minor": 5
}
