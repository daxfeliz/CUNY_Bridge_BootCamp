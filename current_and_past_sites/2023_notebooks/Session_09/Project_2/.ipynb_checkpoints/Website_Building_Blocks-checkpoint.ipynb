{
 "cells": [
  {
   "cell_type": "markdown",
   "id": "2173aab8",
   "metadata": {},
   "source": [
    "# HTML\n",
    "## Reference: https://www.w3schools.com/html/\n",
    "\n",
    "Every webpage on the internet is built using Hypertext Markup Language (HTML). Every webpage is built up from elements, or single semantic componenets, which are represented in code as ```<element>```, which is called an element tag. For example, a blog you’d read online is built from a few paragraphs (```<p>```), a few images (```<img src=\"URL\">```), and links (```<a href=\"URL\">```) to other sites. Some elements, like images and links, exist as a discrete unit; however, other elements, like paragraphs, wrap other content. These elements that wrap content are represented in code as ```<element> Content </element>``` where that second element tag closes (represented with the ```</```) the first element tag. Because HTML is so dynamic, most of the elements encountered in HTML have wrapping capabilities and will require a closing tag. Comments in HTML are indicated with the opening and closing tags \n",
    "```<!--- Content --->```.\n",
    "\n",
    "For example, if you had a paragraph it would look like this:"
   ]
  },
  {
   "cell_type": "markdown",
   "id": "d32d5c22",
   "metadata": {},
   "source": [
    "``` html\n",
    "<p>\n",
    "    This is a paragraph.\n",
    "</p>\n",
    "```"
   ]
  },
  {
   "cell_type": "markdown",
   "id": "7bdebf3c",
   "metadata": {},
   "source": [
    "The basic structure of any webpage looks like this:\n",
    "\n",
    "``` html\n",
    "<html>\n",
    "    <head>\n",
    "        Metadata about the website goes here.\n",
    "    </head>\n",
    "    \n",
    "    <body>\n",
    "        Our actual site content goes here.\n",
    "        <!-- This is a comment about the site content. -->\n",
    "    </body>\n",
    "</html>\n",
    "```"
   ]
  },
  {
   "cell_type": "markdown",
   "id": "e670c456",
   "metadata": {},
   "source": [
    "We can build an example page that has the following HTML:\n",
    "``` html\n",
    "<html>\n",
    "    <head>\n",
    "        <title> HTML Example </title>\n",
    "    </head>\n",
    "    \n",
    "    <body>\n",
    "        <p>\n",
    "            This is paragraph one.\n",
    "        </p>\n",
    "\n",
    "        <p>\n",
    "            This is paragraph two.\n",
    "        </p> \n",
    "\n",
    "        <h1>\n",
    "            This is a Heading\n",
    "        </h1> \n",
    "    </body>\n",
    "</html>\n",
    "```\n",
    "\n",
    "When editing a template that you’ve downloaded, you’ll want to look in the <body> portion of the page. An example of a simple web page built using just HTML can be found here. This looks pretty simplistic! And that’s because it’s built from just barebones HTML. Cascading Style Sheets (CSS) is another language that adds on to HTML to style each individual element."
   ]
  },
  {
   "cell_type": "code",
   "execution_count": null,
   "id": "cc855564",
   "metadata": {},
   "outputs": [],
   "source": []
  },
  {
   "cell_type": "markdown",
   "id": "031423b8",
   "metadata": {},
   "source": [
    "# CSS\n",
    "## Reference: https://www.w3schools.com/css/\n",
    "Cascading Style Sheets (CSS) is what makes websites pretty. CSS describes the presentation of web pages written in a markup langauge - such as HTML - including layout, colors, fonts, etc. In CSS, selectors declare which part of the markup a particular style applies to by matching HTML tags to style attributes. For example, you may encounter the following:\n",
    "\n"
   ]
  },
  {
   "cell_type": "markdown",
   "id": "89792985",
   "metadata": {},
   "source": [
    "``` html\n",
    "h1 {\n",
    "    font-size: 20px;\n",
    "    letter-spacing: 3px;\n",
    "}\n",
    "```\n",
    "\n",
    "which changes how large Heading 1 elements look like on your web browser. Specifically, all content between Heading 1 tags (i.e. looks like ```<h1> Content </h1>```) will have a font size of 20 pixels and a letter spacing of 3 pixels. You may also see sizes specified in terms relative to other elements:\n",
    "\n",
    "``` html\n",
    "h1 {\n",
    "    font-size: 2.25rem;\n",
    "    letter-spacing: 0.5rem;\n",
    "}\n",
    "```\n",
    "\n",
    "\n",
    "says that all content between ```<h1>``` tags should have a font size 2.25 times that of the root element (rem) and a letter spacing of 0.5 times that of the parent element of the heading (em). (See [here](https://medium.com/@dixita0607/css-units-for-font-size-px-em-rem-79f7e592bb97) for more.)"
   ]
  },
  {
   "cell_type": "markdown",
   "id": "ecb65248",
   "metadata": {},
   "source": [
    "CSS also adds two more concepts to HTML: classes and ids. An HTML element can have both a class and an id ```<p class=\"my-class\" id=\"my-id\">```, and the relevant CSS selectors for this element would be:\n",
    "\n",
    "```/* This applies to all <p> elements */```\n",
    "\n",
    "``` html\n",
    "p {\n",
    "    font-size: 2.25rem;\n",
    "}\n",
    "\n",
    "/* This applies to all classes with class=\"my-class\" */\n",
    ".my-class {\n",
    "    color: red\n",
    "}\n",
    "\n",
    "/* This applies to all elements (should just be one) with id=\"my-id\" */\n",
    "#my-id {\n",
    "    letter-spacing: 0.5rem;\n",
    "}\n",
    "```"
   ]
  },
  {
   "cell_type": "markdown",
   "id": "58c363d0",
   "metadata": {},
   "source": [
    "IDs are unique, and should not be used for different elements in a page. Classes are not unique and can be used for different instances of a single element and different element types all together. Continuing our example from the HTML section, the following would be valid:\n",
    "``` html\n",
    "<html>\n",
    "    <head>\n",
    "        <title> HTML + CSS Example </title>\n",
    "        <!-- This line points to where the CSS lives -->\n",
    "        <link rel=\"stylesheet\" href=\"assets/main.css\">\n",
    "    </head>\n",
    "    <body>\n",
    "        <p class=\"my-class\" id=\"paragraph-one\">\n",
    "            This is paragraph one.\n",
    "        </p>\n",
    "        <p class=\"my-class\" id=\"paragraph-two\">\n",
    "            This is paragraph two.\n",
    "        </p> \n",
    "        <h1 class=\"my-class\" id=\"heading-one\">\n",
    "            This is a Heading\n",
    "        </h1> \n",
    "    </body>\n",
    "</html>\n",
    "```\n",
    "\n",
    "and with the following CSS, all would be colored red, but each would have a different font size:\n",
    "\n",
    "``` html    \n",
    ".my-class {\n",
    "    color: red\n",
    "}\n",
    "\n",
    "#paragraph-one {\n",
    "    font-size: 1em;\n",
    "}\n",
    "\n",
    "#paragraph-two {\n",
    "    font-size: 2em;\n",
    "}\n",
    "\n",
    "#heading-one {\n",
    "    font-size: 3em;\n",
    "}\n",
    "```"
   ]
  },
  {
   "cell_type": "markdown",
   "id": "32b7748c",
   "metadata": {},
   "source": [
    "Finally, it is important to note that you can hard code CSS styling into your HTML without referencing an external file or using CSS selectors by using the style attribute of an HTML element. For example, we can replicate the above example without separating the HTML and CSS with the following:\n",
    "\n",
    "```html\n",
    "<p style=\"font-size: 1em; color:red;\">\n",
    "    This is paragraph one.\n",
    "</p>\n",
    "```\n",
    "\n",
    "```html\n",
    "<p style=\"font-size: 2em; color:red;\">\n",
    "    This is paragraph two.\n",
    "</p> \n",
    "```\n",
    "\n",
    "```html\n",
    "<h1 style=\"font-size: 3em; color:red;\">\n",
    "    This is a Heading\n",
    "</h1>\n",
    "```\n",
    "\n",
    "However, do note that this is bad practice, as it’s wasted effort to make all of the above elements individually red, instead of giving them all a class which makes them red. If all elements look the same in some way (e.g. the same color), then they should all be the same class. If one particular element looks different, you should give it an ID and use the CSS ID selector to change its styling.\n",
    "\n",
    "When you are editing a template site, and you are interested in changing how an element looks, first identify what element it is (```<p>```, ```<h1>```, ```<img>```), what class it is (look for ```<element class=\"class-name\">```), and what ID it has (look for ```<element id=\"id-name\">```). Next, you want to find that element, class, and id in the page’s CSS file and make your changes there."
   ]
  },
  {
   "cell_type": "code",
   "execution_count": null,
   "id": "f1747ae3",
   "metadata": {},
   "outputs": [],
   "source": []
  },
  {
   "cell_type": "markdown",
   "id": "d34f69c3",
   "metadata": {},
   "source": [
    "# JavaScript\n",
    "## Reference: https://www.w3schools.com/js/\n",
    "\n",
    "Finally, whereas HTML provides the structure of a web page and CSS provides the styling, JavaScript makes webpages dynamic, meaning their content and styling changes as users interact with them. When you are editing a templated webpage, you shouldn’t have to worry too much about writing your own JavaScript. However, it is useful to know that it is there.\n",
    "\n",
    "JavaScript enables interactive web pages, supporting dynamic behavior, information storage, and requests + responses. When JavaScript is used in conjunction with HTML, JavaScript code can react to HTML events, such as when a page is loaded, an input field is changed, or a button is clicked. The following example closes an article after the user presses ESC:\n",
    "\n",
    "``` \n",
    "// Event: Hide on ESC       \n",
    "if (config.hideOnEscape)\n",
    "    //  If a user presses down on a key\n",
    "    $window.on('keydown', function(event) {\n",
    "        // If the key pressed is the escape (ESC) key\n",
    "        if (event.keyCode == 27)\n",
    "            // Hide the objects\n",
    "            $this._hide(event);\n",
    "    });\n",
    "\n",
    "return $this;\n",
    "```"
   ]
  }
 ],
 "metadata": {
  "kernelspec": {
   "display_name": "Python 3 (ipykernel)",
   "language": "python",
   "name": "python3"
  },
  "language_info": {
   "codemirror_mode": {
    "name": "ipython",
    "version": 3
   },
   "file_extension": ".py",
   "mimetype": "text/x-python",
   "name": "python",
   "nbconvert_exporter": "python",
   "pygments_lexer": "ipython3",
   "version": "3.9.16"
  }
 },
 "nbformat": 4,
 "nbformat_minor": 5
}
