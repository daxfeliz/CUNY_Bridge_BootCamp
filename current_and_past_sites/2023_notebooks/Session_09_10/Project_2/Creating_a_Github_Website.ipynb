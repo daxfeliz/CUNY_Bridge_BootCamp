{
 "cells": [
  {
   "cell_type": "markdown",
   "id": "0aa3267d",
   "metadata": {},
   "source": [
    "# Project 2 - Creating a Website with GitHub Pages\n",
    "\n",
    "## Today's Agenda\n",
    "- Practice Creating a website using GitHub Pages\n",
    "- Practice editing a HTML template\n",
    "- Practice using Git to update Github Repositories"
   ]
  },
  {
   "cell_type": "markdown",
   "id": "3cb1f166",
   "metadata": {},
   "source": [
    "## How do I get started?\n",
    "\n",
    "GitHub has a [**GREAT TUTORIAL**](https://docs.github.com/en/pages/getting-started-with-github-pages/creating-a-github-pages-site) on how to create a repository for our websites"
   ]
  },
  {
   "cell_type": "markdown",
   "id": "9b551a27",
   "metadata": {},
   "source": [
    "# After following the above instructions on creating a repository, we're going to find a template. HTML5 has some great example templates to use:\n",
    "\n",
    "\n",
    "## https://html5up.net/\n"
   ]
  },
  {
   "cell_type": "markdown",
   "id": "1b2f97bc",
   "metadata": {},
   "source": [
    "# Tips for editing HTML templates:\n",
    "\n",
    "In [**this notebook**](https://github.com/daxfeliz/cunybridgebootcamp/blob/main/notebooks/Project_2/Website_Building_Blocks.ipynb) there are some tips on how to edit our \"**index.html**\" files using CSS, HTML and Java."
   ]
  },
  {
   "cell_type": "code",
   "execution_count": null,
   "id": "3aa361eb",
   "metadata": {},
   "outputs": [],
   "source": []
  },
  {
   "cell_type": "markdown",
   "id": "1b9a6a50",
   "metadata": {},
   "source": [
    "# How to fire up a GitHub-Pages website\n",
    "\n",
    "Here is another [TUTORIAL](https://pages.github.com/) on how to take our existing repositories and link them to the GitHub servers to get our websites up and running."
   ]
  },
  {
   "cell_type": "code",
   "execution_count": null,
   "id": "efc98164",
   "metadata": {},
   "outputs": [],
   "source": []
  },
  {
   "cell_type": "markdown",
   "id": "f8589e53",
   "metadata": {},
   "source": [
    "# FINAL STEPS FOR PROPER DEPLOYMENT OF WEBSITE: \n",
    "\n",
    "- From your repository, select \"**Settings**\" from the toolbar.\n",
    "\n",
    "- Then select \"**Pages**\"\n",
    "\n",
    "- Then under \"**Build and Deployment**\", select \"**Deploy from Branch**\"\n",
    "\n",
    "- Under \"**Branch**\", select \"**main**\".\n",
    "\n",
    "## NOTE: Github may be a bit slow on deploying your website initially. It could take anywhere between a few minutes to a day.\n",
    "\n",
    "## NOTE 2: I **think** you can only have ONE github webpage (https://username.github.io). Every OTHER repository you make a GitHub-Page for will be placed at: \n",
    "\n",
    "https://username.github.io/repository_name"
   ]
  },
  {
   "cell_type": "code",
   "execution_count": null,
   "id": "5fb37e8b",
   "metadata": {},
   "outputs": [],
   "source": []
  }
 ],
 "metadata": {
  "kernelspec": {
   "display_name": "Python 3 (ipykernel)",
   "language": "python",
   "name": "python3"
  },
  "language_info": {
   "codemirror_mode": {
    "name": "ipython",
    "version": 3
   },
   "file_extension": ".py",
   "mimetype": "text/x-python",
   "name": "python",
   "nbconvert_exporter": "python",
   "pygments_lexer": "ipython3",
   "version": "3.8.3"
  }
 },
 "nbformat": 4,
 "nbformat_minor": 5
}
