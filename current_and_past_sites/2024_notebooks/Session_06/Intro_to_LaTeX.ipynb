{
 "cells": [
  {
   "cell_type": "markdown",
   "id": "86d0b627",
   "metadata": {},
   "source": [
    "# Sixth Session: Introduction to Latex and Overleaf\n",
    "\n",
    "## Today's agenda:\n",
    "0. __Workshop Overview__:\n",
    "    * __When__: August 19th, 1-5pm<!---*insert day* from *insert time range*--->\n",
    "    * __Where__: CUNY Graduate Center <!---*insert room number--->\n",
    "    * __What__: Most days we'll be working on a new topic (or topics) in coding\n",
    "    * __Want__ to lead a session for a topic? Some Days there will be small hack sessions for people to discuss problems they're working on.\n",
    "    * __Online Resources__: \n",
    "    __https://daxfeliz.github.io/cunybridgebootcamp/__\n",
    "    * __Program Schedule__:\n",
    "    __https://tinyurl.com/mu88x9xc__\n",
    "&nbsp;\n",
    "\n",
    "1. __This session__:\n",
    "    * Introduction to document editing with LaTeX and using Overleaf to write LaTeX documents.\n",
    "</br>\n",
    "&nbsp;\n",
    "\n",
    "2. __Next session__:\n",
    "\n",
    "    * Introduction to Monte Carlo Markov Chains (MCMC)! __Make sure you bring your laptop to this session and future sessions__.\n",
    "\n"
   ]
  },
  {
   "cell_type": "code",
   "execution_count": null,
   "id": "ae903673",
   "metadata": {},
   "outputs": [],
   "source": []
  },
  {
   "cell_type": "markdown",
   "id": "9f0d2278",
   "metadata": {},
   "source": [
    "# What is Overleaf?\n",
    "The aim of Overleaf is to make the process of writing, collaborating, and publishing scientific documents in LaTeX quicker and easier by o↵ering a Rich Text what-you-see-is-what-you-get overlay, a browser-based editor that allows direct code editing, and templates for major journals (providing authors with the correct formatting for the paper and references). They also offer thesis and dissertation templates, which both CalTech and Stanford are using. Multiple writers can collaborate simultaneously on a document with automatic saving and advanced history and\n",
    "version control.\n",
    "\n",
    "Overleaf is currently used by [600,000 authors at more than 3600 institutions in 180 countries](https://www.overleaf.com/blog/449-600-000-users-on-overleaf-make-over-2-billion-edits),\n",
    "including CalTech, Stanford, MIT, Harvard, and Brown. They have detailed training pages and\n",
    "an active live support system for troubleshooting.\n",
    "\n",
    "\n",
    "# When to use Overleaf?\n",
    "\n",
    "* Support collaborative research teams who need to write together.\n",
    "* Support academic publishing with integrated publication submission to top engineering and science journals, including templates.\n",
    "* Streamline thesis and dissertation formatting and submission, a process that libraries often support. Purdue now uses Overleaf for [over 35% of STEM thesis submissions](https://www.overleaf.com/blog/447-case-study-purdue-university-graduate-school-improves-thesis-authoring-and-submission-processes).\n",
    "\n",
    "# How to register with Overleaf?\n",
    "### Use this link! \n",
    "[https://www.overleaf.com/register](https://www.overleaf.com/register)\n",
    "\n",
    "### You can use a free account which has limited features, you can look at their subscription plans here:\n",
    "\n",
    "[https://www.overleaf.com/user/subscription/plans](https://www.overleaf.com/user/subscription/plans)\n",
    "\n",
    "\n",
    "# Question: \n",
    "### If I have a free account and want to collaborate with more than one co-author, what should I do?\n",
    "\n",
    "# Answer: \n",
    "### Your research mentor will likely have their own subscription or a subscription through their institution. They can create a document for you and list you as an \"Editor\". That way, you can collaborate with at least 10+ co-authors for any manuscripts/thesis/dissertation you may write."
   ]
  },
  {
   "cell_type": "code",
   "execution_count": null,
   "id": "20a36843",
   "metadata": {},
   "outputs": [],
   "source": []
  },
  {
   "cell_type": "markdown",
   "id": "1732aa94",
   "metadata": {},
   "source": [
    "# I highly recommend going through this near 30 minute tutorial for learning LaTeX basics through the overleaf document editing platform:\n",
    "[https://www.overleaf.com/learn/latex/Learn_LaTeX_in_30_minutes](https://www.overleaf.com/learn/latex/Learn_LaTeX_in_30_minutes)"
   ]
  },
  {
   "cell_type": "code",
   "execution_count": null,
   "id": "e00cc3f2",
   "metadata": {},
   "outputs": [],
   "source": []
  },
  {
   "cell_type": "markdown",
   "id": "9e0a1a49",
   "metadata": {},
   "source": [
    "# There are many different types of document classes. Some that can be used for Resumes, Curriculum Vitae, Dissertations, Letters, Books, etc\n",
    "\n",
    "## You can find a library of templates here:\n",
    "\n",
    "### [https://www.overleaf.com/latex/templates](https://www.overleaf.com/latex/templates)\n",
    "\n",
    "\n",
    "# For scientific journals like: \n",
    "* American Astronomy Society (AAS) Journals [The Astronomical Journal, The Astrophysical Journal, The Astrophysical Journal Supplement, The Planetary Science Journal, and The Astrophysical Journal Letters)] \n",
    "<br>\n",
    "or \n",
    "* Monthly Notices of the Royal Astronomical Society (MNRAS)\n",
    "<br>\n",
    "they have their own specific format and styling guides. Below are some links to how they like their submitted manuscripts to be formatted:\n",
    "\n",
    "\n",
    "### APJ & AAS: https://journals.aas.org/manuscript-preparation/\n",
    "\n",
    "<br>\n",
    "\n",
    "### MNRAS: https://academic.oup.com/mnras/pages/general_instructions"
   ]
  },
  {
   "cell_type": "code",
   "execution_count": null,
   "id": "15c2f3b2",
   "metadata": {},
   "outputs": [],
   "source": []
  },
  {
   "cell_type": "markdown",
   "id": "15268ad0",
   "metadata": {},
   "source": [
    "# MNRAS-style template:\n",
    "\n",
    "## [https://www.overleaf.com/read/bwnvtfkhrxzm](https://www.overleaf.com/read/bwnvtfkhrxzm)\n",
    "### This is a READ only copy. Feel free to make a copy for your own use if you plan on submitting to the MNRAS journal."
   ]
  },
  {
   "cell_type": "code",
   "execution_count": null,
   "id": "0e6e2086",
   "metadata": {},
   "outputs": [],
   "source": []
  },
  {
   "cell_type": "code",
   "execution_count": 2,
   "id": "a1453d38",
   "metadata": {},
   "outputs": [
    {
     "data": {
      "text/html": [
       "\n",
       "        <iframe\n",
       "            width=\"1000\"\n",
       "            height=\"500\"\n",
       "            src=\"MNRAS_example.pdf\"\n",
       "            frameborder=\"0\"\n",
       "            allowfullscreen\n",
       "            \n",
       "        ></iframe>\n",
       "        "
      ],
      "text/plain": [
       "<IPython.lib.display.IFrame at 0x1108608e0>"
      ]
     },
     "execution_count": 2,
     "metadata": {},
     "output_type": "execute_result"
    }
   ],
   "source": [
    "from IPython.display import IFrame\n",
    "IFrame(\"MNRAS_example.pdf\", width=1000, height=500)"
   ]
  },
  {
   "cell_type": "markdown",
   "id": "976e72e4",
   "metadata": {},
   "source": [
    "# AAS-style template:\n",
    "\n",
    "## [https://www.overleaf.com/read/hbsfcckzngqh](https://www.overleaf.com/read/hbsfcckzngqh)\n",
    "### This is a READ only copy. Feel free to make a copy for your own use if you plan on submitting to the AAS journal."
   ]
  },
  {
   "cell_type": "code",
   "execution_count": 3,
   "id": "0353001c",
   "metadata": {},
   "outputs": [
    {
     "data": {
      "text/html": [
       "\n",
       "        <iframe\n",
       "            width=\"1000\"\n",
       "            height=\"500\"\n",
       "            src=\"AAS_example.pdf\"\n",
       "            frameborder=\"0\"\n",
       "            allowfullscreen\n",
       "            \n",
       "        ></iframe>\n",
       "        "
      ],
      "text/plain": [
       "<IPython.lib.display.IFrame at 0x110860cd0>"
      ]
     },
     "execution_count": 3,
     "metadata": {},
     "output_type": "execute_result"
    }
   ],
   "source": [
    "from IPython.display import IFrame\n",
    "IFrame(\"AAS_example.pdf\", width=1000, height=500)"
   ]
  },
  {
   "cell_type": "code",
   "execution_count": null,
   "id": "2158e09d",
   "metadata": {},
   "outputs": [],
   "source": []
  },
  {
   "cell_type": "markdown",
   "id": "0b922674",
   "metadata": {},
   "source": [
    "# CUNY Graduate Center Master's Thesis Template (Courtesy of Dr. Ariyeh Maller)\n",
    "\n",
    "### (THIS IS A WORK IN PROGRESS, NOT YET FINAL)\n",
    "\n",
    "## [https://www.overleaf.com/read/zfzxmzpvfymr](https://www.overleaf.com/read/zfzxmzpvfymr)\n",
    "\n",
    "This is a READ only copy. Feel free to make a copy for your own use if you plan on using this to write your Master's Thesis for the CUNY GC."
   ]
  },
  {
   "cell_type": "code",
   "execution_count": null,
   "id": "96e2ede8",
   "metadata": {},
   "outputs": [],
   "source": []
  }
 ],
 "metadata": {
  "kernelspec": {
   "display_name": "Python 3 (ipykernel)",
   "language": "python",
   "name": "python3"
  },
  "language_info": {
   "codemirror_mode": {
    "name": "ipython",
    "version": 3
   },
   "file_extension": ".py",
   "mimetype": "text/x-python",
   "name": "python",
   "nbconvert_exporter": "python",
   "pygments_lexer": "ipython3",
   "version": "3.9.13"
  }
 },
 "nbformat": 4,
 "nbformat_minor": 5
}
