{
 "cells": [
  {
   "cell_type": "markdown",
   "id": "1c813a3d",
   "metadata": {},
   "source": [
    "# Third Session, Notebook # 5: Introduction to Python Structures\n",
    "\n",
    "## Today's agenda:\n",
    "0. __Workshop Overview__:\n",
    "    * __When__: August 14th, 12pm-5pm\n",
    "    * __Where__: CUNY Graduate Center, Room 5382\n",
    "    * __What__: Introduction to Python structures\n",
    "    * __Want__ to lead a session for a topic? Some Days there will be small hack sessions for people to discuss problems they're working on.\n",
    "    * __Online Resources__:  __https://daxfeliz.github.io/cunybridgebootcamp/__\n",
    "    * __Program Schedule__: __https://tinyurl.com/mu88x9xc__\n",
    "&nbsp;\n",
    "\n",
    "\n",
    "1. __This session__:\n",
    "* Basics of Python\n",
    "* List Comprehension\n",
    "* Dictionaries\n",
    "* Functions\n",
    "* Classes\n",
    "</br>\n",
    "&nbsp;\n",
    "\n",
    "2. __Next session__:\n",
    "    * Data Manipulation & LaTeX and Overleaf! __Make sure you bring your laptop to this session and future sessions__.\n",
    "\n"
   ]
  },
  {
   "cell_type": "code",
   "execution_count": null,
   "id": "59ff90e9",
   "metadata": {},
   "outputs": [],
   "source": []
  },
  {
   "cell_type": "markdown",
   "id": "00b547c1",
   "metadata": {},
   "source": [
    "# Basics of Python\n",
    "\n",
    "## The minimal Python script\n",
    "Unlike many other languages, a simple Python script does not require any sort of header information in the code. So, we can look at the standard programming example, Hello World, in Python (below). Here we're simply printing to screen. If we put that single line into a blank file (called, say, HelloWorld.py]) and then run that in the command line by typing 'python HelloWorld.py' the script should run with no problems. This also shows off the first Python function, print, which can be used to print strings or numbers."
   ]
  },
  {
   "cell_type": "code",
   "execution_count": 1,
   "id": "f6a6c274",
   "metadata": {},
   "outputs": [
    {
     "name": "stdout",
     "output_type": "stream",
     "text": [
      "Hello World!\n"
     ]
    }
   ],
   "source": [
    "print(\"Hello World!\") "
   ]
  },
  {
   "cell_type": "markdown",
   "id": "eb61f73d",
   "metadata": {},
   "source": [
    "## There are different types of object classes in Python. Below are a few examples:"
   ]
  },
  {
   "cell_type": "code",
   "execution_count": 2,
   "id": "518331a0",
   "metadata": {},
   "outputs": [
    {
     "name": "stdout",
     "output_type": "stream",
     "text": [
      "<class 'str'>\n"
     ]
    }
   ],
   "source": [
    "print( type(\"Hello World\") ) #'str' is short for string"
   ]
  },
  {
   "cell_type": "code",
   "execution_count": 3,
   "id": "c8170125",
   "metadata": {},
   "outputs": [
    {
     "name": "stdout",
     "output_type": "stream",
     "text": [
      "1 type: <class 'int'>\n",
      " \n",
      "1.25 type: <class 'float'>\n"
     ]
    }
   ],
   "source": [
    "print(1 , 'type:' , type(1) ) # 'int' is short for integer\n",
    "print(' ')\n",
    "print(1.25 , 'type:' , type(1.25) ) # float is for numbers that have digits (AKA floating numbers)"
   ]
  },
  {
   "cell_type": "markdown",
   "id": "54b38cba",
   "metadata": {},
   "source": [
    "There are, however, a few lines that you will usually see in a Python script. The first line often starts with `\"#!\"` and is called the \"shebang\". For a Python script (a `.py` file), an example of the shebang line would be `\"#!/usr/bin/env python\"`\n",
    "\n",
    "Within Python, any line that starts with `\"#\"` is a comment, and won't be executed when running the script. The shebang, though, is there for the shell. If you run the script by calling python explicitly, then the script will be executed in Python. If, however, you want to make the script an executable (which can be run just by typing `\"./HelloWorld.py\"`) then the shell won't know what language the script should be run in. This is the information included in the shebang line. You don't need it, in general, but it's a good habit to have in case you ever decide to run a script as an executable.\n",
    "\n",
    "Another common thing at the starts of scripts is several lines that start with `'import'`. These lines allow you to allow import individual functions or entire modules (files that contain multiple functions). These can be those you write yourself, or things like numpy, matplotlib, etc.\n",
    "\n",
    "\n",
    "## Python variables\n",
    "\n",
    "Some languages require that every variable be defined by a variable type. For example, in C++, you have to define a variable type, first. For example a line like \"int x\" would define the variable x, and specify that it be an an integer. Python, however, using dynamic typing. That means that variable types are entirely defined by what the variable is stored.\n",
    "\n",
    "In the below example, we can see a few things happening. First of all, we can see that x behaves initally as a number (specifically, an integer, which is why 42/4=10). However, we can put a string in there instead with no problems. However, we can't treat it as a number anymore and add to it.\n",
    "\n",
    "Try \"Un-Commenting\" the 5th line (print x+10) by removing the # to the front of that line, and we'll see that Python will still add *strings* to it."
   ]
  },
  {
   "cell_type": "code",
   "execution_count": 4,
   "id": "e67033fc",
   "metadata": {},
   "outputs": [
    {
     "name": "stdout",
     "output_type": "stream",
     "text": [
      "42 type: <class 'int'>\n",
      " \n",
      "52 type: <class 'int'>\n",
      " \n",
      "10.5 type: <class 'float'>\n",
      " \n",
      "42 type: <class 'str'>\n",
      " \n",
      "4210 type: <class 'str'>\n",
      " \n"
     ]
    }
   ],
   "source": [
    "#with numbers we can do numerical operations\n",
    "x=42\n",
    "\n",
    "print(x , 'type:' , type(x))\n",
    "print(' ')\n",
    "\n",
    "print (x+10 , 'type:' , type(x+10))\n",
    "print(' ')\n",
    "\n",
    "print (x/4 , 'type:' , type(x/4))# since this value is not an integer, Python will convert it to a float object\n",
    "print(' ')\n",
    "\n",
    "# we can also do add strings together although it won't change the content of the strings \n",
    "# but rather append them together\n",
    "x=\"42\"\n",
    "print(x, 'type:' , type(x))\n",
    "print(' ')\n",
    "# print (x+10) # Note: you cannot add strings (inputs that are surrounded by quotes) to non-string objects\n",
    "print (x+\"10\", 'type:' , type(x+\"10\"))\n",
    "print(' ')\n",
    "\n",
    "# Note: these numerical operations won't work on strings, \n",
    "# try removing the hash tags below and see what outputs we get:\n",
    "# print (x-\"10\")\n",
    "# print(' ')\n",
    "# print (x*\"10\")\n",
    "# print(' ')"
   ]
  },
  {
   "cell_type": "markdown",
   "id": "f91f1ffa",
   "metadata": {},
   "source": [
    "# Booleans\n",
    "Booleans have a one of two states,\"True\" or \"False\". Try setting a variable equal to True or False in the box below - you should see Python \"color\" the word to indicate syntactically that it is a special word in Python that has a specific meaning."
   ]
  },
  {
   "cell_type": "code",
   "execution_count": 5,
   "id": "d2e61a6c",
   "metadata": {},
   "outputs": [
    {
     "name": "stdout",
     "output_type": "stream",
     "text": [
      "True type: <class 'bool'>\n",
      "False type: <class 'bool'>\n"
     ]
    }
   ],
   "source": [
    "T = True\n",
    "F = False \n",
    "\n",
    "print(T , 'type:' , type(T))\n",
    "print(F , 'type:' , type(F))"
   ]
  },
  {
   "cell_type": "markdown",
   "id": "6af6f942",
   "metadata": {},
   "source": [
    "## Lists\n",
    "The basic way for storing larger amounts of data in Python (and without using other modules like numpy) is Python's default option, lists. A list is, by its definition, one dimensional. If we'd like to store more dimensions, then we are using what are referred to as lists of lists. This is *not* the same thing as an array, which is what numpy will use. Let's take a look at what a list does.\n",
    "\n",
    "We'll start off with a nice simple list below. Here the list stores integers. Printing it back, we get exactly what we expect. However, because it's being treated as a list, not an array, it gets a little bit weird when we try to do addition or multiplication. Feel free to try changing the operations that we're using and see what causes errors, and what causes unexpected results."
   ]
  },
  {
   "cell_type": "code",
   "execution_count": 6,
   "id": "e41a82cd",
   "metadata": {},
   "outputs": [
    {
     "name": "stdout",
     "output_type": "stream",
     "text": [
      "x: [1, 2, 3]\n",
      "y: [4, 5, 6]\n",
      " \n",
      "x*2: [1, 2, 3, 1, 2, 3]\n",
      " \n",
      "x+y: [1, 2, 3, 4, 5, 6]\n",
      " \n",
      "y+x: [4, 5, 6, 1, 2, 3]\n",
      " \n"
     ]
    }
   ],
   "source": [
    "x=[1, 2, 3]\n",
    "y=[4, 5, 6]\n",
    "print ('x:' , x)\n",
    "print ('y:' , y)\n",
    "print(' ')\n",
    "\n",
    "# what happens when we perform numerical operations on a list?\n",
    "\n",
    "print ('x*2:' , x*2) # this will repeat the contents of the list twice, instead of multiplying each entry by 2\n",
    "print(' ')\n",
    "\n",
    "print ('x+y:', x+y) # this will append the y list to the x list, instead of adding each entry to each other\n",
    "print(' ')\n",
    "\n",
    "print ('y+x:', y+x) # similar as above except we are now appending the x list to the y list\n",
    "print(' ')"
   ]
  },
  {
   "cell_type": "markdown",
   "id": "066127f1",
   "metadata": {},
   "source": [
    "We can also set up a quick list if we want to using the range function. If we use just a single number, then we'll get a list of integers from 0 to 1 less than the number we gave it.\n",
    "\n",
    "If we want a bit fancier of a list, then we can also include the number to start at (first parameter) and the step size (last parameter). All three of these have to be integers.\n",
    "\n",
    "If we need it, we can also set up blank lists."
   ]
  },
  {
   "cell_type": "code",
   "execution_count": 7,
   "id": "4cb18a2a",
   "metadata": {},
   "outputs": [
    {
     "name": "stdout",
     "output_type": "stream",
     "text": [
      " A linearly spaced array, from 0 to 10 with 11 evenly spaced numbers: \n",
      " [ 0.  1.  2.  3.  4.  5.  6.  7.  8.  9. 10.]\n"
     ]
    }
   ],
   "source": [
    "import numpy as np\n",
    "\n",
    "\n",
    "print(' A linearly spaced array, from 0 to 10 with 11 evenly spaced numbers: \\n', np.linspace(0,10,11))\n"
   ]
  },
  {
   "cell_type": "markdown",
   "id": "dd061725",
   "metadata": {},
   "source": [
    "If we want to, we can refer to subsets of the list. For just a single term, we can just use the number corresponding to that position. \n",
    "\n",
    "__An important thing with Python is that the list index starts at 0, not at 1, starting from the first term__.\n",
    "\n",
    "If we're more concerned about the last number in the list, then we can use negative numbers as the index. The last item in the list is -1, the item before that is -2, and so on.\n",
    "\n",
    "\n",
    "We can also select a set of numbers by using a : to separate list indices. If you use this, and don't specify first or last index, it will presume you meant the start or end of the list, respectively.\n",
    "\n",
    "After you try running the sample examples below, as an exercise, try to get the following results:\n",
    "* [6] (using two methods)\n",
    "* [3,4,5,6]\n",
    "* [0,1,2,3,4,5,6]\n",
    "* [7,8,9]"
   ]
  },
  {
   "cell_type": "code",
   "execution_count": 8,
   "id": "23b98fa7",
   "metadata": {},
   "outputs": [
    {
     "name": "stdout",
     "output_type": "stream",
     "text": [
      "x:  [ 0.  1.  2.  3.  4.  5.  6.  7.  8.  9. 10.] \n",
      "\n",
      "First value of x: 0.0 \n",
      "\n",
      "Last value of x: 10.0 \n",
      "\n",
      "First 5 values of x: [0. 1. 2. 3. 4.] \n",
      "\n",
      "Fourth to sixth values of x: [3. 4. 5.] \n",
      "\n"
     ]
    }
   ],
   "source": [
    "# x=range(1,11)\n",
    "x=np.linspace(0,10,11)\n",
    "print ('x: ', x,'\\n')\n",
    "print (\"First value of x:\", x[0],'\\n')\n",
    "print (\"Last value of x:\", x[-1],'\\n')\n",
    "print ('First 5 values of x:', x[0:5],'\\n')\n",
    "print (\"Fourth to sixth values of x:\", x[3:6],'\\n')\n"
   ]
  },
  {
   "cell_type": "markdown",
   "id": "e058e785",
   "metadata": {},
   "source": [
    "## Modifying lists\n",
    "\n",
    "The simplest change we can make to a list is to change it at a specific index just be redefining it, like in the second line in the code below.\n",
    "\n",
    "There's three other handy ways to modify a list. append will add whatever we want as the next item in the list, but this means if we're adding more than a single value, it will add a list into our list, which may not always be what we want.\n",
    "\n",
    "extend will expand the list to include the additional values, but only if it's a list, it won't work on a single integer (go ahead and try that).\n",
    "\n",
    "Finally, insert will let us insert a value anywhere within the list. To do this, it requires a number for what spot in the list it should go, and also what we want to add into the list."
   ]
  },
  {
   "cell_type": "code",
   "execution_count": 9,
   "id": "f0b44b8e",
   "metadata": {},
   "outputs": [
    {
     "name": "stdout",
     "output_type": "stream",
     "text": [
      "x: [1, 2, 3, 4, 5]\n",
      " \n",
      "Testing index re-writing (replacing 3rd element with 8):\n",
      "[1, 2, 8, 4, 5]\n",
      " \n",
      "Testing appending of a single index value (adding 6 to end of list):\n",
      "[1, 2, 8, 4, 5, 6]\n",
      " \n",
      "Testing appending of a single index list (adding sub-list [7,8] to our list):\n",
      "[1, 2, 8, 4, 5, 6, [7, 8]]\n",
      " \n",
      "Testing extend (redefining x then extending 7,8 to end):\n",
      "[1, 2, 3, 4, 5]\n",
      "[1, 2, 3, 4, 5, 7, 8]\n",
      " \n",
      "Testing insert (redefining x and inserting 'in' after the value 2):\n",
      "[1, 2, 'in', 3, 4, 5]\n",
      " \n"
     ]
    }
   ],
   "source": [
    "\n",
    "x=[1,2,3,4,5]\n",
    "print('x:', x)\n",
    "print(' ')\n",
    "\n",
    "# let's change the 3rd element from 3 to 8\n",
    "print('Testing index re-writing (replacing 3rd element with 8):')\n",
    "x[2]=8\n",
    "print (x)\n",
    "print(' ')\n",
    "\n",
    "# let's append the number 6 to our list\n",
    "print (\"Testing appending of a single index value (adding 6 to end of list):\")\n",
    "x.append(6)\n",
    "print (x)\n",
    "print(' ')\n",
    "\n",
    "# let's append a 2nd list to our list\n",
    "print (\"Testing appending of a single index list (adding sub-list [7,8] to our list):\")\n",
    "x.append([7,8])\n",
    "print (x)\n",
    "print(' ')\n",
    "\n",
    "# let's say we want to add more than 1 value to our list, not append a sublist. We can use \".extend\" instead\n",
    "print (\"Testing extend (redefining x then extending 7,8 to end):\")\n",
    "x=[1,2,3,4,5]\n",
    "print(x)\n",
    "#x.extend(6)\n",
    "# print(' ')\n",
    "x.extend([7,8])\n",
    "print (x)\n",
    "print(' ')\n",
    "\n",
    "# we can also use '.insert' to inster values to entries in our list\n",
    "print (\"Testing insert (redefining x and inserting 'in' after the value 2):\")\n",
    "x=[1,2,3,4,5]\n",
    "x.insert(2, \"in\")\n",
    "print (x)\n",
    "print(' ')"
   ]
  },
  {
   "cell_type": "code",
   "execution_count": null,
   "id": "76ce6d85",
   "metadata": {},
   "outputs": [],
   "source": []
  },
  {
   "cell_type": "markdown",
   "id": "0052e839",
   "metadata": {},
   "source": [
    "# Lists vs Arrays:\n",
    "\n",
    "<img src=\"./images/lists_vs_arrays.png\" width=\"100%\">\n",
    "\n",
    "# Example"
   ]
  },
  {
   "cell_type": "code",
   "execution_count": 10,
   "id": "3c9cbe6d",
   "metadata": {},
   "outputs": [
    {
     "name": "stdout",
     "output_type": "stream",
     "text": [
      "testing list 1 and array 1:\n",
      "[1, 'A', True, 2.5]\n",
      "\n",
      "1 type: <class 'int'>\n",
      "A type: <class 'str'>\n",
      "True type: <class 'bool'>\n",
      "2.5 type: <class 'float'>\n",
      " \n",
      "1 type: <class 'numpy.str_'>\n",
      "A type: <class 'numpy.str_'>\n",
      "True type: <class 'numpy.str_'>\n",
      "2.5 type: <class 'numpy.str_'>\n",
      " \n",
      "testing list 2 and array 2:\n",
      "[False, True, 2]\n",
      "\n",
      "False type: <class 'bool'>\n",
      "True type: <class 'bool'>\n",
      "2 type: <class 'int'>\n",
      " \n",
      "0 type: <class 'numpy.int64'>\n",
      "1 type: <class 'numpy.int64'>\n",
      "2 type: <class 'numpy.int64'>\n",
      " \n",
      "testing list 3 and array 3:\n",
      "[1.23, 4.56, 7.89, 'wordy word']\n",
      "\n",
      "1.23 type: <class 'float'>\n",
      "4.56 type: <class 'float'>\n",
      "7.89 type: <class 'float'>\n",
      "wordy word type: <class 'str'>\n",
      " \n",
      "1.23 type: <class 'numpy.str_'>\n",
      "4.56 type: <class 'numpy.str_'>\n",
      "7.89 type: <class 'numpy.str_'>\n",
      "wordy word type: <class 'numpy.str_'>\n",
      " \n"
     ]
    }
   ],
   "source": [
    "print('testing list 1 and array 1:')\n",
    "list_1 = [ 1, 'A', True, 2.5]\n",
    "\n",
    "print(list_1)\n",
    "print('')\n",
    "\n",
    "for L in list_1:\n",
    "    print(L , 'type:', type(L))\n",
    "print(' ')\n",
    "\n",
    "array_1 = np.array(list_1)\n",
    "for A in array_1:\n",
    "    print(A , 'type:', type(A))\n",
    "print(' ')\n",
    "\n",
    "# try a different list\n",
    "\n",
    "print('testing list 2 and array 2:')\n",
    "list_2= [ False, True, 2]\n",
    "\n",
    "print(list_2)\n",
    "print('')\n",
    "\n",
    "for L in list_2:\n",
    "    print(L , 'type:', type(L))\n",
    "print(' ')\n",
    "\n",
    "array_2 = np.array(list_2)\n",
    "for A in array_2:\n",
    "    print(A , 'type:', type(A))\n",
    "print(' ')\n",
    "\n",
    "\n",
    "print('testing list 3 and array 3:')\n",
    "list_3= [ 1.23, 4.56, 7.89, 'wordy word']\n",
    "\n",
    "print(list_3)\n",
    "print('')\n",
    "\n",
    "for L in list_3:\n",
    "    print(L , 'type:', type(L))\n",
    "print(' ')\n",
    "\n",
    "array_3 = np.array(list_3)\n",
    "for A in array_3:\n",
    "    print(A , 'type:', type(A))\n",
    "print(' ')"
   ]
  },
  {
   "cell_type": "markdown",
   "id": "0670574e",
   "metadata": {},
   "source": [
    "# N-dimensional index slicing:  \n",
    "\n",
    "Python lists are inherently one-dimensional, but you can create lists of lists (i.e., nested lists) to simulate multi-dimensional arrays."
   ]
  },
  {
   "cell_type": "code",
   "execution_count": 11,
   "id": "f1405c34",
   "metadata": {},
   "outputs": [
    {
     "name": "stdout",
     "output_type": "stream",
     "text": [
      "3x3 matrix:\n",
      "[[1 2 3]\n",
      " [4 5 6]\n",
      " [7 8 9]]\n",
      " \n",
      "1st matrix row:\n",
      "[1 2 3]\n",
      "1st matrix column:\n",
      "[1 4 7]\n",
      " \n",
      " \n",
      "2nd matrix row:\n",
      "[4 5 6]\n",
      "2nd matrix column:\n",
      "[2 5 8]\n",
      " \n",
      " \n",
      "3rd matrix row:\n",
      "[7 8 9]\n",
      "3rd matrix column:\n",
      "[3 6 9]\n",
      " \n",
      " \n",
      "row 2, column 3 value:\n",
      "6\n",
      " \n",
      " \n",
      "Slicing multiple rows and columns: 2nd & 3rd to 1st & 2nd row column\n",
      "[[4 5]\n",
      " [7 8]]\n",
      " \n",
      " \n",
      "Using advanced indexing for 1st and 3rd rows: \n",
      "[[1 2 3]\n",
      " [7 8 9]]\n",
      "Using advanced indexing:  1st row, 2nd column value & 3rd row, 3rd column value: \n",
      "[2 9]\n"
     ]
    }
   ],
   "source": [
    "# Creating a 2D array (array of list of lists)\n",
    "matrix = np.array([\n",
    "    [1, 2, 3],\n",
    "    [4, 5, 6],\n",
    "    [7, 8, 9] \n",
    "])\n",
    "\n",
    "\n",
    "\n",
    "print('3x3 matrix:')\n",
    "print(matrix)\n",
    "print(' ')\n",
    "\n",
    "print('1st matrix row:')\n",
    "print(matrix[0])\n",
    "print('1st matrix column:')\n",
    "print(matrix[0:3,0])\n",
    "print(' ')\n",
    "print(' ')\n",
    "\n",
    "print('2nd matrix row:')\n",
    "print(matrix[1])\n",
    "print('2nd matrix column:')\n",
    "print(matrix[0:3,1])\n",
    "print(' ')\n",
    "print(' ')\n",
    "\n",
    "print('3rd matrix row:')\n",
    "print(matrix[2])\n",
    "print('3rd matrix column:')\n",
    "print(matrix[0:3,2])\n",
    "print(' ')\n",
    "print(' ')\n",
    "\n",
    "\n",
    "print('row 2, column 3 value:')\n",
    "print(matrix[1,2]) \n",
    "print(' ')\n",
    "print(' ')\n",
    "\n",
    "print('Slicing multiple rows and columns: 2nd & 3rd to 1st & 2nd row column')\n",
    "submatrix = matrix[1:3, 0:2] \n",
    "print(submatrix)\n",
    "print(' ')\n",
    "print(' ')\n",
    "\n",
    "\n",
    "\n",
    "print('Using advanced indexing for 1st and 3rd rows: ')\n",
    "print(matrix[ [0,2] ])\n",
    "print('Using advanced indexing:  1st row, 2nd column value & 3rd row, 3rd column value: ')\n",
    "advanced_index = matrix[[0, 2], [1, 2]]  # Accessing elements at (0,1) and (2,2)\n",
    "print(advanced_index)"
   ]
  },
  {
   "cell_type": "code",
   "execution_count": null,
   "id": "2dc55ca9",
   "metadata": {},
   "outputs": [],
   "source": []
  },
  {
   "cell_type": "markdown",
   "id": "8621fb7e",
   "metadata": {},
   "source": [
    "# Loops and List Comprehension\n",
    "\n",
    "Like most languages, we can write loops in Python. One of the most standard loops is a for loop, so we'll focus on that one. Below is a 'standard' way of writing a 'for' loop. We'll do something simple, where all we want is to get the square of each number in the array."
   ]
  },
  {
   "cell_type": "markdown",
   "id": "d684e525",
   "metadata": {},
   "source": [
    "## First Let's discuss for-loop basics"
   ]
  },
  {
   "cell_type": "code",
   "execution_count": 12,
   "id": "af3248e4",
   "metadata": {},
   "outputs": [
    {
     "name": "stdout",
     "output_type": "stream",
     "text": [
      "ii: 0.0\n",
      " \n",
      "ii: 5.0\n",
      " \n",
      "ii: 10.0\n",
      " \n",
      "ii: 15.0\n",
      " \n",
      "ii: 20.0\n",
      " \n"
     ]
    }
   ],
   "source": [
    "# First, let's use \"for\" and \"in\"\n",
    "\n",
    "\n",
    "x = np.linspace(0,20,5)\n",
    "\n",
    "for ii in x:\n",
    "    print('ii:' , ii)\n",
    "    print(' ')\n"
   ]
  },
  {
   "cell_type": "code",
   "execution_count": 13,
   "id": "a085dc41",
   "metadata": {},
   "outputs": [
    {
     "name": "stdout",
     "output_type": "stream",
     "text": [
      "ii: 0\n",
      "x[ii]: 0.0\n",
      " \n",
      "ii: 1\n",
      "x[ii]: 5.0\n",
      " \n",
      "ii: 2\n",
      "x[ii]: 10.0\n",
      " \n",
      "ii: 3\n",
      "x[ii]: 15.0\n",
      " \n",
      "ii: 4\n",
      "x[ii]: 20.0\n",
      " \n"
     ]
    }
   ],
   "source": [
    "# next, let's practice using the \"range\" function\n",
    " \n",
    "for ii in range( len(x)  ) : \n",
    "    print('ii:' , ii)\n",
    "    print('x[ii]:' , x[ii])\n",
    "    print(' ')"
   ]
  },
  {
   "cell_type": "code",
   "execution_count": 14,
   "id": "25a18ef3",
   "metadata": {},
   "outputs": [
    {
     "name": "stdout",
     "output_type": "stream",
     "text": [
      "ii: 0\n",
      "nn: 0.0\n",
      " \n",
      "ii: 1\n",
      "nn: 5.0\n",
      " \n",
      "ii: 2\n",
      "nn: 10.0\n",
      " \n",
      "ii: 3\n",
      "nn: 15.0\n",
      " \n",
      "ii: 4\n",
      "nn: 20.0\n",
      " \n"
     ]
    }
   ],
   "source": [
    "# next, let's practice using \"enumerate\":\n",
    "\n",
    "for ii,nn in enumerate(x):\n",
    "    print('ii:',ii)\n",
    "    print('nn:',nn)\n",
    "    print(' ')"
   ]
  },
  {
   "cell_type": "markdown",
   "id": "15a729cf",
   "metadata": {},
   "source": [
    "# Depending on your preference, there's more than one way to do a for-loop!"
   ]
  },
  {
   "cell_type": "markdown",
   "id": "d9e3cdc4",
   "metadata": {},
   "source": [
    "# what about for-loops in for-loops?\n",
    "\n",
    "## Sometimes, you may have to iterate over numerous arrays to perform tasks. Give an example... :"
   ]
  },
  {
   "cell_type": "code",
   "execution_count": 15,
   "id": "b3e2bd31",
   "metadata": {},
   "outputs": [
    {
     "name": "stdout",
     "output_type": "stream",
     "text": [
      "ii & jj: 0 , 0\n",
      "x[ii] &  y[jj]: 0.0 , 10.0\n",
      " \n",
      "ii & jj: 0 , 1\n",
      "x[ii] &  y[jj]: 0.0 , 100.0\n",
      " \n",
      "ii & jj: 0 , 2\n",
      "x[ii] &  y[jj]: 0.0 , 1000.0\n",
      " \n",
      "ii & jj: 1 , 0\n",
      "x[ii] &  y[jj]: 5.0 , 10.0\n",
      " \n",
      "ii & jj: 1 , 1\n",
      "x[ii] &  y[jj]: 5.0 , 100.0\n",
      " \n",
      "ii & jj: 1 , 2\n",
      "x[ii] &  y[jj]: 5.0 , 1000.0\n",
      " \n",
      "ii & jj: 2 , 0\n",
      "x[ii] &  y[jj]: 10.0 , 10.0\n",
      " \n",
      "ii & jj: 2 , 1\n",
      "x[ii] &  y[jj]: 10.0 , 100.0\n",
      " \n",
      "ii & jj: 2 , 2\n",
      "x[ii] &  y[jj]: 10.0 , 1000.0\n",
      " \n",
      "ii & jj: 3 , 0\n",
      "x[ii] &  y[jj]: 15.0 , 10.0\n",
      " \n",
      "ii & jj: 3 , 1\n",
      "x[ii] &  y[jj]: 15.0 , 100.0\n",
      " \n",
      "ii & jj: 3 , 2\n",
      "x[ii] &  y[jj]: 15.0 , 1000.0\n",
      " \n",
      "ii & jj: 4 , 0\n",
      "x[ii] &  y[jj]: 20.0 , 10.0\n",
      " \n",
      "ii & jj: 4 , 1\n",
      "x[ii] &  y[jj]: 20.0 , 100.0\n",
      " \n",
      "ii & jj: 4 , 2\n",
      "x[ii] &  y[jj]: 20.0 , 1000.0\n",
      " \n"
     ]
    }
   ],
   "source": [
    "y = np.logspace(1, 3, 3)\n",
    "\n",
    "for ii in range(len(x)):\n",
    "    \n",
    "    for jj in range(len(y)):\n",
    "        \n",
    "        print('ii & jj:' , ii, ',', jj)\n",
    "        \n",
    "        print('x[ii] &  y[jj]:', x[ii], ',', y[jj])\n",
    "        \n",
    "        print(' ')"
   ]
  },
  {
   "cell_type": "markdown",
   "id": "6b7c4ff4",
   "metadata": {},
   "source": [
    "# what if we did this in the opposite order? y first then x?"
   ]
  },
  {
   "cell_type": "code",
   "execution_count": 16,
   "id": "88a33e81",
   "metadata": {},
   "outputs": [
    {
     "name": "stdout",
     "output_type": "stream",
     "text": [
      "ii & jj: 0 , 0\n",
      "x[ii] &  y[jj]: 0.0 , 10.0\n",
      " \n",
      "ii & jj: 1 , 0\n",
      "x[ii] &  y[jj]: 5.0 , 10.0\n",
      " \n",
      "ii & jj: 2 , 0\n",
      "x[ii] &  y[jj]: 10.0 , 10.0\n",
      " \n",
      "ii & jj: 3 , 0\n",
      "x[ii] &  y[jj]: 15.0 , 10.0\n",
      " \n",
      "ii & jj: 4 , 0\n",
      "x[ii] &  y[jj]: 20.0 , 10.0\n",
      " \n",
      "ii & jj: 0 , 1\n",
      "x[ii] &  y[jj]: 0.0 , 100.0\n",
      " \n",
      "ii & jj: 1 , 1\n",
      "x[ii] &  y[jj]: 5.0 , 100.0\n",
      " \n",
      "ii & jj: 2 , 1\n",
      "x[ii] &  y[jj]: 10.0 , 100.0\n",
      " \n",
      "ii & jj: 3 , 1\n",
      "x[ii] &  y[jj]: 15.0 , 100.0\n",
      " \n",
      "ii & jj: 4 , 1\n",
      "x[ii] &  y[jj]: 20.0 , 100.0\n",
      " \n",
      "ii & jj: 0 , 2\n",
      "x[ii] &  y[jj]: 0.0 , 1000.0\n",
      " \n",
      "ii & jj: 1 , 2\n",
      "x[ii] &  y[jj]: 5.0 , 1000.0\n",
      " \n",
      "ii & jj: 2 , 2\n",
      "x[ii] &  y[jj]: 10.0 , 1000.0\n",
      " \n",
      "ii & jj: 3 , 2\n",
      "x[ii] &  y[jj]: 15.0 , 1000.0\n",
      " \n",
      "ii & jj: 4 , 2\n",
      "x[ii] &  y[jj]: 20.0 , 1000.0\n",
      " \n"
     ]
    }
   ],
   "source": [
    "y = np.logspace(1, 3, 3)\n",
    "\n",
    "\n",
    "    \n",
    "for jj in range(len(y)):\n",
    "    for ii in range(len(x)):    \n",
    "        \n",
    "        print('ii & jj:' , ii, ',', jj)\n",
    "        \n",
    "        print('x[ii] &  y[jj]:', x[ii], ',', y[jj])\n",
    "        \n",
    "        print(' ')"
   ]
  },
  {
   "cell_type": "code",
   "execution_count": null,
   "id": "71a1ac31",
   "metadata": {},
   "outputs": [],
   "source": []
  },
  {
   "cell_type": "markdown",
   "id": "2bde885b",
   "metadata": {},
   "source": [
    "# let's use a for loop to iterative perform a task and add values to an empty list:"
   ]
  },
  {
   "cell_type": "code",
   "execution_count": 17,
   "id": "20038831",
   "metadata": {},
   "outputs": [
    {
     "name": "stdout",
     "output_type": "stream",
     "text": [
      "x_2 before for loop: []\n",
      "\n",
      "i: 0.0  ;  i * i: 0.0\n",
      "i: 1.0  ;  i * i: 1.0\n",
      "i: 2.0  ;  i * i: 4.0\n",
      "i: 3.0  ;  i * i: 9.0\n",
      "i: 4.0  ;  i * i: 16.0\n",
      "i: 5.0  ;  i * i: 25.0\n",
      "i: 6.0  ;  i * i: 36.0\n",
      "i: 7.0  ;  i * i: 49.0\n",
      "i: 8.0  ;  i * i: 64.0\n",
      "i: 9.0  ;  i * i: 81.0\n",
      "i: 10.0  ;  i * i: 100.0\n",
      "\n",
      "x_2 after for loop: [0.0, 1.0, 4.0, 9.0, 16.0, 25.0, 36.0, 49.0, 64.0, 81.0, 100.0]\n"
     ]
    }
   ],
   "source": [
    "x=np.linspace(0,10,11)\n",
    "\n",
    "#let's make a blank list that we'll append to.\n",
    "x_2=[]\n",
    "print('x_2 before for loop:',x_2)\n",
    "print('')\n",
    "# we can append new numbers to our blank list using a \"for loop\" which\n",
    "# will look at every entry in the list independently\n",
    "for i in x:\n",
    "    print('i:',i,' ; ', 'i * i:', i*i)\n",
    "    i_2=i * i\n",
    "    x_2.append( i_2 )\n",
    "print('')\n",
    "print ('x_2 after for loop:',x_2)"
   ]
  },
  {
   "cell_type": "markdown",
   "id": "10b01ee5",
   "metadata": {},
   "source": [
    "# Let's say we only want to perform an operation on the first 5 elements in x, we can run our for loop like so with the \"range\" command"
   ]
  },
  {
   "cell_type": "code",
   "execution_count": 18,
   "id": "daaa40b1",
   "metadata": {},
   "outputs": [
    {
     "name": "stdout",
     "output_type": "stream",
     "text": [
      "for loop for first 5 elements in list:\n",
      "i: 0  ;  x[i] * i: 0.0\n",
      "i: 1  ;  x[i] * i: 1.0\n",
      "i: 2  ;  x[i] * i: 4.0\n",
      "i: 3  ;  x[i] * i: 9.0\n",
      "i: 4  ;  x[i] * i: 16.0\n",
      "[0.0, 1.0, 4.0, 9.0, 16.0]\n",
      " \n",
      "for loop for 3rd to 7th elements in list:\n",
      "i: 3  ;  x[i] * i: 9.0\n",
      "i: 4  ;  x[i] * i: 16.0\n",
      "i: 5  ;  x[i] * i: 25.0\n",
      "i: 6  ;  x[i] * i: 36.0\n",
      "[9.0, 16.0, 25.0, 36.0]\n",
      " \n"
     ]
    }
   ],
   "source": [
    "print('for loop for first 5 elements in list:')\n",
    "x_2=[]\n",
    "for i in range(5):\n",
    "    print('i:',i,' ; ', 'x[i] * i:', x[i]*i)\n",
    "    x_2.append( x[i] * i )\n",
    "print(x_2)    \n",
    "print(' ')\n",
    "# we can also do this for different ranges\n",
    "\n",
    "print('for loop for 3rd to 7th elements in list:')\n",
    "x_2=[]\n",
    "for i in range(3,7):\n",
    "    print('i:',i,' ; ', 'x[i] * i:', x[i]*i)\n",
    "    x_2.append( x[i] * i )\n",
    "print(x_2)    \n",
    "print(' ')"
   ]
  },
  {
   "cell_type": "markdown",
   "id": "28b7a987",
   "metadata": {},
   "source": [
    "# List comprehension style of for-looping"
   ]
  },
  {
   "cell_type": "markdown",
   "id": "3333dd05",
   "metadata": {},
   "source": [
    "While that loop works, even this pretty simple example can be condensed into something a bit shorter. We have to set up a blank list, and then after that, the loop itself was 3 lines, so just getting the squares of all these values took 4 lines. We can do it in one with list comprehension.\n",
    "\n",
    "This is basically a different way of writing a for loop, and will return a list, so we don't have to set up an empty list for the results."
   ]
  },
  {
   "cell_type": "code",
   "execution_count": 19,
   "id": "81364730",
   "metadata": {},
   "outputs": [
    {
     "name": "stdout",
     "output_type": "stream",
     "text": [
      "x: [ 0.  1.  2.  3.  4.  5.  6.  7.  8.  9. 10.]\n",
      " \n",
      "x_2: [0.0, 1.0, 4.0, 9.0, 16.0, 25.0, 36.0, 49.0, 64.0, 81.0, 100.0]\n"
     ]
    }
   ],
   "source": [
    "x=np.linspace(0,10,11)\n",
    "print ('x:',x)\n",
    "print(' ')\n",
    "\n",
    "x_2 = [ i*i for i in x ]\n",
    "print ('x_2:',x_2)"
   ]
  },
  {
   "cell_type": "markdown",
   "id": "6c113cca",
   "metadata": {},
   "source": [
    "# Dictionaries\n",
    "\n",
    "Dictionaries are another way of storing a large amount of data in Python, except instead of being referenced by an ordered set of numbers like in a list, they are referenced by either strings/characters or numbers, referred to as keys."
   ]
  },
  {
   "cell_type": "code",
   "execution_count": 20,
   "id": "4535c949",
   "metadata": {},
   "outputs": [
    {
     "name": "stdout",
     "output_type": "stream",
     "text": [
      "x: {}\n",
      " \n",
      "x: {'answer': 42}\n",
      " \n",
      "42\n"
     ]
    }
   ],
   "source": [
    "x={}\n",
    "print('x:',x)\n",
    "print(' ')\n",
    "\n",
    "x['answer']=42\n",
    "print('x:',x)\n",
    "print(' ')\n",
    "\n",
    "print (x['answer'])"
   ]
  },
  {
   "cell_type": "markdown",
   "id": "57dcea1b",
   "metadata": {},
   "source": [
    "These are particularly useful if you'll have a handful of values you'd like to call back to often. For an astronomy example, we can set up a dictionary that contains the absolute magnitude of the Sun in a bunch of bands (from Binney & Merrifield). We can now have a code that easily calls absolute magnitudes whenever needed using that dictionary.\n",
    "\n",
    "We can also list out the dictionary, if needed, with AbMag.items(). There's some other tools for more advanced tricks with dictionaries, but this covers the basics."
   ]
  },
  {
   "cell_type": "code",
   "execution_count": 21,
   "id": "05551085",
   "metadata": {},
   "outputs": [
    {
     "name": "stdout",
     "output_type": "stream",
     "text": [
      "{'U': 5.61, 'B': 5.48, 'V': 4.83, 'R': 4.42, 'I': 4.08}\n",
      "\n",
      "printing specific entries by using a specific key:\n",
      "4.83\n",
      "\n",
      "printing all entries:\n",
      "dict_items([('U', 5.61), ('B', 5.48), ('V', 4.83), ('R', 4.42), ('I', 4.08)])\n",
      "\n",
      "printing all keys\n",
      "dict_keys(['U', 'B', 'V', 'R', 'I'])\n",
      "\n",
      "printing all values\n",
      "dict_values([5.61, 5.48, 4.83, 4.42, 4.08])\n",
      "\n"
     ]
    }
   ],
   "source": [
    "AbMag={'U':5.61, 'B':5.48, 'V':4.83, 'R':4.42, 'I':4.08}\n",
    "print(AbMag)\n",
    "print('')\n",
    "\n",
    "print('printing specific entries by using a specific key:')\n",
    "print(AbMag['V'])\n",
    "print('')\n",
    "\n",
    "print('printing all entries:')\n",
    "print (AbMag.items()) \n",
    "print('')\n",
    "\n",
    "print('printing all keys')\n",
    "print (AbMag.keys()) \n",
    "print('')\n",
    "\n",
    "print('printing all values')\n",
    "print (AbMag.values()) \n",
    "print('')\n",
    "\n"
   ]
  },
  {
   "cell_type": "code",
   "execution_count": null,
   "id": "6f5d7cd8",
   "metadata": {},
   "outputs": [],
   "source": []
  },
  {
   "cell_type": "markdown",
   "id": "f520a123",
   "metadata": {},
   "source": [
    "# Functions:\n",
    "\n",
    "At a certain point you'll be writing the same bits of code over and over again. That means that if you want to update it, you'll have to update it in every single spot you did the same thing. This is.... less than optimal use of time, and it also means it's really easy to screw up by forgetting to keep one spot the same as the rest.\n"
   ]
  },
  {
   "cell_type": "markdown",
   "id": "8c4e904e",
   "metadata": {},
   "source": [
    "# Let's go over functions basics"
   ]
  },
  {
   "cell_type": "code",
   "execution_count": 22,
   "id": "84d66ef6",
   "metadata": {},
   "outputs": [],
   "source": [
    "def function_name_A(input_value_1, input_value_2,input_value_3):\n",
    "    ''' Before functions that you write, you should include \"Docstrings\" which contain some \n",
    "    information about what this function does, what inputs are necessary for it to be used,\n",
    "    and what outputs should be expected from its usage. \n",
    "    \n",
    "    To begin a docstring, use three sets of quotes ('' or \"\" both work) and write in the \n",
    "    space in between the 3 sets of quotes.\n",
    "    \n",
    "    --------------------------------------------------\n",
    "    --------------------------------------------------\n",
    "    --------------------------------------------------\n",
    "    Inputs:\n",
    "    In this particular function, we have three input arguments:\n",
    "        - input_value_1: type, anything you want\n",
    "        - input_value_2: type, anything you want\n",
    "        - input_value_3: type, anything you want\n",
    "        \n",
    "    \n",
    "    --------------------------------------------------\n",
    "    --------------------------------------------------\n",
    "    --------------------------------------------------    \n",
    "    Outputs: \n",
    "        print statements only, no output values\n",
    "    '''\n",
    "    \n",
    "    \n",
    "    # now add some code to do things with the three input values\n",
    "    print('input_value 1:',input_value_1)\n",
    "    print('input_value 2:',input_value_2)\n",
    "    print('input_value 3:',input_value_3)"
   ]
  },
  {
   "cell_type": "markdown",
   "id": "825ac00a",
   "metadata": {},
   "source": [
    "# How to view docstrings in jupyter notebook (this works with *ANY* function, if that function has docstrings):"
   ]
  },
  {
   "cell_type": "markdown",
   "id": "d9027add",
   "metadata": {},
   "source": [
    "## First, type the name of the function you'd like to use, then place your cursor inside the parenthesis and type 'shift + tab'. This should bring up a window like:\n",
    "\n",
    "<img src=\"./images/docstring1.png\" width=\"100%\">"
   ]
  },
  {
   "cell_type": "markdown",
   "id": "6ec12b83",
   "metadata": {},
   "source": [
    "# Second, if you click the \"^\" symbol in the small window, it'll open up a larger, scrollable window to read the full docstrings of the desired function:\n",
    "\n",
    "<img src=\"./images/docstring2.png\" width=\"100%\">"
   ]
  },
  {
   "cell_type": "markdown",
   "id": "97e2a72a",
   "metadata": {},
   "source": [
    "# Let's practice using our custom functions:"
   ]
  },
  {
   "cell_type": "code",
   "execution_count": 23,
   "id": "db6ae71e",
   "metadata": {},
   "outputs": [
    {
     "name": "stdout",
     "output_type": "stream",
     "text": [
      "input_value 1: A\n",
      "input_value 2: 2\n",
      "input_value 3: True\n"
     ]
    }
   ],
   "source": [
    "# example usage\n",
    "function_name_A( input_value_1='A', \n",
    "                input_value_2=2, \n",
    "                input_value_3=True)"
   ]
  },
  {
   "cell_type": "code",
   "execution_count": null,
   "id": "af26e81e",
   "metadata": {},
   "outputs": [],
   "source": []
  },
  {
   "cell_type": "code",
   "execution_count": 24,
   "id": "80e17aa8",
   "metadata": {},
   "outputs": [],
   "source": [
    "def function_name_B(input_value_1, input_value_2,input_value_3,\n",
    "                    set_value_1 = 4.56 ):\n",
    "    ''' \n",
    "    In this particular function, we now have our original three \n",
    "    input arguments from before (function_name_A):\n",
    "        - input_value_1: type, anything you want\n",
    "        - input_value_2: type, anything you want\n",
    "        - input_value_3: type, anything you want\n",
    "        \n",
    "    We also have another input argument called \"set_value_1\".\n",
    "    In this particular function, we have set_value_1 = 4.56, \n",
    "    meaning that it is \"hard-coded\" to have that value. \n",
    "    Unless we define it as otherwise when using this function, \n",
    "    it'll have that value associated with it.\n",
    "    \n",
    "    --------------------------------------------------\n",
    "    --------------------------------------------------\n",
    "    --------------------------------------------------\n",
    "    Inputs:\n",
    "    In this particular function, we have three input arguments:\n",
    "        - input_value_1: type, anything you want\n",
    "        - input_value_2: type, anything you want\n",
    "        - input_value_3: type, anything you want\n",
    "        - set_value_1: type, float or anything that you want\n",
    "        \n",
    "    \n",
    "    --------------------------------------------------\n",
    "    --------------------------------------------------\n",
    "    --------------------------------------------------    \n",
    "    Outputs: \n",
    "        print statements only, no output values\n",
    "    '''    \n",
    "    \n",
    "    # now add some code to do things with the three input values\n",
    "    print('input_value 1:',input_value_1)\n",
    "    print('input_value 2:',input_value_2)\n",
    "    print('input_value 3:',input_value_3)\n",
    "    print('set_value 1:',set_value_1)"
   ]
  },
  {
   "cell_type": "code",
   "execution_count": 25,
   "id": "9c4df51a",
   "metadata": {},
   "outputs": [
    {
     "name": "stdout",
     "output_type": "stream",
     "text": [
      "input_value 1: A\n",
      "input_value 2: 2\n",
      "input_value 3: True\n",
      "set_value 1: 4.56\n"
     ]
    }
   ],
   "source": [
    "# example usage\n",
    "function_name_B(input_value_1='A', \n",
    "                input_value_2=2, \n",
    "                input_value_3=True) # note: we're not defining \"set_value_1\" here"
   ]
  },
  {
   "cell_type": "code",
   "execution_count": 26,
   "id": "7227f90d",
   "metadata": {},
   "outputs": [
    {
     "name": "stdout",
     "output_type": "stream",
     "text": [
      "input_value 1: A\n",
      "input_value 2: 2\n",
      "input_value 3: True\n",
      "set_value 1: something else now\n"
     ]
    }
   ],
   "source": [
    "# example usage\n",
    "function_name_B(input_value_1='A', \n",
    "                input_value_2=2, \n",
    "                input_value_3=True,\n",
    "               set_value_1 = 'something else now')"
   ]
  },
  {
   "cell_type": "code",
   "execution_count": null,
   "id": "8bd70827",
   "metadata": {},
   "outputs": [],
   "source": []
  },
  {
   "cell_type": "code",
   "execution_count": 27,
   "id": "aca2eaef",
   "metadata": {},
   "outputs": [],
   "source": [
    "def function_name_C(input_value_1, input_value_2,input_value_3,\n",
    "                    set_value_1=4.56,\n",
    "                    optional_value=None):\n",
    "    \n",
    "    ''' \n",
    "    In this particular function, we now have our original four\n",
    "    input arguments from before (function_name_B):\n",
    "        - input_value_1: type, anything you want\n",
    "        - input_value_2: type, anything you want\n",
    "        - input_value_3: type, anything you want\n",
    "        - set_value_1: type, float or anything that you want        \n",
    "        \n",
    "    We also have another input argument called \"optional_value\".\n",
    "    In this particular function, we have optional_value = None, \n",
    "    meaning that it is \"hard-coded\" to have that value. \n",
    "    Unless we define it as otherwise when using this function, \n",
    "    it'll have that value associated with it.\n",
    "    \n",
    "    A NoneType object has a value as the name suggests: None.\n",
    "    It does nothing and has no value associated with it. \n",
    "    We can check the type of this input and do something if \n",
    "    it is NoneType or if it is not NoneType:\n",
    "    \n",
    "    --------------------------------------------------\n",
    "    --------------------------------------------------\n",
    "    --------------------------------------------------\n",
    "    Inputs:\n",
    "        - input_value_1: type, anything you want\n",
    "        - input_value_2: type, anything you want\n",
    "        - input_value_3: type, anything you want\n",
    "        - set_value_1: type, float or anything that you want\n",
    "        - optional_value: type, NoneType or anything that you want        \n",
    "        \n",
    "    \n",
    "    --------------------------------------------------\n",
    "    --------------------------------------------------\n",
    "    --------------------------------------------------    \n",
    "    Outputs: \n",
    "        If optional_value is NoneType: print statements only, no output values\n",
    "        If optional_value is not NoneType: return other 4 input arguments as an output\n",
    "    '''        \n",
    "    \n",
    "    \n",
    "    if type(optional_value)==type(None):\n",
    "        print('input_value 1:',input_value_1)\n",
    "        print('input_value 2:',input_value_2)\n",
    "        print('input_value 3:',input_value_3)\n",
    "        print('set_value 1:',set_value_1) \n",
    "    if type(optional_value)!=type(None):        \n",
    "        return input_value_1 , input_value_2 , input_value_3 , set_value_1\n",
    "        "
   ]
  },
  {
   "cell_type": "code",
   "execution_count": 28,
   "id": "1a5b949d",
   "metadata": {},
   "outputs": [
    {
     "name": "stdout",
     "output_type": "stream",
     "text": [
      "input_value 1: A\n",
      "input_value 2: 2\n",
      "input_value 3: True\n",
      "set_value 1: 4.56\n",
      " \n",
      "if we have optional_flag use its default \"None\" input value, do we have an output:\n",
      "output: None\n",
      "\n"
     ]
    }
   ],
   "source": [
    "# example usage\n",
    "#note set_value_1 & optional flag is not set\n",
    "output = function_name_C(input_value_1='A', input_value_2=2,input_value_3=True)\n",
    "\n",
    "print(' ')\n",
    "print('if we have optional_flag use its default \"None\" input value, do we have an output:')\n",
    "print('output:',output)\n",
    "print('')"
   ]
  },
  {
   "cell_type": "code",
   "execution_count": 29,
   "id": "de4c4f33",
   "metadata": {},
   "outputs": [
    {
     "name": "stdout",
     "output_type": "stream",
     "text": [
      " \n",
      "if we have optional_flag use its default \"None\" input value, do we have an output:\n",
      "output: ('A', 2, True, 4.56)\n",
      "\n",
      " \n",
      "if we have optional_flag use its default \"None\" input value, do we have an output:\n",
      "output: ('A', 2, True, 16)\n",
      "\n",
      " \n",
      "if we have optional_flag use its default \"None\" input value, do we have an output:\n",
      "output: ('B', 3, False, 4.56)\n",
      "\n",
      " \n",
      "if we have optional_flag use its default \"None\" input value, do we have an output:\n",
      "output: ('B', 3, False, 4.56)\n",
      "\n"
     ]
    }
   ],
   "source": [
    "# example usage\n",
    "#note set_value_1 is not set but optional_value is set to a string\n",
    "output = function_name_C(input_value_1='A', input_value_2=2,input_value_3=True,\n",
    "                        optional_value='Not None this time')\n",
    "\n",
    "print(' ')\n",
    "print('if we have optional_flag use its default \"None\" input value, do we have an output:')\n",
    "print('output:',output)\n",
    "print('')\n",
    "\n",
    "\n",
    "# example usage\n",
    "#note set_value_1 is not set but optional_value is set to a boolean\n",
    "output = function_name_C(input_value_1='A', input_value_2=2,input_value_3=True,\n",
    "                        set_value_1 = 16, optional_value=False)\n",
    "\n",
    "print(' ')\n",
    "print('if we have optional_flag use its default \"None\" input value, do we have an output:')\n",
    "print('output:',output)\n",
    "print('')\n",
    "\n",
    "\n",
    "# example usage\n",
    "#note set_value_1 is not set but optional_value is set to a float\n",
    "output = function_name_C(input_value_1='B', input_value_2=3,input_value_3=False,\n",
    "                        optional_value=1.23)\n",
    "\n",
    "print(' ')\n",
    "print('if we have optional_flag use its default \"None\" input value, do we have an output:')\n",
    "print('output:',output)\n",
    "print('')\n",
    "\n",
    "\n",
    "# example usage\n",
    "#note set_value_1 is not set but optional_value is set to a numpy function\n",
    "output = function_name_C(input_value_1='B', input_value_2=3,input_value_3=False,\n",
    "                        optional_value=np.sin)\n",
    "\n",
    "print(' ')\n",
    "print('if we have optional_flag use its default \"None\" input value, do we have an output:')\n",
    "print('output:',output)\n",
    "print('')"
   ]
  },
  {
   "cell_type": "markdown",
   "id": "b6a8f199",
   "metadata": {},
   "source": [
    "# the way we coded function_name_C, \"optional_flag\" can be ANYTHING but if it is NoneType, then no output is produced, and only print statements are returned as outputs"
   ]
  },
  {
   "cell_type": "code",
   "execution_count": null,
   "id": "9d579da2",
   "metadata": {},
   "outputs": [],
   "source": []
  },
  {
   "cell_type": "markdown",
   "id": "bce31fbe",
   "metadata": {},
   "source": [
    "# Example Functions:\n",
    "\n",
    "We can try out a function by writing a crude function for the sum of a geometric series.\n",
    "$$\\frac{1}{r} + \\frac{1}{r^2} + \\frac{1}{r^3} + \\frac{1}{r^4} + \\ldots $$\n",
    "\n",
    "Conveniently, so long as r is larger than 1, there's a known solution to this series. We can use that to see that this function works.\n",
    "$$ \\frac{1}{r-1} $$\n",
    "\n",
    "This means we can call the function repeatedly and not need to change anything. In this case, you can try using this GeoSum function for several different numbers (remember, r>1), and see how closely this works, by just changing TermValue"
   ]
  },
  {
   "cell_type": "code",
   "execution_count": null,
   "id": "bba727df",
   "metadata": {},
   "outputs": [],
   "source": []
  },
  {
   "cell_type": "code",
   "execution_count": 30,
   "id": "a31fa4a4",
   "metadata": {},
   "outputs": [
    {
     "name": "stdout",
     "output_type": "stream",
     "text": [
      "r value: 2\n",
      "geometric sum: 0.9990234375\n",
      " \n",
      "result: 0.9990234375\n"
     ]
    }
   ],
   "source": [
    "def GeoSum(r):\n",
    "    '''\n",
    "    This function will approximate the geometric sum of an input value \"r\".\n",
    "    \n",
    "    ==========================\n",
    "    Inputs:\n",
    "        - r: type int or float\n",
    "    Outputs:\n",
    "        - output: type float\n",
    "                \n",
    "    '''\n",
    "    print('r value:',r)\n",
    "    powers=range(1,11,1) #set up a list for the exponents 1 to 10\n",
    "    \n",
    "    terms=[ (1 / ( r**x ) ) for x in powers] #calculate each term in the series\n",
    "    # note usage of r**x, in python the exponential operation is \"**\" (not \"^\")\n",
    "    \n",
    "    \n",
    "    # OR in simpler for-loop terms (not list-comprehension)\n",
    "    terms = []\n",
    "    for x in powers:\n",
    "        value = 1 / ( r**x )\n",
    "        terms.append( value )\n",
    "        \n",
    "    \n",
    "    output = sum(terms)\n",
    "    print('geometric sum:',output)\n",
    "    print(\" \")\n",
    "    \n",
    "    return output\n",
    "\n",
    "\n",
    "TermValue=2\n",
    "\n",
    "result = GeoSum(TermValue)\n",
    "print('result:',result)"
   ]
  },
  {
   "cell_type": "markdown",
   "id": "9ce6eeb7",
   "metadata": {},
   "source": [
    "# Classes\n",
    "\n",
    "To steal a good line for this, [\"Classes can be thought of as blueprints for creating objects.\"](https://jeffknupp.com/blog/2014/06/18/improve-your-python-python-classes-and-object-oriented-programming/)\n",
    "\n",
    "With a class, we can create an object with a whole set of properties that we can access. This can be very useful when you want to deal with many objects with the same set of parameters, rather than trying to keep track of related variables over multiple lists, or even just having a single object's properties all stored in some hard to manage list or dictionary.\n",
    "\n",
    "Here we'll just use a class that's set up to do some basic math. Note that the class consists of several smaller functions inside of it. The first function, called __init__, is going to be run as soon as we create an object belonging to this class, and so that'll create two attributes to that object, value and square. The other function, powerraise, only gets called if we call it. Try adding some other subfunctions in there to try this out. They don't need to have anything new passed to them to be run."
   ]
  },
  {
   "cell_type": "code",
   "execution_count": 1,
   "id": "4969c1d7",
   "metadata": {},
   "outputs": [
    {
     "name": "stdout",
     "output_type": "stream",
     "text": [
      "assign its value:\n",
      "3\n",
      " \n",
      "assign its squared value\n",
      "9\n",
      "\n",
      "assign its power value:\n",
      "4\n",
      " \n",
      "assign its value raised to the 4th power\n",
      "81\n",
      "\n",
      "Combine class functions for a single \"Print Statement\":\n",
      "3 ^ 4 = 81\n"
     ]
    }
   ],
   "source": [
    "\n",
    "class SampleClass:\n",
    "    '''\n",
    "    This is now an example of using a class object. Below are some helper functions\n",
    "    \n",
    "    '''\n",
    "    # Initializer / Instance attributes\n",
    "    def __init__(self, value): #run on initial setup of the class, provide a value\n",
    "        '''\n",
    "        This is an initializer function. These are used for any initial set up\n",
    "        that your Class object may require for functionality. Note that the inputs\n",
    "        are \"self\" and \"value\". \"self\" is a conventional name for the first parameter of inner functions \n",
    "        in a class. With \"self\", you can access and modify the instance's attributes. Why use \"self\"?\n",
    "        It's a convention that makes it clear which methods and attributes belong to the class instance.\n",
    "        It also maintaints its own state, allowing for \"object-oriented\" programming principles to\n",
    "        be applied effectively. While \"self\" is common convention, the first instance can be called anything\n",
    "        really. For clarity of your code to others who may read it, I reccomend sticking with \"self\".\n",
    "        \"Value\" is the input value upon calling/using the Class object.\n",
    "        '''\n",
    "        self.value = value\n",
    "        self.square = value**2\n",
    "     # Instance method\n",
    "    def powerraise(self, powerval): #only run when we call it, provide powerval\n",
    "        '''\n",
    "        This function is used to raise a number to a exoponential power.\n",
    "        The inputs are \"self\" (see above for explanation) and \"poweralv\",\n",
    "        which is the exponential power value used to raise a number's value to.\n",
    "        Example: input number value=10 ; powerval=3 ;  raisedpower = 10 ^ 3.\n",
    "        '''\n",
    "        self.powerval=powerval\n",
    "        self.raisedpower=self.value**powerval # In python the exponential operation is \"**\" (not \"^\")\n",
    "\n",
    "        \n",
    "# Creating an Instance (Object)        \n",
    "MyNum=SampleClass(3) #initialize the function with a \"self\" value of 3\n",
    "\n",
    "# Accessing instance attributes\n",
    "print('assign its value:')\n",
    "print (MyNum.value) #\n",
    "print(' ')\n",
    "\n",
    "print('assign its squared value')\n",
    "print (MyNum.square)\n",
    "print('')\n",
    "\n",
    "# Calling instance methods\n",
    "print('assign its power value:')\n",
    "MyNum.powerraise(4) \n",
    "print (MyNum.powerval) \n",
    "print(' ')\n",
    "\n",
    "print('assign its value raised to the 4th power')\n",
    "print (MyNum.raisedpower) \n",
    "print('')\n",
    "\n",
    "print('Combine class functions for a single \"Print Statement\":')\n",
    "print (MyNum.value,'^',MyNum.powerval,'=',MyNum.raisedpower)"
   ]
  },
  {
   "cell_type": "code",
   "execution_count": null,
   "id": "62b2aeb2",
   "metadata": {},
   "outputs": [],
   "source": []
  }
 ],
 "metadata": {
  "kernelspec": {
   "display_name": "Python 3 (ipykernel)",
   "language": "python",
   "name": "python3"
  },
  "language_info": {
   "codemirror_mode": {
    "name": "ipython",
    "version": 3
   },
   "file_extension": ".py",
   "mimetype": "text/x-python",
   "name": "python",
   "nbconvert_exporter": "python",
   "pygments_lexer": "ipython3",
   "version": "3.9.13"
  }
 },
 "nbformat": 4,
 "nbformat_minor": 5
}
