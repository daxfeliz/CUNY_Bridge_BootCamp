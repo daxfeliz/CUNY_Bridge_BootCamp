{
 "cells": [
  {
   "cell_type": "markdown",
   "id": "e10fd7d1",
   "metadata": {},
   "source": [
    "# Part of 2024 Open hack Session Session, Notebook # ???: Revisiting Git\n",
    "\n",
    "## Today's agenda:\n",
    "0. __Workshop Overview__:\n",
    "    * __When__: August 22nd, 2pm-5pm\n",
    "    * __Where__: CUNY Graduate Center, Room 5382 \n",
    "    * __What__: GitHub practice!\n",
    "    * __Want__ to lead a session for a topic? Some Days there will be small hack sessions for people to discuss problems they're working on.\n",
    "    * __Online Resources__:  __https://daxfeliz.github.io/cunybridgebootcamp/__\n",
    "    * __Program Schedule__: __https://tinyurl.com/mu88x9xc__   \n",
    "&nbsp;\n",
    "1. __This session__:\n",
    "    * James had asked, what if we pushed changes into a GitHub repository but want to reverse our pushed changes?\n",
    "    * See https://docs.google.com/document/d/1cgE35mig8dc1oi02DvqP4UuqziLKRdrfdZfnGWrMl3o/edit for other Open Hack Session topics\n",
    "</br>\n",
    "&nbsp;\n"
   ]
  },
  {
   "cell_type": "code",
   "execution_count": null,
   "id": "3859873b",
   "metadata": {},
   "outputs": [],
   "source": []
  },
  {
   "cell_type": "markdown",
   "id": "0c0c0010",
   "metadata": {},
   "source": [
    "# Step 1: let's make a Github repository, from scratch, on our local machines. In a command terminal, enter:\n",
    "\n",
    "```bash\n",
    "mkdir my-new-repo # Creates a new directory named my-new-repo.\n",
    "\n",
    "cd my-new-repo: # Changes the current directory to my-new-repo.\n",
    "git init # Initializes a new Git repository in the current directory.\n",
    "```"
   ]
  },
  {
   "cell_type": "markdown",
   "id": "7b392a38",
   "metadata": {},
   "source": [
    "# Step 2: Create a New File and Make the First Commit\n",
    "```bash\n",
    "echo \"Hello World\" > hello.txt # Creates a file named hello.txt with the content \"Hello World\".\n",
    "git add hello.txt # Stages the hello.txt file, preparing it for the next commit.\n",
    "git commit -m \"First commit\" # Commits the staged changes with the message \"First commit\".\n",
    "```"
   ]
  },
  {
   "cell_type": "markdown",
   "id": "8d32cb62",
   "metadata": {},
   "source": [
    "# Step 3: Create a New GitHub Repository online\n",
    "* Go to your GitHub account.\n",
    "* Create a new repository (e.g., my-new-repo)."
   ]
  },
  {
   "cell_type": "markdown",
   "id": "0acd0c4e",
   "metadata": {},
   "source": [
    "# Step 4: Link Your Local Repository to GitHub and Push\n",
    "```bash\n",
    "git remote add origin git@github.com:YOURUSERNAME/my-new-repo.git # sets origin to remote repository.\n",
    "git remote set-url origin git@github.com:YOURUSERNAME/my-new-repo.git #  Links your local repository to a remote repository hosted on GitHub. The remote repository is called origin.\n",
    "git push -u origin main --force # A forced Push of your commits to the main branch of the remote repository and sets the remote main branch as the default upstream branch for your local main branch.\n",
    "```"
   ]
  },
  {
   "cell_type": "markdown",
   "id": "96006366",
   "metadata": {},
   "source": [
    "# Now that this repository exists both locally and online, let's make a change to our local repository that we're gonna push on purpose (but it's really an accident!)\n",
    "\n",
    "# Step 5: Modify the File and Make Another Commit\n",
    "```bash\n",
    "echo \"This might be a mistake...\" >> hello.txt # Appends the text to the existing hello.txt file.\n",
    "git add hello.txt # Stages the hello.txt file, preparing it for the next commit.\n",
    "git commit -m \"Second commit\" # Creates a new commit with the updated hello.txt file and a message \"Second commit\".\n",
    "git push origin main # Pushes your commits to the main branch of the remote repository and sets the remote main branch as the default upstream branch for your local main branch.\n",
    "```"
   ]
  },
  {
   "cell_type": "markdown",
   "id": "f5357e06",
   "metadata": {},
   "source": [
    "# Step 6: View Git history\n",
    "```bash\n",
    "git log --oneline # Displays the commit history in a simplified one-line format.\n",
    "```"
   ]
  },
  {
   "cell_type": "markdown",
   "id": "f2a7c1aa",
   "metadata": {},
   "source": [
    "# Step 7: Oops! We messedededed up. Let's revert that change by undoing the Last Commit and Restore to the Previous State:\n",
    "\n",
    "## We can do this in a couple of ways. A \"soft reset\" or a \"hard reset\":\n",
    "\n",
    "\n",
    "### Option 1: Soft Reset\n",
    "```bash\n",
    "git reset --soft HEAD~1\n",
    "```\n",
    "__Explanation__:\n",
    "* Moves the current branch pointer (i.e., HEAD) to the previous commit (HEAD~1), undoing the last commit.\n",
    "* __Keeps the changes staged__: The changes made in the undone commit remain in the staging area (they’re ready to be committed again).\n",
    "* This is useful if you want to rewrite the last commit (e.g., correct the commit message) or make further changes before committing again.\n",
    "\n",
    "### Option 2:  Hard Reset\n",
    "```bash\n",
    "git reset --hard HEAD~1\n",
    "```\n",
    "__Explanation__:\n",
    "* Moves the current branch pointer to the previous commit (HEAD~1), just like the soft reset.\n",
    "* __Discards all changes__: Any changes made in the undone commit are completely lost—they’re not staged, not committed, and not even present in your working directory.\n",
    "* This is a more destructive operation, typically used when you want to completely discard the last commit and any changes associated with it.\n",
    "\n",
    "\n",
    "## Once you've chosen your method of resetting (I recommend soft reset), then we force a push to revert to a previous state:\n",
    "\n",
    "```bash\n",
    "git push --force-with-lease\n",
    "```\n",
    "__Explanation__:\n",
    "* Forcefully pushes your changes to the remote repository, effectively rewriting history.\n",
    "* `--force-with-lease` is safer than `--force` because it checks if anyone else has pushed to the branch before allowing the force push. If someone has pushed, it stops the force push, preventing accidental overwrites of others' work."
   ]
  },
  {
   "cell_type": "markdown",
   "id": "89218164",
   "metadata": {},
   "source": [
    "# Step 8: Verify the Reversion\n",
    "* Check the file and commit history to ensure the repository has been reverted to the previous state.\n",
    "\n",
    "\n",
    "## * 8A: Check the File Content\n",
    "```bash \n",
    "cat hello.txt # This will display the contents of hello.txt to confirm that the file reflects the state of the previous commit.\n",
    "```\n",
    "\n",
    "## * 8B: Review the Commit History\n",
    "```bash \n",
    "git log --oneline # This will show the commit history in a simplified format. Ensure that the latest commit matches the one you intended to revert to.\n",
    "```\n",
    "\n",
    "## * 8C: Check the Remote Repository (Optional)\n",
    "```bash \n",
    "git log --oneline origin/main # This shows the commit history of the remote main branch, ensuring the reset was pushed successfully.\n",
    "```\n",
    "\n",
    "### By checking these, you confirm that the repository is in the desired state, both locally and remotely."
   ]
  },
  {
   "cell_type": "code",
   "execution_count": null,
   "id": "6ca25b8c",
   "metadata": {},
   "outputs": [],
   "source": []
  },
  {
   "cell_type": "markdown",
   "id": "896bc872",
   "metadata": {},
   "source": [
    "# Note: If you did a soft reset, the online version of your repository will reflect your previous commit but all of the changes you made (including mistakes!) will remain, just unstaged in the Git workflow (meaning git add will be required to include them or any new corrections)"
   ]
  },
  {
   "cell_type": "code",
   "execution_count": null,
   "id": "f064f262",
   "metadata": {},
   "outputs": [],
   "source": []
  }
 ],
 "metadata": {
  "kernelspec": {
   "display_name": "Python 3 (ipykernel)",
   "language": "python",
   "name": "python3"
  },
  "language_info": {
   "codemirror_mode": {
    "name": "ipython",
    "version": 3
   },
   "file_extension": ".py",
   "mimetype": "text/x-python",
   "name": "python",
   "nbconvert_exporter": "python",
   "pygments_lexer": "ipython3",
   "version": "3.9.13"
  }
 },
 "nbformat": 4,
 "nbformat_minor": 5
}
