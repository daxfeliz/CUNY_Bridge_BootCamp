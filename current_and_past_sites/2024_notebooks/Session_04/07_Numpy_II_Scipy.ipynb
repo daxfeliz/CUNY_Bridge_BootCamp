{
 "cells": [
  {
   "cell_type": "markdown",
   "metadata": {},
   "source": [
    "# Fourth Session, Notebook # 7:  Continuing with Numpy and Introduction to Scipy\n",
    "\n",
    "## Today's agenda:\n",
    "0. __Workshop Overview__:\n",
    "    * __When__: August 15th, 12:30pm-5pm\n",
    "    * __Where__: CUNY Graduate Center, Room 5382\n",
    "    * __What__: Today we will continue to explore Numpy and introduce Scipy.\n",
    "    * __Want__ to lead a session for a topic? Some Days there will be small hack sessions for people to discuss problems they're working on.\n",
    "    * __Online Resources__:  __https://daxfeliz.github.io/cunybridgebootcamp/__\n",
    "    * __Program Schedule__: __https://tinyurl.com/mu88x9xc__\n",
    "&nbsp;\n",
    "\n",
    "1. __This session__:\n",
    "* Learning about the Python libraries for\n",
    "    * Numerical Python (Numpy), for doing math-y things!\n",
    "    * Scientific Python (Scipy), for doing science-y things!\n",
    "</br>\n",
    "&nbsp;\n",
    "\n",
    "2. __Next session__:\n",
    "    * Practicing with Sys in Python and writing our own Python scripts! __Make sure you bring your laptop to this session and future sessions__.\n"
   ]
  },
  {
   "cell_type": "markdown",
   "metadata": {},
   "source": [
    "# Numpy II\n",
    "\n",
    "Last time in [Session 4, notebook 6](https://github.com/daxfeliz/cunybridgebootcamp/blob/main/current_and_past_sites/2024_notebooks/Session_04/06_Numpy_Matplotlib.ipynb), we covered `Numpy` and `Matplotlib`. This time we will be focusing on more advanced concepts of `Numpy`."
   ]
  },
  {
   "cell_type": "code",
   "execution_count": 1,
   "metadata": {},
   "outputs": [],
   "source": [
    "# Loading modules\n",
    "%matplotlib inline\n",
    "import numpy as np\n",
    "import matplotlib.pyplot as plt"
   ]
  },
  {
   "cell_type": "markdown",
   "metadata": {},
   "source": [
    "## Review\n",
    "As a review, let's explore some of the concepts that were introduced last time, in `Numpy I`.\n",
    "\n",
    "### Create 1D-arrays\n",
    "We introduced how to create a 1D-array"
   ]
  },
  {
   "cell_type": "code",
   "execution_count": 2,
   "metadata": {
    "jupyter": {
     "outputs_hidden": false
    }
   },
   "outputs": [
    {
     "name": "stdout",
     "output_type": "stream",
     "text": [
      "x: [ 1.  2.  3.  5.  6.  7.  8. 10.]\n"
     ]
    }
   ],
   "source": [
    "x = np.array([1,2,3,5,6,7,8,10],dtype=float)\n",
    "print('x:',x)"
   ]
  },
  {
   "cell_type": "code",
   "execution_count": 70,
   "metadata": {
    "jupyter": {
     "outputs_hidden": false
    }
   },
   "outputs": [
    {
     "name": "stdout",
     "output_type": "stream",
     "text": [
      "y: [0 1 2 3 4 5 6 7 8 9]\n"
     ]
    }
   ],
   "source": [
    "y = np.arange(10,dtype=int)\n",
    "print('y:',y)"
   ]
  },
  {
   "cell_type": "code",
   "execution_count": 76,
   "metadata": {
    "jupyter": {
     "outputs_hidden": false
    }
   },
   "outputs": [
    {
     "name": "stdout",
     "output_type": "stream",
     "text": [
      "z: [  0.      3.125   6.25    9.375  12.5    15.625  18.75   21.875  25.\n",
      "  28.125  31.25   34.375  37.5    40.625  43.75   46.875  50.     53.125\n",
      "  56.25   59.375  62.5    65.625  68.75   71.875  75.     78.125  81.25\n",
      "  84.375  87.5    90.625  93.75   96.875 100.   ]\n"
     ]
    }
   ],
   "source": [
    "step = int(100/3)\n",
    "z = np.linspace(0,100,step)\n",
    "print('z:',z)"
   ]
  },
  {
   "cell_type": "code",
   "execution_count": 5,
   "metadata": {
    "jupyter": {
     "outputs_hidden": false
    }
   },
   "outputs": [
    {
     "name": "stdout",
     "output_type": "stream",
     "text": [
      "h: [-0.58204095 -0.15238338 -0.38936716 -0.56493372 -1.30899133  0.82445039\n",
      "  0.61585962  0.3767862  -1.11306149  0.90798861]\n"
     ]
    }
   ],
   "source": [
    "h = np.random.randn(10)\n",
    "print('h:',h)"
   ]
  },
  {
   "cell_type": "markdown",
   "metadata": {},
   "source": [
    "### Handling arrays\n",
    "\n",
    "These are just a few of the different ways to __create__ numpy arrays.\n",
    "\n",
    "You can also use functions like __np.max()__ and __np.min()__ to get the maximum and minimum values, respectively."
   ]
  },
  {
   "cell_type": "code",
   "execution_count": 6,
   "metadata": {
    "jupyter": {
     "outputs_hidden": false
    }
   },
   "outputs": [
    {
     "name": "stdout",
     "output_type": "stream",
     "text": [
      "Min X: 1.000 \t Max X: 10.000\n"
     ]
    }
   ],
   "source": [
    "print('Min X: {0:.3f} \\t Max X: {1:.3f}'.format(np.min(x), np.max(x)) ) \n",
    "#note the format options {0:.3f}, {1:.3f} are used \n",
    "# for printing the 3 decimal places in min/max of x"
   ]
  },
  {
   "cell_type": "markdown",
   "metadata": {},
   "source": [
    "#### Apply mathematical functions"
   ]
  },
  {
   "cell_type": "code",
   "execution_count": 7,
   "metadata": {
    "jupyter": {
     "outputs_hidden": false
    }
   },
   "outputs": [
    {
     "name": "stdout",
     "output_type": "stream",
     "text": [
      "zz: [   4.   28.   90.  400.  684. 1078. 1600. 3100.]\n"
     ]
    }
   ],
   "source": [
    "zz = x**2 + 3*x**3\n",
    "print('zz:',zz)"
   ]
  },
  {
   "cell_type": "markdown",
   "metadata": {},
   "source": [
    "#### Conditionals\n",
    "Find the indices of the elements in an array that meet some criteria.\n",
    "In this example, we're finding all the elements that are within 100 and 500 in array ___\"```zz```\"___."
   ]
  },
  {
   "cell_type": "code",
   "execution_count": 8,
   "metadata": {
    "jupyter": {
     "outputs_hidden": false
    }
   },
   "outputs": [
    {
     "name": "stdout",
     "output_type": "stream",
     "text": [
      "zz_idx: [3]\n",
      "zz[zz_idx]: [400.]\n"
     ]
    }
   ],
   "source": [
    "zz_idx = np.where( (zz>= 100) & (zz <= 500) )[0]\n",
    "print('zz_idx: {0}'.format(zz_idx))\n",
    "\n",
    "print('zz[zz_idx]:',zz[zz_idx])"
   ]
  },
  {
   "cell_type": "markdown",
   "metadata": {},
   "source": [
    "## Manipulating Arrays\n",
    "There are a lot of things we can do to a _numpy array_. "
   ]
  },
  {
   "cell_type": "code",
   "execution_count": 9,
   "metadata": {
    "jupyter": {
     "outputs_hidden": false
    }
   },
   "outputs": [
    {
     "name": "stdout",
     "output_type": "stream",
     "text": [
      "h1: [45 27 23 21 46 14 45 48 43 34 23 42 10 29 43 34 15 33 38 40 42 44 39 33\n",
      " 35 42 30 40 26 33 32 25 35 49 31 40 35 17 35 24 10 18 31 47 27 12 26 42\n",
      " 45 49]\n"
     ]
    }
   ],
   "source": [
    "h1 = np.random.randint(10, 50, 50) # creating array of random integers\n",
    "print('h1:',h1)"
   ]
  },
  {
   "cell_type": "markdown",
   "metadata": {},
   "source": [
    "We can get the overall __size__ and __shape__ of the array.\n",
    "\n",
    "We cane use the functions `numpy.size` and `numpy.shape` to get the total number of elements in an array and the shape of the array, respectively."
   ]
  },
  {
   "cell_type": "code",
   "execution_count": 10,
   "metadata": {
    "jupyter": {
     "outputs_hidden": false
    }
   },
   "outputs": [
    {
     "data": {
      "text/plain": [
       "50"
      ]
     },
     "execution_count": 10,
     "metadata": {},
     "output_type": "execute_result"
    }
   ],
   "source": [
    "np.size(h1)"
   ]
  },
  {
   "cell_type": "code",
   "execution_count": 11,
   "metadata": {
    "jupyter": {
     "outputs_hidden": false
    }
   },
   "outputs": [
    {
     "data": {
      "text/plain": [
       "(50,)"
      ]
     },
     "execution_count": 11,
     "metadata": {},
     "output_type": "execute_result"
    }
   ],
   "source": [
    "h1.shape"
   ]
  },
  {
   "cell_type": "code",
   "execution_count": 12,
   "metadata": {
    "jupyter": {
     "outputs_hidden": false
    }
   },
   "outputs": [
    {
     "name": "stdout",
     "output_type": "stream",
     "text": [
      "A:\n",
      " [[ 1  2  3  4  5]\n",
      " [ 6  7  8  9 10]\n",
      " [12 13 14 16 17]\n",
      " [13 45 67 89 90]]\n"
     ]
    }
   ],
   "source": [
    "#creating a multi-dimensional array (an array with 4 arrays in it, each one with 5 elements)\n",
    "A = np.array([ [1,2,3,4,5],\n",
    "               [6,7,8,9,10],\n",
    "               [12,13,14,16,17],\n",
    "               [13,45,67,89,90] ])\n",
    "print('A:\\n',A)"
   ]
  },
  {
   "cell_type": "code",
   "execution_count": 13,
   "metadata": {
    "jupyter": {
     "outputs_hidden": false
    }
   },
   "outputs": [
    {
     "data": {
      "text/plain": [
       "(4, 5)"
      ]
     },
     "execution_count": 13,
     "metadata": {},
     "output_type": "execute_result"
    }
   ],
   "source": [
    "np.shape(A)"
   ]
  },
  {
   "cell_type": "markdown",
   "metadata": {},
   "source": [
    "You can also __transpose__ array `A`."
   ]
  },
  {
   "cell_type": "code",
   "execution_count": 14,
   "metadata": {
    "jupyter": {
     "outputs_hidden": false
    }
   },
   "outputs": [
    {
     "data": {
      "text/plain": [
       "array([[ 1,  6, 12, 13],\n",
       "       [ 2,  7, 13, 45],\n",
       "       [ 3,  8, 14, 67],\n",
       "       [ 4,  9, 16, 89],\n",
       "       [ 5, 10, 17, 90]])"
      ]
     },
     "execution_count": 14,
     "metadata": {},
     "output_type": "execute_result"
    }
   ],
   "source": [
    "A_t = np.transpose(A)\n",
    "A_t"
   ]
  },
  {
   "cell_type": "code",
   "execution_count": 15,
   "metadata": {},
   "outputs": [
    {
     "data": {
      "text/plain": [
       "(5, 4)"
      ]
     },
     "execution_count": 15,
     "metadata": {},
     "output_type": "execute_result"
    }
   ],
   "source": [
    "np.shape(A_t)"
   ]
  },
  {
   "cell_type": "markdown",
   "metadata": {},
   "source": [
    "Why are `Numpy` arrays better than lists:\n",
    "- Python lists are very _general_.\n",
    "- Lists __do not__ support matrix and dot multiplications, etc.\n",
    "- `Numpy` arrays are memory _efficient_.\n",
    "- Numpy arrays are __statically typed__ and __homogeneous__.\n",
    "- They are fast at mathematical functions.\n",
    "- They can be used in compiled languages, e.g. _C_ and _Fortran_."
   ]
  },
  {
   "cell_type": "markdown",
   "metadata": {},
   "source": [
    "### Array-generating functions\n",
    "For large arrays it is inpractical to initialize the data manually, using normal Python lists. Instead, we can use many of the Numpy functions to generate arrays of different forms."
   ]
  },
  {
   "cell_type": "markdown",
   "metadata": {},
   "source": [
    "#### __numpy.arange__\n",
    "We use this one to create a sequence of ordered elements"
   ]
  },
  {
   "cell_type": "code",
   "execution_count": 16,
   "metadata": {
    "jupyter": {
     "outputs_hidden": false
    }
   },
   "outputs": [
    {
     "data": {
      "text/plain": [
       "array([0, 1, 2, 3, 4, 5, 6, 7, 8, 9])"
      ]
     },
     "execution_count": 16,
     "metadata": {},
     "output_type": "execute_result"
    }
   ],
   "source": [
    "np.arange(0, 10, 1)"
   ]
  },
  {
   "cell_type": "code",
   "execution_count": 17,
   "metadata": {
    "jupyter": {
     "outputs_hidden": false
    }
   },
   "outputs": [
    {
     "data": {
      "text/plain": [
       "array([ 0,  5, 10, 15])"
      ]
     },
     "execution_count": 17,
     "metadata": {},
     "output_type": "execute_result"
    }
   ],
   "source": [
    "np.arange(0, 20, 5)"
   ]
  },
  {
   "cell_type": "code",
   "execution_count": 18,
   "metadata": {
    "jupyter": {
     "outputs_hidden": false
    }
   },
   "outputs": [
    {
     "data": {
      "text/plain": [
       "array([-40, -30, -20, -10,   0,  10,  20])"
      ]
     },
     "execution_count": 18,
     "metadata": {},
     "output_type": "execute_result"
    }
   ],
   "source": [
    "np.arange(-40 ,21, 10)"
   ]
  },
  {
   "cell_type": "markdown",
   "metadata": {},
   "source": [
    "#### linspace and logspace\n",
    "We use these functions to created ordered lists, separated by intervals in __real__- and __log__-space."
   ]
  },
  {
   "cell_type": "code",
   "execution_count": 19,
   "metadata": {
    "jupyter": {
     "outputs_hidden": false
    }
   },
   "outputs": [
    {
     "data": {
      "text/plain": [
       "array([ 0.        ,  1.02040816,  2.04081633,  3.06122449,  4.08163265,\n",
       "        5.10204082,  6.12244898,  7.14285714,  8.16326531,  9.18367347,\n",
       "       10.20408163, 11.2244898 , 12.24489796, 13.26530612, 14.28571429,\n",
       "       15.30612245, 16.32653061, 17.34693878, 18.36734694, 19.3877551 ,\n",
       "       20.40816327, 21.42857143, 22.44897959, 23.46938776, 24.48979592,\n",
       "       25.51020408, 26.53061224, 27.55102041, 28.57142857, 29.59183673,\n",
       "       30.6122449 , 31.63265306, 32.65306122, 33.67346939, 34.69387755,\n",
       "       35.71428571, 36.73469388, 37.75510204, 38.7755102 , 39.79591837,\n",
       "       40.81632653, 41.83673469, 42.85714286, 43.87755102, 44.89795918,\n",
       "       45.91836735, 46.93877551, 47.95918367, 48.97959184, 50.        ])"
      ]
     },
     "execution_count": 19,
     "metadata": {},
     "output_type": "execute_result"
    }
   ],
   "source": [
    "B = np.linspace(0, 50)\n",
    "B"
   ]
  },
  {
   "cell_type": "code",
   "execution_count": 20,
   "metadata": {
    "jupyter": {
     "outputs_hidden": false
    }
   },
   "outputs": [
    {
     "data": {
      "text/plain": [
       "array([  0.        ,   5.26315789,  10.52631579,  15.78947368,\n",
       "        21.05263158,  26.31578947,  31.57894737,  36.84210526,\n",
       "        42.10526316,  47.36842105,  52.63157895,  57.89473684,\n",
       "        63.15789474,  68.42105263,  73.68421053,  78.94736842,\n",
       "        84.21052632,  89.47368421,  94.73684211, 100.        ])"
      ]
     },
     "execution_count": 20,
     "metadata": {},
     "output_type": "execute_result"
    }
   ],
   "source": [
    "B = np.linspace(0, 100, 20)\n",
    "B"
   ]
  },
  {
   "cell_type": "markdown",
   "metadata": {},
   "source": [
    "Array of __25 elements__ from $10^{0}$ to $10^{3}$, with __base of 10__."
   ]
  },
  {
   "cell_type": "code",
   "execution_count": 21,
   "metadata": {
    "jupyter": {
     "outputs_hidden": false
    }
   },
   "outputs": [
    {
     "data": {
      "text/plain": [
       "array([   1.        ,    1.33352143,    1.77827941,    2.37137371,\n",
       "          3.16227766,    4.21696503,    5.62341325,    7.49894209,\n",
       "         10.        ,   13.33521432,   17.7827941 ,   23.71373706,\n",
       "         31.6227766 ,   42.16965034,   56.23413252,   74.98942093,\n",
       "        100.        ,  133.35214322,  177.827941  ,  237.13737057,\n",
       "        316.22776602,  421.69650343,  562.34132519,  749.89420933,\n",
       "       1000.        ])"
      ]
     },
     "execution_count": 21,
     "metadata": {},
     "output_type": "execute_result"
    }
   ],
   "source": [
    "B = np.logspace(0,3,25)\n",
    "B"
   ]
  },
  {
   "cell_type": "markdown",
   "metadata": {},
   "source": [
    "Creating an array of 11 elements from $e^{0}$ to $e^{10}$, with the ```base == numpy.e```"
   ]
  },
  {
   "cell_type": "code",
   "execution_count": 22,
   "metadata": {
    "jupyter": {
     "outputs_hidden": false
    }
   },
   "outputs": [
    {
     "data": {
      "text/plain": [
       "array([1.00000000e+00, 2.71828183e+00, 7.38905610e+00, 2.00855369e+01,\n",
       "       5.45981500e+01, 1.48413159e+02, 4.03428793e+02, 1.09663316e+03,\n",
       "       2.98095799e+03, 8.10308393e+03, 2.20264658e+04])"
      ]
     },
     "execution_count": 22,
     "metadata": {},
     "output_type": "execute_result"
    }
   ],
   "source": [
    "B = np.logspace(0,10,11, base=np.e)\n",
    "B"
   ]
  },
  {
   "cell_type": "markdown",
   "metadata": {},
   "source": [
    "#### Random Data"
   ]
  },
  {
   "cell_type": "code",
   "execution_count": 23,
   "metadata": {},
   "outputs": [],
   "source": [
    "from numpy import random"
   ]
  },
  {
   "cell_type": "code",
   "execution_count": 24,
   "metadata": {
    "jupyter": {
     "outputs_hidden": false
    }
   },
   "outputs": [
    {
     "data": {
      "text/plain": [
       "array([[0.9494147 , 0.47718933, 0.78101033, 0.37334557, 0.69583363],\n",
       "       [0.2691583 , 0.47226168, 0.69526338, 0.06391707, 0.76587249],\n",
       "       [0.98648825, 0.01267067, 0.71217897, 0.97781082, 0.01857856],\n",
       "       [0.13784249, 0.8400203 , 0.76860824, 0.61089512, 0.73386843],\n",
       "       [0.79093466, 0.45996211, 0.03509695, 0.41325853, 0.11075787]])"
      ]
     },
     "execution_count": 24,
     "metadata": {},
     "output_type": "execute_result"
    }
   ],
   "source": [
    "# Uniform random numbers in [0,1]\n",
    "random.rand(5,5)"
   ]
  },
  {
   "cell_type": "code",
   "execution_count": 25,
   "metadata": {
    "jupyter": {
     "outputs_hidden": false
    }
   },
   "outputs": [
    {
     "data": {
      "text/plain": [
       "array([10, 27, 28, 10, 26, 21, 25, 12, 23, 23, 23, 14, 26, 19, 25, 29, 15,\n",
       "       26, 22, 25])"
      ]
     },
     "execution_count": 25,
     "metadata": {},
     "output_type": "execute_result"
    }
   ],
   "source": [
    "# 20 Random integers from 10 to 30\n",
    "random.randint(10,30,20)"
   ]
  },
  {
   "cell_type": "markdown",
   "metadata": {},
   "source": [
    "#### Arrays of `zeros` and `ones`."
   ]
  },
  {
   "cell_type": "code",
   "execution_count": 26,
   "metadata": {
    "jupyter": {
     "outputs_hidden": false
    }
   },
   "outputs": [
    {
     "data": {
      "text/plain": [
       "array([0., 0., 0., 0., 0., 0., 0., 0., 0., 0., 0., 0., 0., 0., 0., 0., 0.,\n",
       "       0., 0., 0.])"
      ]
     },
     "execution_count": 26,
     "metadata": {},
     "output_type": "execute_result"
    }
   ],
   "source": [
    "np.zeros(20)"
   ]
  },
  {
   "cell_type": "markdown",
   "metadata": {},
   "source": [
    "You can use these to populate other arrays"
   ]
  },
  {
   "cell_type": "code",
   "execution_count": 27,
   "metadata": {
    "jupyter": {
     "outputs_hidden": false
    }
   },
   "outputs": [
    {
     "data": {
      "text/plain": [
       "array([1., 1., 1., 1., 1., 1., 1., 1., 1., 1.])"
      ]
     },
     "execution_count": 27,
     "metadata": {},
     "output_type": "execute_result"
    }
   ],
   "source": [
    "nelem = 10\n",
    "C = np.ones(nelem)\n",
    "C"
   ]
  },
  {
   "cell_type": "code",
   "execution_count": 28,
   "metadata": {
    "jupyter": {
     "outputs_hidden": false
    }
   },
   "outputs": [
    {
     "data": {
      "text/plain": [
       "array([0.44480367, 0.47466091, 0.73643389, 0.11647287, 0.37413392,\n",
       "       0.37420561, 0.31607287, 0.84897597, 0.39798464, 0.65899981])"
      ]
     },
     "execution_count": 28,
     "metadata": {},
     "output_type": "execute_result"
    }
   ],
   "source": [
    "for ii in range(C.size):\n",
    "    C[ii] = random.rand()\n",
    "C"
   ]
  },
  {
   "cell_type": "markdown",
   "metadata": {},
   "source": [
    "### Diagonals\n",
    "You can also construct an array with another array as the diagonal"
   ]
  },
  {
   "cell_type": "code",
   "execution_count": 29,
   "metadata": {
    "jupyter": {
     "outputs_hidden": false
    }
   },
   "outputs": [
    {
     "data": {
      "text/plain": [
       "array([[14,  0,  0,  0,  0],\n",
       "       [ 0, 11,  0,  0,  0],\n",
       "       [ 0,  0, 16,  0,  0],\n",
       "       [ 0,  0,  0, 13,  0],\n",
       "       [ 0,  0,  0,  0, 17]])"
      ]
     },
     "execution_count": 29,
     "metadata": {},
     "output_type": "execute_result"
    }
   ],
   "source": [
    "np.diag(random.randint(10,20,5))"
   ]
  },
  {
   "cell_type": "markdown",
   "metadata": {},
   "source": [
    "### Indexing"
   ]
  },
  {
   "cell_type": "markdown",
   "metadata": {},
   "source": [
    "You can choose which values to select.\n",
    "Normally, you select the `rows` first, and then the `cols` of a `numpy.ndarray`."
   ]
  },
  {
   "cell_type": "code",
   "execution_count": 30,
   "metadata": {
    "jupyter": {
     "outputs_hidden": false
    }
   },
   "outputs": [
    {
     "data": {
      "text/plain": [
       "array([[0.32987534, 0.55657289, 0.73831868, 0.14060932, 0.52577884],\n",
       "       [0.48725423, 0.38142286, 0.80359607, 0.28245571, 0.49494251],\n",
       "       [0.42512005, 0.67873319, 0.16949904, 0.16086344, 0.45994391],\n",
       "       [0.19054799, 0.55418566, 0.02980658, 0.0027639 , 0.86161181],\n",
       "       [0.24468683, 0.08599019, 0.95056078, 0.21280402, 0.56728373],\n",
       "       [0.15299404, 0.24151648, 0.48520967, 0.77910036, 0.10106142],\n",
       "       [0.00854928, 0.30597173, 0.49191475, 0.59654343, 0.28994842],\n",
       "       [0.42274338, 0.88499247, 0.0983453 , 0.16103244, 0.05254822],\n",
       "       [0.49822523, 0.90900739, 0.63465555, 0.59479687, 0.17308921],\n",
       "       [0.17466603, 0.96812108, 0.60171367, 0.36495936, 0.6915987 ]])"
      ]
     },
     "execution_count": 30,
     "metadata": {},
     "output_type": "execute_result"
    }
   ],
   "source": [
    "M = random.rand(10,5)\n",
    "M"
   ]
  },
  {
   "cell_type": "markdown",
   "metadata": {},
   "source": [
    "Selecting the 1st row (remember Python uses zero-indexing. The 0th index is the first entry.)\n"
   ]
  },
  {
   "cell_type": "code",
   "execution_count": 31,
   "metadata": {
    "jupyter": {
     "outputs_hidden": false
    }
   },
   "outputs": [
    {
     "data": {
      "text/plain": [
       "array([0.32987534, 0.55657289, 0.73831868, 0.14060932, 0.52577884])"
      ]
     },
     "execution_count": 31,
     "metadata": {},
     "output_type": "execute_result"
    }
   ],
   "source": [
    "M[0,:]"
   ]
  },
  {
   "cell_type": "markdown",
   "metadata": {},
   "source": [
    "The 2nd column"
   ]
  },
  {
   "cell_type": "code",
   "execution_count": 32,
   "metadata": {
    "jupyter": {
     "outputs_hidden": false
    }
   },
   "outputs": [
    {
     "data": {
      "text/plain": [
       "array([0.55657289, 0.38142286, 0.67873319, 0.55418566, 0.08599019,\n",
       "       0.24151648, 0.30597173, 0.88499247, 0.90900739, 0.96812108])"
      ]
     },
     "execution_count": 32,
     "metadata": {},
     "output_type": "execute_result"
    }
   ],
   "source": [
    "M[:,1]"
   ]
  },
  {
   "cell_type": "markdown",
   "metadata": {},
   "source": [
    "Select a range of columns and rows"
   ]
  },
  {
   "cell_type": "code",
   "execution_count": 33,
   "metadata": {
    "jupyter": {
     "outputs_hidden": false
    }
   },
   "outputs": [
    {
     "data": {
      "text/plain": [
       "array([[0.32987534, 0.55657289],\n",
       "       [0.48725423, 0.38142286]])"
      ]
     },
     "execution_count": 33,
     "metadata": {},
     "output_type": "execute_result"
    }
   ],
   "source": [
    "M[0:2, 0:2]"
   ]
  },
  {
   "cell_type": "markdown",
   "metadata": {},
   "source": [
    "You can easily use this to create a __mask__, for when you are __cleaning/filtering__ your data."
   ]
  },
  {
   "cell_type": "code",
   "execution_count": 34,
   "metadata": {
    "jupyter": {
     "outputs_hidden": false
    }
   },
   "outputs": [
    {
     "data": {
      "text/plain": [
       "array([[       nan, 0.25086892, 0.25512148],\n",
       "       [0.83672404,        nan, 0.91349755],\n",
       "       [0.40096655, 0.21814108,        nan]])"
      ]
     },
     "execution_count": 34,
     "metadata": {},
     "output_type": "execute_result"
    }
   ],
   "source": [
    "A = random.rand(3,3)\n",
    "np.fill_diagonal(A, np.nan)\n",
    "A"
   ]
  },
  {
   "cell_type": "code",
   "execution_count": 35,
   "metadata": {
    "jupyter": {
     "outputs_hidden": false
    }
   },
   "outputs": [
    {
     "data": {
      "text/plain": [
       "array([[0, 1, 2],\n",
       "       [3, 4, 5],\n",
       "       [6, 7, 8]])"
      ]
     },
     "execution_count": 35,
     "metadata": {},
     "output_type": "execute_result"
    }
   ],
   "source": [
    "B = np.arange(0,9).reshape((3,3))\n",
    "B"
   ]
  },
  {
   "cell_type": "markdown",
   "metadata": {},
   "source": [
    "Appying the __mask__ from $A \\to B$"
   ]
  },
  {
   "cell_type": "code",
   "execution_count": 36,
   "metadata": {
    "jupyter": {
     "outputs_hidden": false
    }
   },
   "outputs": [
    {
     "data": {
      "text/plain": [
       "array([[False,  True,  True],\n",
       "       [ True, False,  True],\n",
       "       [ True,  True, False]])"
      ]
     },
     "execution_count": 36,
     "metadata": {},
     "output_type": "execute_result"
    }
   ],
   "source": [
    "A_mask = np.isfinite(A)\n",
    "A_mask"
   ]
  },
  {
   "cell_type": "code",
   "execution_count": 37,
   "metadata": {
    "jupyter": {
     "outputs_hidden": false
    }
   },
   "outputs": [
    {
     "data": {
      "text/plain": [
       "array([1, 2, 3, 5, 6, 7])"
      ]
     },
     "execution_count": 37,
     "metadata": {},
     "output_type": "execute_result"
    }
   ],
   "source": [
    "B[A_mask]"
   ]
  },
  {
   "cell_type": "markdown",
   "metadata": {},
   "source": [
    "### Binning Your Data\n",
    "Binning is the process of dividing data into intervals or categories. This technique is useful for summarizing data, reducing noise, and making it easier to visualize and analyze.\n",
    "\n",
    "In Python, you can use the `np.digitize` function from the `numpy` library to bin your data. `np.digitize` returns the indices of the bins to which each value in the input array belongs.\n",
    "\n",
    "Let's see an example of how to bin data and calculate the means and standard deviations of each bin."
   ]
  },
  {
   "cell_type": "code",
   "execution_count": 86,
   "metadata": {},
   "outputs": [
    {
     "name": "stdout",
     "output_type": "stream",
     "text": [
      "Bin Means: [-2.782274809630303, -2.5632248918910663, -2.2303310603326443, -1.8837531448306393, -1.572196392988031, -1.2521672617096176, -0.9275286946199135, -0.6289718623731925, -0.33047508238625495, -0.012944811666564159, 0.32192406798809997, 0.6377612609712927, 0.9423556433240794, 1.266678281476846, 1.5691049228125695, 1.8854250114009365, 2.2194888174650473, 2.45359375699652, 2.727789583292581]\n",
      "\n",
      "Bin Standard Deviations: [0.03933390341007399, 0.0963867078935475, 0.08684578797606467, 0.1010653786580673, 0.08710497855627619, 0.08985440576357573, 0.09068137809573, 0.08873840488871354, 0.08858730746448801, 0.08799985733939841, 0.09053464839378794, 0.09339915716721434, 0.08970709059827157, 0.0921072602438054, 0.09817362582033685, 0.08811463698207657, 0.08612236152477963, 0.08209423458037662, 0.03156553072900126]\n",
      "\n"
     ]
    },
    {
     "data": {
      "image/png": "[encoded data removed]",
      "text/plain": [
       "<Figure size 1000x600 with 1 Axes>"
      ]
     },
     "metadata": {},
     "output_type": "display_data"
    }
   ],
   "source": [
    "import numpy as np\n",
    "import matplotlib.pyplot as plt\n",
    "\n",
    "# Generate some random data\n",
    "np.random.seed(0)  # For reproducibility\n",
    "data = np.random.randn(1000)  # 1000 random numbers from a standard normal distribution\n",
    "\n",
    "# Define the bin edges\n",
    "bins = np.linspace(-3, 3, 20)  # 20 bins between -3 and 3\n",
    "\n",
    "# Use np.digitize to bin the data\n",
    "data_bins = np.digitize(data, bins)\n",
    "\n",
    "# Calculate means and standard deviations for each bin\n",
    "\n",
    "# short way with list comprehension\n",
    "bin_means = [data[data_bins == i].mean() for i in range(1, len(bins)) ]\n",
    "bin_stds = [data[data_bins == i].std() for i in range(1, len(bins))]\n",
    "\n",
    "# long way \n",
    "# bin_means=[]\n",
    "# bin_stds=[]\n",
    "# for i in range(1, len(bins)):\n",
    "#     bin_means.append( data[data_bins == i].mean() )\n",
    "#     bin_stds.append( data[data_bins == i].std() )\n",
    "\n",
    "\n",
    "\n",
    "# Print the bin means and standard deviations\n",
    "print(\"Bin Means:\", bin_means)\n",
    "print('')\n",
    "print(\"Bin Standard Deviations:\", bin_stds)\n",
    "print('')\n",
    "\n",
    "# Plotting the histogram of the original data\n",
    "plt.figure(figsize=(10, 6))\n",
    "plt.hist(data, bins=bins, edgecolor='k', alpha=0.7, label='Data')\n",
    "plt.xlabel('Value')\n",
    "plt.ylabel('Frequency')\n",
    "plt.title('Histogram of Data')\n",
    "plt.legend()\n",
    "plt.show()\n"
   ]
  },
  {
   "cell_type": "markdown",
   "metadata": {},
   "source": [
    "# Let's try another example with X and Y data"
   ]
  },
  {
   "cell_type": "code",
   "execution_count": 97,
   "metadata": {
    "jupyter": {
     "outputs_hidden": false
    }
   },
   "outputs": [
    {
     "name": "stdout",
     "output_type": "stream",
     "text": [
      "bins: [ 0  1  2  3  4  5  6  7  8  9 10 11 12]\n",
      " \n",
      "data: [4.17022005e+00 7.20324493e+00 1.14374817e-03 3.02332573e+00\n",
      " 1.46755891e+00 9.23385948e-01 1.86260211e+00 3.45560727e+00\n",
      " 3.96767474e+00 5.38816734e+00 4.19194514e+00 6.85219500e+00\n",
      " 2.04452250e+00 8.78117436e+00 2.73875932e-01 6.70467510e+00\n",
      " 4.17304802e+00 5.58689828e+00 1.40386939e+00 1.98101489e+00\n",
      " 8.00744569e+00 9.68261576e+00 3.13424178e+00 6.92322616e+00\n",
      " 8.76389152e+00 8.94606664e+00 8.50442114e-01 3.90547832e-01\n",
      " 1.69830420e+00 8.78142503e+00 9.83468338e-01 4.21107625e+00\n",
      " 9.57889530e+00 5.33165285e+00 6.91877114e+00 3.15515631e+00\n",
      " 6.86500928e+00 8.34625672e+00 1.82882773e-01 7.50144315e+00\n",
      " 9.88861089e+00 7.48165654e+00 2.80443992e+00 7.89279328e+00\n",
      " 1.03226007e+00 4.47893526e+00 9.08595503e+00 2.93614148e+00\n",
      " 2.87775339e+00 1.30028572e+00]\n",
      " \n"
     ]
    }
   ],
   "source": [
    "# Creating my bin edges\n",
    "bins = np.arange(0,13)\n",
    "print('bins:',bins)\n",
    "print(' ')\n",
    "\n",
    "\n",
    "# Generating Data\n",
    "np.random.seed(1)\n",
    "data = 10*random.rand(50)\n",
    "print('data:',data)\n",
    "print(' ')"
   ]
  },
  {
   "cell_type": "markdown",
   "metadata": {},
   "source": [
    "# Now I want to bin my data and calculate the mean for each bin"
   ]
  },
  {
   "cell_type": "code",
   "execution_count": 98,
   "metadata": {
    "jupyter": {
     "outputs_hidden": false
    }
   },
   "outputs": [
    {
     "name": "stdout",
     "output_type": "stream",
     "text": [
      "data_bins: [ 5  8  1  4  2  1  2  4  4  6  5  7  3  9  1  7  5  6  2  2  9 10  4  7\n",
      "  9  9  1  1  2  9  1  5 10  6  7  4  7  9  1  8 10  8  3  8  2  5 10  3\n",
      "  3  2]\n"
     ]
    }
   ],
   "source": [
    "# Binning the data\n",
    "data_bins = np.digitize(data, bins)\n",
    "print('data_bins:',data_bins)"
   ]
  },
  {
   "cell_type": "markdown",
   "metadata": {},
   "source": [
    "Calculating the __mean__ for each of the bins"
   ]
  },
  {
   "cell_type": "code",
   "execution_count": null,
   "metadata": {},
   "outputs": [],
   "source": []
  },
  {
   "cell_type": "code",
   "execution_count": 99,
   "metadata": {},
   "outputs": [
    {
     "name": "stdout",
     "output_type": "stream",
     "text": [
      "bins_stat: [  0.51510667   1.5351279    2.66571432   3.34720117   4.24504495\n",
      "   5.43557282   6.85277534   7.51978448   8.60437666   9.55901924\n",
      " -10.         -10.        ]\n"
     ]
    }
   ],
   "source": [
    "# the longer way\n",
    "\n",
    "# Defining statistical function to use\n",
    "stat_func = np.nanmean\n",
    "\n",
    "failval = -10\n",
    "\n",
    "bins_stat = []\n",
    "for ii in range(1,len(bins)):\n",
    "    if len(data[data_bins == ii]) > 0:\n",
    "        bins_stat = np.append(bins_stat, stat_func(data[data_bins == ii]))\n",
    "    else:\n",
    "        bins_stat = np.append(bins_stat, failval)\n",
    "bins_stat = np.asarray(bins_stat)        \n",
    "print('bins_stat:',bins_stat)\n"
   ]
  },
  {
   "cell_type": "code",
   "execution_count": null,
   "metadata": {},
   "outputs": [],
   "source": []
  },
  {
   "cell_type": "code",
   "execution_count": 100,
   "metadata": {
    "jupyter": {
     "outputs_hidden": false
    }
   },
   "outputs": [
    {
     "name": "stdout",
     "output_type": "stream",
     "text": [
      "bins_stat: [  0.51510667   1.5351279    2.66571432   3.34720117   4.24504495\n",
      "   5.43557282   6.85277534   7.51978448   8.60437666   9.55901924\n",
      " -10.         -10.        ]\n"
     ]
    }
   ],
   "source": [
    "# the shorter way\n",
    "\n",
    "# Defining statistical function to use\n",
    "stat_func = np.nanmean\n",
    "\n",
    "failval = -10\n",
    "bins_stat = np.array([stat_func(data[data_bins == ii]) \\\n",
    "                      if len(data[data_bins == ii]) > 0 \\\n",
    "                      else failval \\\n",
    "                      for ii in range(1,len(bins))])\n",
    "print('bins_stat:',bins_stat)"
   ]
  },
  {
   "cell_type": "markdown",
   "metadata": {},
   "source": [
    "# You can put all of this into a function that estimates errors and more..."
   ]
  },
  {
   "cell_type": "code",
   "execution_count": 101,
   "metadata": {},
   "outputs": [],
   "source": [
    "import math\n",
    "\n",
    "def myceil(x, base=10):\n",
    "    \"\"\"\n",
    "    Returns the upper-bound integer of 'x' in base 'base'.\n",
    "\n",
    "    Parameters\n",
    "    ----------\n",
    "    x: float\n",
    "        number to be approximated to closest number to 'base'\n",
    "\n",
    "    base: float\n",
    "        base used to calculate the closest 'largest' number\n",
    "\n",
    "    Returns\n",
    "    -------\n",
    "    n_high: float\n",
    "        Closest float number to 'x', i.e. upper-bound float.\n",
    "\n",
    "    Example\n",
    "    -------\n",
    "    >>>> myceil(12,10)\n",
    "      20\n",
    "    >>>>\n",
    "    >>>> myceil(12.05, 0.1)\n",
    "     12.10000 \n",
    "    \"\"\"\n",
    "    n_high = float(base*math.ceil(float(x)/base))\n",
    "\n",
    "    return n_high\n",
    "\n",
    "def myfloor(x, base=10):\n",
    "    \"\"\"\n",
    "    Returns the lower-bound integer of 'x' in base 'base'\n",
    "\n",
    "    Parameters\n",
    "    ----------\n",
    "    x: float\n",
    "        number to be approximated to closest number of 'base'\n",
    "\n",
    "    base: float\n",
    "        base used to calculate the closest 'smallest' number\n",
    "\n",
    "    Returns\n",
    "    -------\n",
    "    n_low: float\n",
    "        Closest float number to 'x', i.e. lower-bound float.\n",
    "\n",
    "    Example\n",
    "    -------\n",
    "    >>>> myfloor(12, 5)\n",
    "    >>>> 10\n",
    "    \"\"\"\n",
    "    n_low = float(base*math.floor(float(x)/base))\n",
    "\n",
    "    return n_low\n",
    "\n",
    "def Bins_array_create(arr, base=10):\n",
    "    \"\"\"\n",
    "    Generates array between [arr.min(), arr.max()] in steps of `base`.\n",
    "\n",
    "    Parameters\n",
    "    ----------\n",
    "    arr: array_like, Shape (N,...), One-dimensional\n",
    "        Array of numerical elements\n",
    "\n",
    "    base: float, optional (default=10)\n",
    "        Interval between bins\n",
    "\n",
    "    Returns\n",
    "    -------\n",
    "    bins_arr: array_like\n",
    "        Array of bin edges for given arr\n",
    "\n",
    "    \"\"\"\n",
    "    base = float(base)\n",
    "    arr  = np.array(arr)\n",
    "    assert(arr.ndim==1)\n",
    "    arr_min  = myfloor(arr.min(), base=base)\n",
    "    arr_max  = myceil( arr.max(), base=base)\n",
    "    bins_arr = np.arange(arr_min, arr_max+0.5*base, base)\n",
    "\n",
    "    return bins_arr"
   ]
  },
  {
   "cell_type": "code",
   "execution_count": 102,
   "metadata": {},
   "outputs": [],
   "source": [
    "def Mean_std_calc_one_array(x1, y1, arr_len=0, statfunc=np.nanmean,\n",
    "                           failval=np.nan, base=10.0):\n",
    "    \"\"\"\n",
    "    Calculates statistics of two arrays, e.g. scatter,\n",
    "    error in `statfunc`, etc.\n",
    "    \n",
    "    Parameters\n",
    "    ----------\n",
    "    x1: array-like, shape (N,)\n",
    "        array of x-values\n",
    "    \n",
    "    y1: array-like, shape (N,)\n",
    "        array of y-values\n",
    "    \n",
    "    arr_len: int, optional (default = 0)\n",
    "        minimum number of elements in the bin\n",
    "    \n",
    "    statfunc: numpy function, optional (default = numpy.nanmean)\n",
    "        statistical function used to evaluate the bins\n",
    "    \n",
    "    failval: int or float, optional (default = numpy.nan)\n",
    "        Number to use to replace when the number of elements in the \n",
    "        bin is smaller than `arr_len`\n",
    "    \n",
    "    error: string, optional (default = 'std')\n",
    "        type of error to evaluate\n",
    "        Options:\n",
    "            - 'std': Evaluates the standard deviation of the bin\n",
    "            - 'stat': Evaluates the error in the mean/median of each bin\n",
    "            - 'none': Does not calculate the error in `y1`\n",
    "    base: float\n",
    "        Value of bin width in units of that of `x1`\n",
    "    \n",
    "    Returns\n",
    "    --------\n",
    "    x1_stat: array-like, shape (N,)\n",
    "        `stat_func` of each bin in `base` spacings for x1\n",
    "\n",
    "    y1_stat: array-like, shape (N,)\n",
    "        `stat_func` of each bin in `base` spacings for y1\n",
    "    \"\"\"\n",
    "    \n",
    "    x1 = np.asarray(x1)\n",
    "    y1 = np.asarray(y1)\n",
    "    \n",
    "    # The assert statement in Python is used as a debugging aid that \n",
    "    #tests a condition as part of the program's execution. \n",
    "    assert((x1.ndim==1) & (y1.ndim==1))\n",
    "    assert((x1.size >0) & (y1.size>0))\n",
    "    #If the condition evaluates to True, the program continues executing. \n",
    "    # If the condition evaluates to False, an AssertionError is raised, \n",
    "    # and the program stops executing. It is commonly used to catch and \n",
    "    # diagnose bugs by ensuring that certain conditions hold true.\n",
    "    \n",
    "    n_elem = len(x1)\n",
    "    \n",
    "    ## Computing Bins\n",
    "    x1_bins  = Bins_array_create(x1, base=base)\n",
    "    x1_digit = np.digitize(x1, x1_bins)\n",
    "    \n",
    "    ## Computing Statistics in bins\n",
    "    x1_stat = np.array([statfunc(x1[x1_digit==ii]) \n",
    "                                 if len(x1[x1_digit==ii])>arr_len \n",
    "                                 else failval\n",
    "                                 for ii in range(1,x1_bins.size)])\n",
    "    \n",
    "    y1_stat = np.array([statfunc(y1[x1_digit==ii])\n",
    "                                 if len(y1[x1_digit==ii])>arr_len \n",
    "                                 else failval\n",
    "                                 for ii in range(1,x1_bins.size)])\n",
    "    \n",
    "    ## Computing error in the data\n",
    "    stat_err = np.nanstd\n",
    "    y1_err = np.array([stat_err(y1[x1_digit==ii]) \n",
    "                                 if len(y1[x1_digit==ii])>arr_len \n",
    "                                 else failval\n",
    "                                 for ii in range(1,x1_bins.size)])\n",
    "    \n",
    "    return x1_stat, y1_stat, y1_err"
   ]
  },
  {
   "cell_type": "markdown",
   "metadata": {},
   "source": [
    "# __Example of using these functions__:"
   ]
  },
  {
   "cell_type": "code",
   "execution_count": 105,
   "metadata": {
    "jupyter": {
     "outputs_hidden": false
    }
   },
   "outputs": [
    {
     "data": {
      "image/png": "[encoded data removed]",
      "text/plain": [
       "<Figure size 1000x500 with 1 Axes>"
      ]
     },
     "metadata": {},
     "output_type": "display_data"
    }
   ],
   "source": [
    "import numpy as np\n",
    "\n",
    "# Defining arrays\n",
    "\n",
    "x_arr = np.arange(100)\n",
    "np.random.seed(2)\n",
    "y_arr = 50*np.random.randn(x_arr.size)\n",
    "\n",
    "# Computing mean and error in the mean for `x_arr` and `y_arr`\n",
    "x_stat, y_stat, y_err = Mean_std_calc_one_array(x_arr, y_arr,\n",
    "                                               statfunc=np.nanmean,\n",
    "                                               failval=np.nan,\n",
    "                                               base=10)\n",
    "\n",
    "x_stat2, y_stat2, y_err2 = Mean_std_calc_one_array(x_arr, y_arr,\n",
    "                                               statfunc=np.nanmedian,\n",
    "                                               failval=np.nan,\n",
    "                                               base=10)\n",
    "\n",
    "\n",
    "# switch pyplot's style to match seaborn\n",
    "plt.style.use('seaborn-notebook')\n",
    "# switch pyplot's style to match seaborn\n",
    "\n",
    "fig = plt.figure(figsize=(10,5))\n",
    "ax  = fig.add_subplot(111,facecolor='white')\n",
    "ax.plot(x_arr, y_arr, 'ro', label='Data') \n",
    "ax.errorbar(x_stat, y_stat, yerr=y_err, color='blue', marker='o',\n",
    "           linestyle='--',label='Mean')\n",
    "ax.errorbar(x_stat2, y_stat2, yerr=y_err2, color='green', marker='o',\n",
    "           linestyle='--',label='Median')\n",
    "ax.set_xlabel('X axis', fontsize=20)\n",
    "ax.set_ylabel('Y axis', fontsize=20)\n",
    "ax.set_title('Data and the Binned Data', fontsize=24)\n",
    "ax.legend(loc='lower left',fontsize=16,ncol=3)\n",
    "plt.show()"
   ]
  },
  {
   "cell_type": "markdown",
   "metadata": {},
   "source": [
    "# With this function, it is really easy to apply statistics on binned data, as well as to ``estimate errors`` on the data."
   ]
  },
  {
   "cell_type": "markdown",
   "metadata": {},
   "source": [
    "# Reshaping, resizing and stacking arrays\n",
    "\n",
    "## Reshaping arrays is a common operation in data manipulation where you change the shape of an array without changing its data. This is particularly useful when you need to prepare data for machine learning models or when you want to perform specific matrix operations.\n",
    "\n",
    "## Reshaping means changing the number of dimensions and the size of each dimension of an array. The numpy library in Python provides several methods to reshape arrays, including reshape, ravel, flatten, resize, and transpose.\n"
   ]
  },
  {
   "cell_type": "code",
   "execution_count": null,
   "metadata": {},
   "outputs": [],
   "source": []
  },
  {
   "cell_type": "markdown",
   "metadata": {},
   "source": [
    "# 1. Using reshape\n",
    "## The reshape method changes the shape of an array without changing its data. You need to ensure that the total number of elements remains the same."
   ]
  },
  {
   "cell_type": "code",
   "execution_count": 106,
   "metadata": {},
   "outputs": [
    {
     "name": "stdout",
     "output_type": "stream",
     "text": [
      "Original array (1D):\n",
      " [ 0  1  2  3  4  5  6  7  8  9 10 11]\n",
      "\n",
      "Reshaped to 2D (3x4):\n",
      " [[ 0  1  2  3]\n",
      " [ 4  5  6  7]\n",
      " [ 8  9 10 11]]\n",
      "\n",
      "Reshaped to 3D (2x3x2):\n",
      " [[[ 0  1]\n",
      "  [ 2  3]\n",
      "  [ 4  5]]\n",
      "\n",
      " [[ 6  7]\n",
      "  [ 8  9]\n",
      "  [10 11]]]\n"
     ]
    }
   ],
   "source": [
    "import numpy as np\n",
    "\n",
    "# Create a 1D array with 12 elements\n",
    "array_1d = np.arange(12)\n",
    "print(\"Original array (1D):\\n\", array_1d)\n",
    "\n",
    "# Reshape to 2D array (3 rows, 4 columns)\n",
    "array_2d = array_1d.reshape((3, 4))\n",
    "print(\"\\nReshaped to 2D (3x4):\\n\", array_2d)\n",
    "\n",
    "# Reshape to 3D array (2 layers, 3 rows, 2 columns)\n",
    "array_3d = array_1d.reshape((2, 3, 2))\n",
    "print(\"\\nReshaped to 3D (2x3x2):\\n\", array_3d)\n"
   ]
  },
  {
   "cell_type": "markdown",
   "metadata": {},
   "source": [
    "# 2. Using ravel and flatten\n",
    "## Both ravel and flatten convert an array to a 1D array, but they have some differences:\n",
    "\n",
    "## ravel returns a flattened array, but it is a view of the original array whenever possible (i.e., it does not copy the data if not necessary).\n",
    "## flatten always returns a copy of the original array."
   ]
  },
  {
   "cell_type": "code",
   "execution_count": 107,
   "metadata": {},
   "outputs": [
    {
     "name": "stdout",
     "output_type": "stream",
     "text": [
      "Original array (2D):\n",
      " [[1 2 3]\n",
      " [4 5 6]\n",
      " [7 8 9]]\n",
      "\n",
      "Raveled array:\n",
      " [1 2 3 4 5 6 7 8 9]\n",
      "\n",
      "Flattened array:\n",
      " [1 2 3 4 5 6 7 8 9]\n"
     ]
    }
   ],
   "source": [
    "# Create a 2D array\n",
    "array_2d = np.array([[1, 2, 3], [4, 5, 6], [7, 8, 9]])\n",
    "print(\"Original array (2D):\\n\", array_2d)\n",
    "\n",
    "# Ravel the array\n",
    "array_ravel = array_2d.ravel()\n",
    "print(\"\\nRaveled array:\\n\", array_ravel)\n",
    "\n",
    "# Flatten the array\n",
    "array_flatten = array_2d.flatten()\n",
    "print(\"\\nFlattened array:\\n\", array_flatten)\n"
   ]
  },
  {
   "cell_type": "markdown",
   "metadata": {},
   "source": [
    "# 3. Using resize\n",
    "## The resize method changes the shape and size of an array in place. Unlike reshape, it can change the total number of elements, filling with zeros or truncating if necessary"
   ]
  },
  {
   "cell_type": "code",
   "execution_count": 108,
   "metadata": {},
   "outputs": [
    {
     "name": "stdout",
     "output_type": "stream",
     "text": [
      "Original array (1D):\n",
      " [0 1 2 3 4 5]\n",
      "\n",
      "Resized to 2D (3x4):\n",
      " [[0 1 2 3]\n",
      " [4 5 0 0]\n",
      " [0 0 0 0]]\n"
     ]
    }
   ],
   "source": [
    "# Create a 1D array with 6 elements\n",
    "array_1d = np.arange(6)\n",
    "print(\"Original array (1D):\\n\", array_1d)\n",
    "\n",
    "# Resize to 2D array (3 rows, 4 columns)\n",
    "array_1d.resize((3, 4))\n",
    "print(\"\\nResized to 2D (3x4):\\n\", array_1d)\n"
   ]
  },
  {
   "cell_type": "markdown",
   "metadata": {},
   "source": [
    "# 4. Using transpose\n",
    "## The transpose method swaps the axes of an array. This is useful for matrix operations, such as when you need to switch between row-major and column-major order."
   ]
  },
  {
   "cell_type": "code",
   "execution_count": 109,
   "metadata": {},
   "outputs": [
    {
     "name": "stdout",
     "output_type": "stream",
     "text": [
      "Original array (2D):\n",
      " [[1 2 3]\n",
      " [4 5 6]]\n",
      "\n",
      "Transposed array:\n",
      " [[1 4]\n",
      " [2 5]\n",
      " [3 6]]\n"
     ]
    }
   ],
   "source": [
    "# Create a 2D array\n",
    "array_2d = np.array([[1, 2, 3], [4, 5, 6]])\n",
    "print(\"Original array (2D):\\n\", array_2d)\n",
    "\n",
    "# Transpose the array\n",
    "array_transpose = array_2d.transpose()\n",
    "print(\"\\nTransposed array:\\n\", array_transpose)\n"
   ]
  },
  {
   "cell_type": "markdown",
   "metadata": {},
   "source": [
    "# Some more resizing examples:\n",
    "\n",
    "### One can always modify the shape of a `numpy.ndarray`, as well as append it to a pre-existing array."
   ]
  },
  {
   "cell_type": "code",
   "execution_count": 116,
   "metadata": {
    "jupyter": {
     "outputs_hidden": false
    }
   },
   "outputs": [
    {
     "name": "stdout",
     "output_type": "stream",
     "text": [
      "A: \n",
      " [[ 0  1  2  3  4]\n",
      " [10 11 12 13 14]\n",
      " [20 21 22 23 24]\n",
      " [30 31 32 33 34]\n",
      " [40 41 42 43 44]]\n"
     ]
    }
   ],
   "source": [
    "A = np.array([[n+m*10 for n in range(5)] for m in range(5)])\n",
    "print('A: \\n',A)"
   ]
  },
  {
   "cell_type": "code",
   "execution_count": 113,
   "metadata": {},
   "outputs": [
    {
     "name": "stdout",
     "output_type": "stream",
     "text": [
      "n: 5 m: 5\n"
     ]
    }
   ],
   "source": [
    "n, m = A.shape\n",
    "print('n:',n,'m:',m)"
   ]
  },
  {
   "cell_type": "code",
   "execution_count": 117,
   "metadata": {
    "jupyter": {
     "outputs_hidden": false
    }
   },
   "outputs": [
    {
     "name": "stdout",
     "output_type": "stream",
     "text": [
      "B: \n",
      " [[ 0  1  2  3  4 10 11 12 13 14 20 21 22 23 24 30 31 32 33 34 40 41 42 43\n",
      "  44]]\n"
     ]
    }
   ],
   "source": [
    "B = A.reshape((1,n*m))\n",
    "print('B: \\n',B)"
   ]
  },
  {
   "cell_type": "code",
   "execution_count": 118,
   "metadata": {
    "jupyter": {
     "outputs_hidden": false
    }
   },
   "outputs": [
    {
     "name": "stdout",
     "output_type": "stream",
     "text": [
      "A_f: \n",
      " [ 0  1  2  3  4 10 11 12 13 14 20 21 22 23 24 30 31 32 33 34 40 41 42 43\n",
      " 44]\n"
     ]
    }
   ],
   "source": [
    "A_f = A.flatten()\n",
    "print('A_f: \\n',A_f)"
   ]
  },
  {
   "cell_type": "code",
   "execution_count": 122,
   "metadata": {
    "jupyter": {
     "outputs_hidden": false
    }
   },
   "outputs": [
    {
     "name": "stdout",
     "output_type": "stream",
     "text": [
      "C: \n",
      " [0.5507979  0.70814782 0.29090474 0.51082761 0.89294695 0.89629309\n",
      " 0.12558531 0.20724288 0.0514672  0.44080984 0.02987621 0.45683322\n",
      " 0.64914405 0.27848728 0.6762549  0.59086282 0.02398188 0.55885409\n",
      " 0.25925245 0.4151012  0.28352508 0.69313792 0.44045372 0.15686774\n",
      " 0.54464902]\n"
     ]
    }
   ],
   "source": [
    "np.random.seed(3)\n",
    "C = random.rand(A.size)\n",
    "print('C: \\n',C)"
   ]
  },
  {
   "cell_type": "code",
   "execution_count": 123,
   "metadata": {
    "jupyter": {
     "outputs_hidden": false
    }
   },
   "outputs": [
    {
     "data": {
      "text/plain": [
       "(25,)"
      ]
     },
     "execution_count": 123,
     "metadata": {},
     "output_type": "execute_result"
    }
   ],
   "source": [
    "C.shape"
   ]
  },
  {
   "cell_type": "code",
   "execution_count": 125,
   "metadata": {
    "jupyter": {
     "outputs_hidden": false
    }
   },
   "outputs": [
    {
     "name": "stdout",
     "output_type": "stream",
     "text": [
      "D: \n",
      " [[0.00000000e+00 5.50797903e-01]\n",
      " [1.00000000e+00 7.08147823e-01]\n",
      " [2.00000000e+00 2.90904739e-01]\n",
      " [3.00000000e+00 5.10827605e-01]\n",
      " [4.00000000e+00 8.92946954e-01]\n",
      " [1.00000000e+01 8.96293089e-01]\n",
      " [1.10000000e+01 1.25585310e-01]\n",
      " [1.20000000e+01 2.07242878e-01]\n",
      " [1.30000000e+01 5.14672033e-02]\n",
      " [1.40000000e+01 4.40809844e-01]\n",
      " [2.00000000e+01 2.98762109e-02]\n",
      " [2.10000000e+01 4.56833224e-01]\n",
      " [2.20000000e+01 6.49144048e-01]\n",
      " [2.30000000e+01 2.78487283e-01]\n",
      " [2.40000000e+01 6.76254902e-01]\n",
      " [3.00000000e+01 5.90862817e-01]\n",
      " [3.10000000e+01 2.39818824e-02]\n",
      " [3.20000000e+01 5.58854088e-01]\n",
      " [3.30000000e+01 2.59252447e-01]\n",
      " [3.40000000e+01 4.15101197e-01]\n",
      " [4.00000000e+01 2.83525082e-01]\n",
      " [4.10000000e+01 6.93137918e-01]\n",
      " [4.20000000e+01 4.40453718e-01]\n",
      " [4.30000000e+01 1.56867738e-01]\n",
      " [4.40000000e+01 5.44649018e-01]]\n"
     ]
    }
   ],
   "source": [
    "# Stacking the two arrays\n",
    "D = np.column_stack((A_f,C))\n",
    "print('D: \\n',D)"
   ]
  },
  {
   "cell_type": "code",
   "execution_count": 126,
   "metadata": {
    "jupyter": {
     "outputs_hidden": false
    }
   },
   "outputs": [
    {
     "data": {
      "text/plain": [
       "array([[ 2.        ,  0.29090474],\n",
       "       [ 3.        ,  0.51082761],\n",
       "       [ 4.        ,  0.89294695],\n",
       "       [10.        ,  0.89629309],\n",
       "       [11.        ,  0.12558531],\n",
       "       [12.        ,  0.20724288],\n",
       "       [13.        ,  0.0514672 ],\n",
       "       [14.        ,  0.44080984]])"
      ]
     },
     "execution_count": 126,
     "metadata": {},
     "output_type": "execute_result"
    }
   ],
   "source": [
    "# Selecting from 3rd to 11th row (again, recal zero-indexing)\n",
    "D[2:10]"
   ]
  },
  {
   "cell_type": "markdown",
   "metadata": {},
   "source": [
    "# np.concatenate\n",
    "You can also concadenate different arrays! The np.concatenate function is used to join two or more arrays along a specified axis. This function is very useful when you need to combine multiple arrays into one.\n",
    "\n"
   ]
  },
  {
   "cell_type": "code",
   "execution_count": 131,
   "metadata": {},
   "outputs": [],
   "source": [
    "a = np.array([[1, 2], [3, 4]])\n",
    "b = np.array([[5,6]])"
   ]
  },
  {
   "cell_type": "code",
   "execution_count": 137,
   "metadata": {
    "jupyter": {
     "outputs_hidden": false
    }
   },
   "outputs": [
    {
     "name": "stdout",
     "output_type": "stream",
     "text": [
      "Concatenated 1D arrays:\n",
      " [[1 2]\n",
      " [3 4]\n",
      " [5 6]]\n"
     ]
    }
   ],
   "source": [
    "print(\"Concatenated 1D arrays:\\n\", np.concatenate((a,b)))"
   ]
  },
  {
   "cell_type": "code",
   "execution_count": 140,
   "metadata": {
    "jupyter": {
     "outputs_hidden": false
    }
   },
   "outputs": [
    {
     "data": {
      "text/plain": [
       "array([[1, 2, 5],\n",
       "       [3, 4, 6]])"
      ]
     },
     "execution_count": 140,
     "metadata": {},
     "output_type": "execute_result"
    }
   ],
   "source": [
    "# Transposing concatenated array\n",
    "\n",
    "np.concatenate((a,b.T), axis=1)"
   ]
  },
  {
   "cell_type": "code",
   "execution_count": null,
   "metadata": {},
   "outputs": [],
   "source": []
  },
  {
   "cell_type": "code",
   "execution_count": 141,
   "metadata": {},
   "outputs": [
    {
     "name": "stdout",
     "output_type": "stream",
     "text": [
      "Concatenated 2D arrays along axis 0:\n",
      " [[1 2]\n",
      " [3 4]\n",
      " [5 6]\n",
      " [7 8]]\n",
      "\n",
      "Concatenated 2D arrays along axis 1:\n",
      " [[1 2 5 6]\n",
      " [3 4 7 8]]\n"
     ]
    }
   ],
   "source": [
    "# Create two 2D arrays\n",
    "array1 = np.array([[1, 2], [3, 4]])\n",
    "array2 = np.array([[5, 6], [7, 8]])\n",
    "\n",
    "# Concatenate along axis 0 (rows)\n",
    "result_axis0 = np.concatenate((array1, array2), axis=0)\n",
    "print(\"Concatenated 2D arrays along axis 0:\\n\", result_axis0)\n",
    "\n",
    "# Concatenate along axis 1 (columns)\n",
    "result_axis1 = np.concatenate((array1, array2), axis=1)\n",
    "print(\"\\nConcatenated 2D arrays along axis 1:\\n\", result_axis1)"
   ]
  },
  {
   "cell_type": "markdown",
   "metadata": {},
   "source": [
    "# Concatenating Arrays with Different Shapes\n",
    "## When concatenating arrays, their shapes must be compatible along the specified axis."
   ]
  },
  {
   "cell_type": "code",
   "execution_count": 143,
   "metadata": {},
   "outputs": [
    {
     "name": "stdout",
     "output_type": "stream",
     "text": [
      "Concatenated arrays with different shapes along axis 0:\n",
      " [[1 2]\n",
      " [3 4]\n",
      " [5 6]]\n",
      "\n",
      "ValueError: all the input array dimensions for the concatenation axis must match exactly, but along dimension 0, the array at index 0 has size 1 and the array at index 1 has size 2\n"
     ]
    }
   ],
   "source": [
    "# Create two 2D arrays with different shapes\n",
    "array1 = np.array([[1, 2]])\n",
    "array2 = np.array([[3, 4], [5, 6]])\n",
    "\n",
    "# Concatenate along axis 0 (rows)\n",
    "result_axis0 = np.concatenate((array1, array2), axis=0)\n",
    "print(\"Concatenated arrays with different shapes along axis 0:\\n\", result_axis0)\n",
    "\n",
    "# Concatenating along axis 1 will raise an error because the \n",
    "# arrays do not have the same size along the concatenation axis\n",
    "try:\n",
    "    result_axis1 = np.concatenate((array1, array2), axis=1)\n",
    "except ValueError as e:\n",
    "    print(\"\\nValueError:\", e)\n"
   ]
  },
  {
   "cell_type": "code",
   "execution_count": null,
   "metadata": {},
   "outputs": [],
   "source": []
  },
  {
   "cell_type": "markdown",
   "metadata": {},
   "source": [
    "# Copy and \"Deep Copy\"\n",
    "Sometimes it is important to create new _copies_ of arrays and other objects. For this reason, one uses __numpy.copy__ to create _new_ copies of arrays"
   ]
  },
  {
   "cell_type": "code",
   "execution_count": 144,
   "metadata": {
    "jupyter": {
     "outputs_hidden": false
    }
   },
   "outputs": [
    {
     "name": "stdout",
     "output_type": "stream",
     "text": [
      "A: \n",
      " [[1 2]\n",
      " [3 4]]\n"
     ]
    }
   ],
   "source": [
    "A = np.array([[1, 2], [3, 4]])\n",
    "print('A: \\n',A)"
   ]
  },
  {
   "cell_type": "code",
   "execution_count": 145,
   "metadata": {},
   "outputs": [
    {
     "name": "stdout",
     "output_type": "stream",
     "text": [
      "B: \n",
      " [[1 2]\n",
      " [3 4]]\n"
     ]
    }
   ],
   "source": [
    "# `B` is now referring to the same array data as `A`\n",
    "B = A\n",
    "print('B: \\n',B)"
   ]
  },
  {
   "cell_type": "markdown",
   "metadata": {},
   "source": [
    "# If we make any changes to `B`, __`A` will also be affected by this change__."
   ]
  },
  {
   "cell_type": "code",
   "execution_count": 146,
   "metadata": {
    "jupyter": {
     "outputs_hidden": false
    }
   },
   "outputs": [
    {
     "name": "stdout",
     "output_type": "stream",
     "text": [
      "B: \n",
      " [[10  2]\n",
      " [ 3  4]]\n"
     ]
    }
   ],
   "source": [
    "B[0,0] = 10\n",
    "print('B: \\n',B)"
   ]
  },
  {
   "cell_type": "code",
   "execution_count": 147,
   "metadata": {
    "jupyter": {
     "outputs_hidden": false
    }
   },
   "outputs": [
    {
     "name": "stdout",
     "output_type": "stream",
     "text": [
      "A: \n",
      " [[10  2]\n",
      " [ 3  4]]\n"
     ]
    }
   ],
   "source": [
    "print('A: \\n',A)"
   ]
  },
  {
   "cell_type": "markdown",
   "metadata": {},
   "source": [
    "# To get a __completely independent, new object__, you would use:"
   ]
  },
  {
   "cell_type": "code",
   "execution_count": 148,
   "metadata": {
    "jupyter": {
     "outputs_hidden": false
    }
   },
   "outputs": [
    {
     "name": "stdout",
     "output_type": "stream",
     "text": [
      "B: \n",
      " [[-5  2]\n",
      " [ 3  4]]\n"
     ]
    }
   ],
   "source": [
    "A = np.array([[1, 2], [3, 4]])\n",
    "B = np.copy(A)\n",
    "\n",
    "# Modifying `B`\n",
    "B[0,0] = -5\n",
    "print('B: \\n',B)"
   ]
  },
  {
   "cell_type": "code",
   "execution_count": 149,
   "metadata": {
    "jupyter": {
     "outputs_hidden": false
    }
   },
   "outputs": [
    {
     "name": "stdout",
     "output_type": "stream",
     "text": [
      "A: \n",
      " [[1 2]\n",
      " [3 4]]\n"
     ]
    }
   ],
   "source": [
    "print('A: \\n',A)"
   ]
  },
  {
   "cell_type": "markdown",
   "metadata": {},
   "source": [
    "# The array `A` was not affected by this changed. This is important when you're constantly re-defining new arrays"
   ]
  },
  {
   "cell_type": "markdown",
   "metadata": {},
   "source": [
    "# Scipy - Library of Scientific Algorithms for Python"
   ]
  },
  {
   "cell_type": "markdown",
   "metadata": {},
   "source": [
    "`SciPy` provides a large number of higher-level scientif algorithms.\n",
    "It includes:\n",
    "- Special Functions\n",
    "- Integration\n",
    "- Optimization\n",
    "- Interpolation\n",
    "- Fourier Transforms\n",
    "- Signal Processing\n",
    "- Linear Algebra\n",
    "- Statistics\n",
    "- Multi-dimensional image processing"
   ]
  },
  {
   "cell_type": "code",
   "execution_count": 64,
   "metadata": {},
   "outputs": [],
   "source": [
    "import scipy as sc"
   ]
  },
  {
   "cell_type": "markdown",
   "metadata": {},
   "source": [
    "## Interpolation\n",
    "You can use `Scipy` to interpolate your data.\n",
    "You would use the `interp1d` function to interpolate your function."
   ]
  },
  {
   "cell_type": "code",
   "execution_count": 65,
   "metadata": {},
   "outputs": [],
   "source": [
    "from scipy.interpolate import interp1d"
   ]
  },
  {
   "cell_type": "code",
   "execution_count": 66,
   "metadata": {},
   "outputs": [],
   "source": [
    "def sine_function(x):\n",
    "    \"\"\"\n",
    "    Computes the sine of an array of values.\n",
    "    \n",
    "    Parameters:\n",
    "    x (array-like): Input array of values.\n",
    "    \n",
    "    Returns:\n",
    "    array-like: Sine of the input values.\n",
    "    \"\"\"\n",
    "    return np.sin(x)"
   ]
  },
  {
   "cell_type": "code",
   "execution_count": 165,
   "metadata": {},
   "outputs": [
    {
     "data": {
      "image/png": "[encoded data removed]",
      "text/plain": [
       "<Figure size 1500x600 with 1 Axes>"
      ]
     },
     "metadata": {},
     "output_type": "display_data"
    }
   ],
   "source": [
    "# Generate sample data\n",
    "n = np.linspace(0, 10, 10) # Create an array of integers from 0 to 9\n",
    "x = np.linspace(0, 10, 100)  # Create an array of 100 evenly spaced values between 0 and 9\n",
    "\n",
    "\n",
    "y_meas = sine_function(n) + 0.05 * np.random.randn(len(n)) # Add noise to sine values\n",
    "y_real = sine_function(x)  # Compute the true sine values without noise\n",
    "\n",
    "# Perform linear interpolation\n",
    "linear_interpolation = interp1d(n, y_meas)  # Create a linear interpolation function\n",
    "y_interp1 = linear_interpolation(x)  # Interpolate at the new x values\n",
    "\n",
    "# Perform cubic interpolation\n",
    "cubic_interpolation = interp1d(n, y_meas, kind='cubic')  # Create a cubic interpolation function\n",
    "y_interp2 = cubic_interpolation(x)  # Interpolate at the new x values\n",
    "\n",
    "fig, ax = plt.subplots(figsize=(15,6))\n",
    "ax.set_facecolor('white')\n",
    "ax.scatter(n, y_meas, marker='o',color='blue', s=10**2, label='noisy data') # Plot noisy data\n",
    "ax.plot(x, y_real, color='black', linewidth=2, label='True Function')  # Plot true sine function\n",
    "ax.plot(x, y_interp1, color='red', label='Linear Interpolation')  # Plot linear interpolation\n",
    "ax.plot(x, y_interp2, color='green', label='Cubic Interpolation')  # Plot cubic interpolation\n",
    "\n",
    "# Add legend and labels\n",
    "ax.tick_params(axis='both', which='major', labelsize=20)\n",
    "ax.tick_params(axis='both', which='minor', labelsize=15)\n",
    "plt.show()"
   ]
  },
  {
   "cell_type": "markdown",
   "metadata": {},
   "source": [
    "# __So that's it for today's lesson__"
   ]
  },
  {
   "cell_type": "markdown",
   "metadata": {},
   "source": [
    "# Next session:\n",
    "- Advanced Visualization\n",
    "- Seaborn"
   ]
  },
  {
   "cell_type": "code",
   "execution_count": null,
   "metadata": {},
   "outputs": [],
   "source": []
  }
 ],
 "metadata": {
  "kernelspec": {
   "display_name": "Python 3 (ipykernel)",
   "language": "python",
   "name": "python3"
  },
  "language_info": {
   "codemirror_mode": {
    "name": "ipython",
    "version": 3
   },
   "file_extension": ".py",
   "mimetype": "text/x-python",
   "name": "python",
   "nbconvert_exporter": "python",
   "pygments_lexer": "ipython3",
   "version": "3.9.13"
  }
 },
 "nbformat": 4,
 "nbformat_minor": 4
}
