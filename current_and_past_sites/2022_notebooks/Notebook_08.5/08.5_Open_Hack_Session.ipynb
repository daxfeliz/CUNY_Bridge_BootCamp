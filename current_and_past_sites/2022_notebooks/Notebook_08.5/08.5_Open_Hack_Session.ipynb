{
 "cells": [
  {
   "cell_type": "markdown",
   "metadata": {},
   "source": [
    "# Session 8.5 - <span style=\"color:red\">Open Hack Session</span>"
   ]
  },
  {
   "cell_type": "markdown",
   "metadata": {},
   "source": [
    "## Today's Agenda\n",
    "- Pitch your projects\n",
    "- You can get help with programming questions\n",
    "- etc.\n",
    "\n",
    "Fill out the Google Doc using the following link: [https://docs.google.com/document/d/1FmIJNO8n92sc-oF39BJVXXtZtadgNYm4BAen83hJ3Vg/edit)"
   ]
  },
  {
   "cell_type": "code",
   "execution_count": null,
   "metadata": {},
   "outputs": [],
   "source": []
  }
 ],
 "metadata": {
  "kernelspec": {
   "display_name": "Python 3",
   "language": "python",
   "name": "python3"
  },
  "language_info": {
   "codemirror_mode": {
    "name": "ipython",
    "version": 3
   },
   "file_extension": ".py",
   "mimetype": "text/x-python",
   "name": "python",
   "nbconvert_exporter": "python",
   "pygments_lexer": "ipython3",
   "version": "3.8.3"
  }
 },
 "nbformat": 4,
 "nbformat_minor": 2
}
