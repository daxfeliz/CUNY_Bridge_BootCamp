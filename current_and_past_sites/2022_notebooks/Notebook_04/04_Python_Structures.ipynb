{
 "cells": [
  {
   "cell_type": "markdown",
   "metadata": {},
   "source": [
    "# Session 4 - Python\n",
    "\n",
    "Today we will cover some basic python techniques and structures that are really useful for analyzing data\n",
    "\n",
    "## Today's Agenda\n",
    "* Basics of Python\n",
    "* List Comprehension\n",
    "* Dictionaries\n",
    "* Functions\n",
    "* Classes"
   ]
  },
  {
   "cell_type": "markdown",
   "metadata": {},
   "source": [
    "# Basics of Python\n",
    "\n",
    "## The minimal Python script\n",
    "Unlike many other languages, a simple Python script does not require any sort of header information in the code. So, we can look at the standard programming example, Hello World, in Python (below). Here we're simply printing to screen. If we put that single line into a blank file (called, say, HelloWorld.py]) and then run that in the command line by typing 'python HelloWorld.py' the script should run with no problems. This also shows off the first Python function, print, which can be used to print strings or numbers."
   ]
  },
  {
   "cell_type": "code",
   "execution_count": 4,
   "metadata": {},
   "outputs": [
    {
     "name": "stdout",
     "output_type": "stream",
     "text": [
      "Hello World!\n"
     ]
    }
   ],
   "source": [
    "print(\"Hello World!\") "
   ]
  },
  {
   "cell_type": "markdown",
   "metadata": {},
   "source": [
    "## There are different types of object classes in Python. Below are a few examples:"
   ]
  },
  {
   "cell_type": "code",
   "execution_count": 2,
   "metadata": {},
   "outputs": [
    {
     "name": "stdout",
     "output_type": "stream",
     "text": [
      "<class 'str'>\n"
     ]
    }
   ],
   "source": [
    "print( type(\"Hello World\") ) #'str' is short for string"
   ]
  },
  {
   "cell_type": "code",
   "execution_count": 3,
   "metadata": {},
   "outputs": [
    {
     "name": "stdout",
     "output_type": "stream",
     "text": [
      "<class 'int'>\n",
      "<class 'float'>\n"
     ]
    }
   ],
   "source": [
    "print( type(1) ) # 'int' is short for integer\n",
    "print( type(1.25) ) # float is for numbers that have digits (AKA floating numbers)"
   ]
  },
  {
   "cell_type": "markdown",
   "metadata": {},
   "source": [
    "There are, however, a few lines that you will usually see in a Python script. The first line often starts with \"#!\" and is called the \"shebang\". For a Python script (a .py file), an example of the shebang line would be \"#!/usr/bin/env python\"\n",
    "\n",
    "Within Python, any line that starts with # is a comment, and won't be executed when running the script. The shebang, though, is there for the shell. If you run the script by calling python explicitly, then the script will be executed in Python. If, however, you want to make the script an executable (which can be run just by typing \"./HelloWorld.py\") then the shell won't know what language the script should be run in. This is the information included in the shebang line. You don't need it, in general, but it's a good habit to have in case you ever decide to run a script as an executable.\n",
    "\n",
    "Another common thing at the starts of scripts is several lines that start with 'import'. These lines allow you to allow import individual functions or entire modules (files that contain multiple functions). These can be those you write yourself, or things like numpy, matplotlib, etc."
   ]
  },
  {
   "cell_type": "markdown",
   "metadata": {},
   "source": [
    "## Python variables\n",
    "\n",
    "Some languages require that every variable be defined by a variable type. For example, in C++, you have to define a variable type, first. For example a line like \"int x\" would define the variable x, and specify that it be an an integer. Python, however, using dynamic typing. That means that variable types are entirely defined by what the variable is stored.\n",
    "\n",
    "In the below example, we can see a few things happening. First of all, we can see that x behaves initally as a number (specifically, an integer, which is why 42/4=10). However, we can put a string in there instead with no problems. However, we can't treat it as a number anymore and add to it.\n",
    "\n",
    "Try \"Un-Commenting\" the 5th line (print x+10) by removing the # to the front of that line, and we'll see that Python will still add *strings* to it."
   ]
  },
  {
   "cell_type": "code",
   "execution_count": 13,
   "metadata": {},
   "outputs": [
    {
     "name": "stdout",
     "output_type": "stream",
     "text": [
      "42 <class 'int'>\n",
      "52 <class 'int'>\n",
      "10.5 <class 'float'>\n",
      "42 <class 'str'>\n",
      "4210 <class 'str'>\n"
     ]
    }
   ],
   "source": [
    "#with numbers we can do numerical operations\n",
    "x=42\n",
    "print(x, type(x))\n",
    "print (x+10, type(x+10))\n",
    "print (x/4, type(x/4))# since this value is not an integer, Python will convert it to a float object\n",
    "\n",
    "# we can also do add strings together although it won't change the content of the strings \n",
    "# but rather append them together\n",
    "x=\"42\"\n",
    "print(x, type(x))\n",
    "# print (x+10) # Note: you cannot add strings (inputs that are surrounded by quotes) to non-string objects\n",
    "print (x+\"10\", type(x+\"10\"))\n",
    "\n",
    "# Note: these numerical operations won't work on strings\n",
    "# print (x-\"10\")\n",
    "# print (x*\"10\")"
   ]
  },
  {
   "cell_type": "markdown",
   "metadata": {},
   "source": [
    "# Booleans\n",
    "Booleans have a one of two states,\"True\" or \"False\". Try setting a variable equal to True or False in the box below - you should see Python \"color\" the word to indicate syntactically that it is a special word in Python that has a specific meaning."
   ]
  },
  {
   "cell_type": "code",
   "execution_count": 43,
   "metadata": {},
   "outputs": [
    {
     "name": "stdout",
     "output_type": "stream",
     "text": [
      "True <class 'bool'> False <class 'bool'>\n"
     ]
    }
   ],
   "source": [
    "T = True\n",
    "F = False \n",
    "\n",
    "print(T,type(T),F,type(F))"
   ]
  },
  {
   "cell_type": "code",
   "execution_count": null,
   "metadata": {},
   "outputs": [],
   "source": []
  },
  {
   "cell_type": "markdown",
   "metadata": {},
   "source": [
    "## Lists\n",
    "The basic way for storing larger amounts of data in Python (and without using other modules like numpy) is Python's default option, lists. A list is, by its definition, one dimensional. If we'd like to store more dimensions, then we are using what are referred to as lists of lists. This is *not* the same thing as an array, which is what numpy will use. Let's take a look at what a list does.\n",
    "\n",
    "We'll start off with a nice simple list below. Here the list stores integers. Printing it back, we get exactly what we expect. However, because it's being treated as a list, not an array, it gets a little bit weird when we try to do addition or multiplication. Feel free to try changing the operations that we're using and see what causes errors, and what causes unexpected results."
   ]
  },
  {
   "cell_type": "code",
   "execution_count": 15,
   "metadata": {},
   "outputs": [
    {
     "name": "stdout",
     "output_type": "stream",
     "text": [
      "[1, 2, 3]\n",
      "[4, 5, 6]\n",
      "[1, 2, 3, 1, 2, 3]\n",
      "[1, 2, 3, 4, 5, 6]\n",
      "[4, 5, 6, 1, 2, 3]\n"
     ]
    }
   ],
   "source": [
    "x=[1, 2, 3]\n",
    "y=[4, 5, 6]\n",
    "print (x)\n",
    "print (y)\n",
    "\n",
    "# what happens when we perform numerical operations on a list?\n",
    "\n",
    "print (x*2) # this will repeat the contents of the list twice, instead of multiplying each entry by 2\n",
    "print (x+y) # this will append the y list to the x list, instead of adding each entry to each other\n",
    "print (y+x) # similar as above except we are now appending the x list to the y list"
   ]
  },
  {
   "cell_type": "markdown",
   "metadata": {},
   "source": [
    "We can also set up a quick list if we want to using the range function. If we use just a single number, then we'll get a list of integers from 0 to 1 less than the number we gave it.\n",
    "\n",
    "If we want a bit fancier of a list, then we can also include the number to start at (first parameter) and the step size (last parameter). All three of these have to be integers.\n",
    "\n",
    "If we need it, we can also set up blank lists."
   ]
  },
  {
   "cell_type": "code",
   "execution_count": 16,
   "metadata": {},
   "outputs": [
    {
     "name": "stdout",
     "output_type": "stream",
     "text": [
      "[ 0.  1.  2.  3.  4.  5.  6.  7.  8.  9. 10.]\n"
     ]
    }
   ],
   "source": [
    "import numpy as np\n",
    "\n",
    "\n",
    "print(np.linspace(0,10,11))\n"
   ]
  },
  {
   "cell_type": "markdown",
   "metadata": {},
   "source": [
    "If we want to, we can refer to subsets of the list. For just a single term, we can just use the number corresponding to that position. An important thing with Python is that the list index starts at 0, not at 1, starting from the first term. If we're more concerned about the last number in the list, then we can use negative numbers as the index. The last item in the list is -1, the item before that is -2, and so on.\n",
    "\n",
    "\n",
    "We can also select a set of numbers by using a : to separate list indices. If you use this, and don't specify first or last index, it will presume you meant the start or end of the list, respectively.\n",
    "\n",
    "After you try running the sample examples below, try to get the following results:\n",
    "* [6] (using two methods)\n",
    "* [3,4,5,6]\n",
    "* [0,1,2,3,4,5,6]\n",
    "* [7,8,9]"
   ]
  },
  {
   "cell_type": "code",
   "execution_count": 18,
   "metadata": {},
   "outputs": [
    {
     "name": "stdout",
     "output_type": "stream",
     "text": [
      "[ 0.  1.  2.  3.  4.  5.  6.  7.  8.  9. 10.]\n",
      "First value 0.0\n",
      "Last value 10.0\n",
      "First 5 values [0. 1. 2. 3. 4.]\n",
      "Fourth to sixth values [3. 4.]\n"
     ]
    }
   ],
   "source": [
    "# x=range(1,11)\n",
    "x=np.linspace(0,10,11)\n",
    "print (x)\n",
    "print (\"First value\", x[0])\n",
    "print (\"Last value\", x[-1])\n",
    "print ('First 5 values', x[0:5])\n",
    "print (\"Fourth to sixth values\", x[3:5])\n"
   ]
  },
  {
   "cell_type": "markdown",
   "metadata": {},
   "source": [
    "## Modifying lists\n",
    "\n",
    "The simplest change we can make to a list is to change it at a specific index just be redefining it, like in the second line in the code below.\n",
    "\n",
    "There's three other handy ways to modify a list. append will add whatever we want as the next item in the list, but this means if we're adding more than a single value, it will add a list into our list, which may not always be what we want.\n",
    "\n",
    "extend will expand the list to include the additional values, but only if it's a list, it won't work on a single integer (go ahead and try that).\n",
    "\n",
    "Finally, insert will let us insert a value anywhere within the list. To do this, it requires a number for what spot in the list it should go, and also what we want to add into the list."
   ]
  },
  {
   "cell_type": "code",
   "execution_count": 21,
   "metadata": {},
   "outputs": [
    {
     "name": "stdout",
     "output_type": "stream",
     "text": [
      "[1, 2, 8, 4, 5]\n",
      "Testing append\n",
      "[1, 2, 8, 4, 5, 6]\n",
      "[1, 2, 8, 4, 5, 6, [7, 8]]\n",
      "Testing extend\n",
      "[1, 2, 3, 4, 5, 7, 8]\n",
      "Testing insert\n",
      "[1, 2, 'in', 3, 4, 5]\n"
     ]
    }
   ],
   "source": [
    "x=[1,2,3,4,5]\n",
    "\n",
    "# let's change the 3rd element from 3 to 8\n",
    "x[2]=8\n",
    "print (x)\n",
    "\n",
    "# let's append the number 6 to our list\n",
    "print (\"Testing append\")\n",
    "x.append(6)\n",
    "print (x)\n",
    "\n",
    "# let's append a 2nd list to our list\n",
    "x.append([7,8])\n",
    "print (x)\n",
    "\n",
    "\n",
    "# let's say we want to add a list to our list, not append it. We can use \".extend\"\n",
    "print (\"Testing extend\")\n",
    "x=[1,2,3,4,5]\n",
    "#x.extend(6)\n",
    "#print x\n",
    "x.extend([7,8])\n",
    "print (x)\n",
    "\n",
    "# we can also use '.insert' to inster values to entries in our list\n",
    "print (\"Testing insert\")\n",
    "x=[1,2,3,4,5]\n",
    "x.insert(2, \"in\")\n",
    "print (x)"
   ]
  },
  {
   "cell_type": "markdown",
   "metadata": {},
   "source": [
    "# Loops and List Comprehension\n",
    "\n",
    "Like most languages, we can write loops in Python. One of the most standard loops is a for loop, so we'll focus on that one. Below is a 'standard' way of writing a 'for' loop. We'll do something simple, where all we want is to get the square of each number in the array."
   ]
  },
  {
   "cell_type": "code",
   "execution_count": 24,
   "metadata": {},
   "outputs": [
    {
     "name": "stdout",
     "output_type": "stream",
     "text": [
      "[0.0, 1.0, 4.0, 9.0, 16.0, 25.0, 36.0, 49.0, 64.0, 81.0, 100.0]\n"
     ]
    }
   ],
   "source": [
    "x=np.linspace(0,10,11)\n",
    "\n",
    "#let's make a blank list that we'll append to.\n",
    "x_2=[]\n",
    "\n",
    "# we can append new numbers to our blank list using a \"for loop\" which will look at every entry in the list independently\n",
    "for i in x:\n",
    "    i_2=i*i\n",
    "    x_2.append(i_2)\n",
    "print (x_2)"
   ]
  },
  {
   "cell_type": "markdown",
   "metadata": {},
   "source": [
    "# Let's say we only want to perform an operation on the first 5 elements in x, we can run our for loop like so with the \"range\" command"
   ]
  },
  {
   "cell_type": "code",
   "execution_count": 26,
   "metadata": {},
   "outputs": [
    {
     "name": "stdout",
     "output_type": "stream",
     "text": [
      "[0.0, 1.0, 4.0, 9.0, 16.0]\n",
      "[9.0, 16.0, 25.0, 36.0]\n"
     ]
    }
   ],
   "source": [
    "x_2=[]\n",
    "for i in range(5):\n",
    "    x_2.append(x[i]*i)\n",
    "print(x_2)    \n",
    "\n",
    "# we can also do this for different ranges\n",
    "\n",
    "x_2=[]\n",
    "for i in range(3,7):\n",
    "    x_2.append(x[i]*i)\n",
    "print(x_2)    \n",
    "    "
   ]
  },
  {
   "cell_type": "markdown",
   "metadata": {},
   "source": [
    "While that loop works, even this pretty simple example can be condensed into something a bit shorter. We have to set up a blank list, and then after that, the loop itself was 3 lines, so just getting the squares of all these values took 4 lines. We can do it in one with list comprehension.\n",
    "\n",
    "This is basically a different way of writing a for loop, and will return a list, so we don't have to set up an empty list for the results."
   ]
  },
  {
   "cell_type": "code",
   "execution_count": 27,
   "metadata": {},
   "outputs": [
    {
     "name": "stdout",
     "output_type": "stream",
     "text": [
      "[ 0.  1.  2.  3.  4.  5.  6.  7.  8.  9. 10.]\n",
      "[0.0, 1.0, 4.0, 9.0, 16.0, 25.0, 36.0, 49.0, 64.0, 81.0, 100.0]\n"
     ]
    }
   ],
   "source": [
    "x=np.linspace(0,10,11)\n",
    "print (x)\n",
    "x_2=[i*i for i in x]\n",
    "print (x_2)"
   ]
  },
  {
   "cell_type": "markdown",
   "metadata": {},
   "source": [
    "# Dictionaries\n",
    "\n",
    "Dictionaries are another way of storing a large amount of data in Python, except instead of being referenced by an ordered set of numbers like in a list, they are referenced by either strings/characters or numbers, referred to as keys."
   ]
  },
  {
   "cell_type": "code",
   "execution_count": 28,
   "metadata": {},
   "outputs": [
    {
     "name": "stdout",
     "output_type": "stream",
     "text": [
      "42\n"
     ]
    }
   ],
   "source": [
    "x={}\n",
    "x['answer']=42\n",
    "print (x['answer'])"
   ]
  },
  {
   "cell_type": "markdown",
   "metadata": {},
   "source": [
    "These are particularly useful if you'll have a handful of values you'd like to call back to often. For an astronomy example, we can set up a dictionary that contains the absolute magnitude of the Sun in a bunch of bands (from Binney & Merrifield). We can now have a code that easily calls absolute magnitudes whenever needed using that dictionary.\n",
    "\n",
    "We can also list out the dictionary, if needed, with AbMag.items(). There's some other tools for more advanced tricks with dictionaries, but this covers the basics."
   ]
  },
  {
   "cell_type": "code",
   "execution_count": 34,
   "metadata": {},
   "outputs": [
    {
     "name": "stdout",
     "output_type": "stream",
     "text": [
      "4.83\n",
      "dict_items([('U', 5.61), ('B', 5.48), ('V', 4.83), ('R', 4.42), ('I', 4.08)])\n",
      "dict_keys(['U', 'B', 'V', 'R', 'I'])\n",
      "dict_values([5.61, 5.48, 4.83, 4.42, 4.08])\n"
     ]
    }
   ],
   "source": [
    "AbMag={'U':5.61, 'B':5.48, 'V':4.83, 'R':4.42, 'I':4.08}\n",
    "\n",
    "# we can print specific entries by using a specific key:\n",
    "print(AbMag['V'])\n",
    "\n",
    "print (AbMag.items()) #for showing all entries\n",
    "print (AbMag.keys()) # for showing all keys\n",
    "print (AbMag.values()) #for showing all values\n",
    "\n"
   ]
  },
  {
   "cell_type": "markdown",
   "metadata": {},
   "source": [
    "# Functions\n",
    "\n",
    "At a certain point you'll be writing the same bits of code over and over again. That means that if you want to update it, you'll have to update it in every single spot you did the same thing. This is.... less than optimal use of time, and it also means it's really easy to screw up by forgetting to keep one spot the same as the rest.\n",
    "\n",
    "We can try out a function by writing a crude function for the sum of a geometric series.\n",
    "$$\\frac{1}{r} + \\frac{1}{r^2} + \\frac{1}{r^3} + \\frac{1}{r^4} + \\ldots $$\n",
    "\n",
    "Conveniently, so long as r is larger than 1, there's a known solution to this series. We can use that to see that this function works.\n",
    "$$ \\frac{1}{r-1} $$\n",
    "\n",
    "This means we can call the function repeatedly and not need to change anything. In this case, you can try using this GeoSum function for several different numbers (remember, r>1), and see how closely this works, by just changing TermValue"
   ]
  },
  {
   "cell_type": "code",
   "execution_count": 40,
   "metadata": {},
   "outputs": [
    {
     "name": "stdout",
     "output_type": "stream",
     "text": [
      "0.9990234375 1.0\n"
     ]
    }
   ],
   "source": [
    "def GeoSum(r):\n",
    "    powers=range(1,11,1) #set up a list for the exponents 1 to 10\n",
    "    terms=[(1./(r**x)) for x in powers] #calculate each term in the series\n",
    "    return sum(terms) #return the sum of the list\n",
    "\n",
    "TermValue=2\n",
    "print (GeoSum(TermValue), (1.)/(TermValue-1))"
   ]
  },
  {
   "cell_type": "markdown",
   "metadata": {},
   "source": [
    "# Classes\n",
    "\n",
    "To steal a good line for this, [\"Classes can be thought of as blueprints for creating objects.\"](https://jeffknupp.com/blog/2014/06/18/improve-your-python-python-classes-and-object-oriented-programming/)\n",
    "\n",
    "With a class, we can create an object with a whole set of properties that we can access. This can be very useful when you want to deal with many objects with the same set of parameters, rather than trying to keep track of related variables over multiple lists, or even just having a single object's properties all stored in some hard to manage list or dictionary.\n",
    "\n",
    "Here we'll just use a class that's set up to do some basic math. Note that the class consists of several smaller functions inside of it. The first function, called __init__, is going to be run as soon as we create an object belonging to this class, and so that'll create two attributes to that object, value and square. The other function, powerraise, only gets called if we call it. Try adding some other subfunctions in there to try this out. They don't need to have anything new passed to them to be run."
   ]
  },
  {
   "cell_type": "code",
   "execution_count": 42,
   "metadata": {},
   "outputs": [
    {
     "name": "stdout",
     "output_type": "stream",
     "text": [
      "3\n",
      "9\n",
      "4\n",
      "81\n",
      "3 ^ 4 = 81\n"
     ]
    }
   ],
   "source": [
    "class SampleClass:\n",
    "    def __init__(self, value): #run on initial setup of the class, provide a value\n",
    "        self.value = value\n",
    "        self.square = value**2\n",
    "        \n",
    "    def powerraise(self, powerval): #only run when we call it, provide powerval\n",
    "        self.powerval=powerval\n",
    "        self.raisedpower=self.value**powerval # In python the exponential operation is \"**\" (not \"^\")\n",
    "\n",
    "MyNum=SampleClass(3)\n",
    "print (MyNum.value)\n",
    "print (MyNum.square)\n",
    "MyNum.powerraise(4)\n",
    "print (MyNum.powerval)\n",
    "print (MyNum.raisedpower)\n",
    "print (MyNum.value,'^',MyNum.powerval,'=',MyNum.raisedpower)"
   ]
  },
  {
   "cell_type": "markdown",
   "metadata": {},
   "source": [
    "Next session, the first modules!"
   ]
  }
 ],
 "metadata": {
  "kernelspec": {
   "display_name": "Python 3",
   "language": "python",
   "name": "python3"
  },
  "language_info": {
   "codemirror_mode": {
    "name": "ipython",
    "version": 3
   },
   "file_extension": ".py",
   "mimetype": "text/x-python",
   "name": "python",
   "nbconvert_exporter": "python",
   "pygments_lexer": "ipython3",
   "version": "3.8.3"
  }
 },
 "nbformat": 4,
 "nbformat_minor": 1
}
